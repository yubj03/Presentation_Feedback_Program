{
 "cells": [
  {
   "cell_type": "code",
   "execution_count": null,
   "id": "e288d088-0d1c-438b-b266-dc5987c20ce6",
   "metadata": {},
   "outputs": [],
   "source": []
  }
 ],
 "metadata": {
  "kernelspec": {
   "display_name": "",
   "name": ""
  },
  "language_info": {
   "name": ""
  }
 },
 "nbformat": 4,
 "nbformat_minor": 5
}
