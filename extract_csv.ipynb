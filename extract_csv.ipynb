{
 "cells": [
  {
   "cell_type": "code",
   "execution_count": 6,
   "id": "f4a445d7",
   "metadata": {},
   "outputs": [],
   "source": [
    "import os\n",
    "import json\n",
    "import pandas as pd\n",
    "\n",
    "json_dir = \"labels/train\"\n",
    "data_list = []\n",
    "\n",
    "for file in os.listdir(json_dir):\n",
    "    if file.endswith(\".json\"):\n",
    "        with open(os.path.join(json_dir, file), 'r', encoding='utf-8') as f:\n",
    "            data = json.load(f)\n",
    "\n",
    "        speaker = data.get(\"speaker\", {})\n",
    "        presentation = data.get(\"presentation\", {})\n",
    "        script = data.get(\"script\", {})\n",
    "        avg = data.get(\"average\", {})\n",
    "\n",
    "        row = {\n",
    "            \"filename\": file,\n",
    "            \"gender\": speaker.get(\"gender\"),\n",
    "            \"start_time\": script.get(\"start_time\"),\n",
    "            \"end_time\": script.get(\"end_time\"),\n",
    "            \"presen_script\": presentation.get(\"presen_script\"),\n",
    "            \"script_stt_txt\": script.get(\"script_stt_txt\"),\n",
    "            \"script_tag_txt\": script.get(\"script_tag_txt\"),\n",
    "            \"word_cnt\": script.get(\"word_cnt\"),\n",
    "            \"audible_word_cnt\": script.get(\"audible_word_cnt\"),\n",
    "            \"sent_cnt\": script.get(\"sent_cnt\"),\n",
    "            \"repeat_scr\": avg.get(\"repeat_scr\"),\n",
    "            \"filler_words_scr\": avg.get(\"filler_words_scr\"),\n",
    "            \"pause_scr\": avg.get(\"pause_scr\"),\n",
    "            \"wrong_scr\": avg.get(\"wrong_scr\"),\n",
    "            \"voc_quality_scr\": avg.get(\"voc_quality_scr\"),\n",
    "            \"voc_speed_sec_scr\": avg.get(\"voc_speed_sec_scr\"),\n",
    "            \"eval_grade\": avg.get(\"eval_grade\")\n",
    "        }\n",
    "\n",
    "        data_list.append(row)\n",
    "\n",
    "df = pd.DataFrame(data_list)\n",
    "\n",
    "df.to_csv(\"labels/csv/extract_train_label.csv\", index=False, encoding=\"utf-8-sig\")"
   ]
  },
  {
   "cell_type": "code",
   "execution_count": null,
   "id": "c0c50af1",
   "metadata": {},
   "outputs": [],
   "source": []
  }
 ],
 "metadata": {
  "kernelspec": {
   "display_name": "Python 3",
   "language": "python",
   "name": "python3"
  },
  "language_info": {
   "codemirror_mode": {
    "name": "ipython",
    "version": 3
   },
   "file_extension": ".py",
   "mimetype": "text/x-python",
   "name": "python",
   "nbconvert_exporter": "python",
   "pygments_lexer": "ipython3",
   "version": "3.12.6"
  }
 },
 "nbformat": 4,
 "nbformat_minor": 5
}
