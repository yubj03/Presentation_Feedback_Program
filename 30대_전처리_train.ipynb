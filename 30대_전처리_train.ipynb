{
 "cells": [
  {
   "cell_type": "markdown",
   "id": "f5071953-0dd1-4d6f-be9d-a72489ab0b9b",
   "metadata": {},
   "source": [
    "## 라벨링 데이터\n",
    "- 필요 없는 데이터 삭제\n",
    "- 전반적인 데이터 통계치 확인"
   ]
  },
  {
   "cell_type": "code",
   "execution_count": 1,
   "id": "631acf5f-7ab9-47bf-ba85-1a74cf9e663f",
   "metadata": {},
   "outputs": [
    {
     "name": "stdout",
     "output_type": "stream",
     "text": [
      "병합 완료: C:\\Users\\USER\\Desktop\\동아리\\O.P.C\\프로젝트\\라벨링 데이터\\112.공적말하기_실습_및_평가_데이터\\3.개방데이터\\1.데이터\\Training\\02.라벨링데이터\\TL_1.언어적_4._A03_30대.zip\n"
     ]
    }
   ],
   "source": [
    "import os\n",
    "import shutil\n",
    "import zipfile\n",
    "import json\n",
    "import pandas as pd\n",
    "from glob import glob\n",
    "\n",
    "label_dir = r\"C:\\Users\\USER\\Desktop\\동아리\\O.P.C\\프로젝트\\라벨링 데이터\\112.공적말하기_실습_및_평가_데이터\\3.개방데이터\\1.데이터\\Training\\02.라벨링데이터\"\n",
    "unzip_dir = \"./unzipped_라벨링\"\n",
    "\n",
    "part_files = sorted(glob(os.path.join(label_dir, \"*.zip.part*\")))\n",
    "\n",
    "if not part_files:\n",
    "    raise FileNotFoundError(\"병합할 .zip.part* 파일이 없습니다.\")\n",
    "\n",
    "zip_filename = part_files[0].split(\".zip.part\")[0] + \".zip\"\n",
    "merged_path = os.path.join(label_dir, zip_filename)\n",
    "\n",
    "with open(merged_path, \"wb\") as outfile:\n",
    "    for part in part_files:\n",
    "        with open(part, \"rb\") as pf:\n",
    "            shutil.copyfileobj(pf, outfile)\n",
    "\n",
    "print(f\"병합 완료: {merged_path}\")"
   ]
  },
  {
   "cell_type": "code",
   "execution_count": 2,
   "id": "e436c61c-8461-465d-b2df-47e360d02925",
   "metadata": {},
   "outputs": [],
   "source": [
    "with zipfile.ZipFile(zip_filename, 'r') as zip_ref:\n",
    "    zip_ref.extractall(\"unzipped_data\")"
   ]
  },
  {
   "cell_type": "code",
   "execution_count": 2,
   "id": "b6046983-bab7-48b0-adee-1f5cca8ba90c",
   "metadata": {},
   "outputs": [],
   "source": [
    "import os\n",
    "import shutil\n",
    "import zipfile\n",
    "import json\n",
    "import pandas as pd\n",
    "from glob import glob\n",
    "\n",
    "label_root = r\"C:\\Users\\USER\\Desktop\\동아리\\O.P.C\\프로젝트\\unzipped_data_train\"\n",
    "json_paths = glob(os.path.join(label_root, \"**\", \"*.json\"), recursive=True)\n",
    "\n",
    "#빈 리스트 생성\n",
    "label_dts = []\n",
    "\n",
    "#json 파일 하나씩 열기\n",
    "for path in json_paths:\n",
    "    with open(path, \"r\", encoding=\"utf-8\") as f:\n",
    "        data = json.load(f)\n",
    "\n",
    "    label_dt = {}\n",
    "\n",
    "    # 발표자\n",
    "    label_dt[\"gender\"] = data.get(\"speaker\", {}).get(\"gender\", \"\")\n",
    "    \n",
    "    # 발표 스크립트 원문\n",
    "    label_dt[\"presen_script\"] = data.get(\"presentation\", {}).get(\"presen_script\", \"\")\n",
    "\n",
    "    # 발표 내용\n",
    "    label_dt[\"start_time\"] = data.get(\"script\", {}).get(\"start_time\", \"\")\n",
    "    label_dt[\"end_time\"] = data.get(\"script\", {}).get(\"end_time\", \"\")\n",
    "    label_dt[\"script_stt_txt\"] = data.get(\"script\", {}).get(\"script_stt_txt\", \"\")\n",
    "    label_dt[\"script_tag_txt\"] = data.get(\"script\", {}).get(\"script_tag_txt\", \"\")\n",
    "    label_dt[\"word_cnt\"] = data.get(\"script\", {}).get(\"word_cnt\", 0)\n",
    "    label_dt[\"audible_word_cnt\"] = data.get(\"script\", {}).get(\"audible_word_cnt\", 0)\n",
    "    label_dt[\"sent_cnt\"] = data.get(\"script\", {}).get(\"sent_cnt\", 0)\n",
    "\n",
    "    # 평가 점수(평균)\n",
    "    label_dt[\"repeat_scr\"] = data.get(\"average\", {}).get(\"repeat_scr\", 0.0)\n",
    "    label_dt[\"filler_words_scr\"] = data.get(\"average\", {}).get(\"filler_words_scr\", 0.0)\n",
    "    label_dt[\"pause_scr\"] = data.get(\"average\", {}).get(\"pause_scr\", 0.0)\n",
    "    label_dt[\"wrong_scr\"] = data.get(\"average\", {}).get(\"wrong_scr\", 0.0)\n",
    "    label_dt[\"voc_quality_scr\"] = data.get(\"average\", {}).get(\"voc_quality_scr\", 0.0)\n",
    "    label_dt[\"voc_speed_sec_scr\"] = data.get(\"average\", {}).get(\"voc_speed_sec_scr\", 0.0)\n",
    "    label_dt[\"eval_grade\"] = data.get(\"average\", {}).get(\"eval_grade\", \"\")\n",
    "\n",
    "    # 파일명\n",
    "    label_dt[\"filename\"] = data.get(\"info\", {}).get(\"filename\", \"\")\n",
    "\n",
    "    # 읽어들인 딕셔너리를 빈 리스트에 추가\n",
    "    label_dts.append(label_dt)\n",
    "\n",
    "# DataFrame으로 변환\n",
    "df_presentations = pd.DataFrame(label_dts)"
   ]
  },
  {
   "cell_type": "code",
   "execution_count": 18,
   "id": "cb1be8fc-2309-4d42-b19b-c4c1031ad28a",
   "metadata": {},
   "outputs": [
    {
     "data": {
      "text/html": [
       "<div>\n",
       "<style scoped>\n",
       "    .dataframe tbody tr th:only-of-type {\n",
       "        vertical-align: middle;\n",
       "    }\n",
       "\n",
       "    .dataframe tbody tr th {\n",
       "        vertical-align: top;\n",
       "    }\n",
       "\n",
       "    .dataframe thead th {\n",
       "        text-align: right;\n",
       "    }\n",
       "</style>\n",
       "<table border=\"1\" class=\"dataframe\">\n",
       "  <thead>\n",
       "    <tr style=\"text-align: right;\">\n",
       "      <th></th>\n",
       "      <th>gender</th>\n",
       "      <th>presen_script</th>\n",
       "      <th>start_time</th>\n",
       "      <th>end_time</th>\n",
       "      <th>script_stt_txt</th>\n",
       "      <th>script_tag_txt</th>\n",
       "      <th>word_cnt</th>\n",
       "      <th>audible_word_cnt</th>\n",
       "      <th>sent_cnt</th>\n",
       "      <th>repeat_scr</th>\n",
       "      <th>filler_words_scr</th>\n",
       "      <th>pause_scr</th>\n",
       "      <th>wrong_scr</th>\n",
       "      <th>voc_quality_scr</th>\n",
       "      <th>vor_speed_sec_scr</th>\n",
       "      <th>eval_grade</th>\n",
       "      <th>filename</th>\n",
       "    </tr>\n",
       "  </thead>\n",
       "  <tbody>\n",
       "    <tr>\n",
       "      <th>0</th>\n",
       "      <td>여자</td>\n",
       "      <td>안녕하십니까? 여러분, 오늘은 e스포츠가 젊은이들에게 미치는 긍정적인 영향에 대해 ...</td>\n",
       "      <td>00:00</td>\n",
       "      <td>04:36</td>\n",
       "      <td>안녕하십니까 여러분.오늘은 e스포츠가 젊은이들에게 미치는 긍정적인 영향에 대해 이야...</td>\n",
       "      <td>안녕하십니까 여러분.오늘은 e스포츠가 젊은이들에게 미치는 긍정적인 영향에 대해 이야...</td>\n",
       "      <td>298</td>\n",
       "      <td>287</td>\n",
       "      <td>26</td>\n",
       "      <td>4.9</td>\n",
       "      <td>4.85</td>\n",
       "      <td>4.85</td>\n",
       "      <td>2.95</td>\n",
       "      <td>3.20</td>\n",
       "      <td>1.25</td>\n",
       "      <td>B0</td>\n",
       "      <td>A03_S01_F_A_01_001_02_WA_MO_presentation.json</td>\n",
       "    </tr>\n",
       "    <tr>\n",
       "      <th>1</th>\n",
       "      <td>여자</td>\n",
       "      <td>안녕하십니까? E스포츠가 젊은이들에게 미치는 부정적인 영향에 대해 논의해 보고자 합...</td>\n",
       "      <td>00:00</td>\n",
       "      <td>04:07</td>\n",
       "      <td>안녕하십니까 E스포츠가 젊은이들에게 미치는 부정적인 영향에 대해 논의해 보고자 합니...</td>\n",
       "      <td>안녕하십니까 E스포츠가 젊은이들에게 미치는 부정적인 영향에 대해 논의해 보고자 합니...</td>\n",
       "      <td>370</td>\n",
       "      <td>355</td>\n",
       "      <td>25</td>\n",
       "      <td>3.0</td>\n",
       "      <td>4.85</td>\n",
       "      <td>4.80</td>\n",
       "      <td>3.00</td>\n",
       "      <td>3.50</td>\n",
       "      <td>3.15</td>\n",
       "      <td>B0</td>\n",
       "      <td>A03_S01_F_A_02_005_02_WA_MO_presentation.json</td>\n",
       "    </tr>\n",
       "    <tr>\n",
       "      <th>2</th>\n",
       "      <td>여자</td>\n",
       "      <td>안녕하십니까? 여러분, 오늘은 e스포츠가 젊은이들에게 미치는 긍정적인 영향에 대해 ...</td>\n",
       "      <td>00:00</td>\n",
       "      <td>04:08</td>\n",
       "      <td>안녕하십니까 여러분 오늘은 e스포츠가 젊은이들에게 미치는 긍정적인 영향에 대해 이야...</td>\n",
       "      <td>안녕하십니까 여러분 오늘은 e스포츠가 젊은이들에게 미치는 긍정적인 영향에 대해 이야...</td>\n",
       "      <td>303</td>\n",
       "      <td>294</td>\n",
       "      <td>25</td>\n",
       "      <td>4.9</td>\n",
       "      <td>4.80</td>\n",
       "      <td>4.85</td>\n",
       "      <td>3.95</td>\n",
       "      <td>4.05</td>\n",
       "      <td>1.05</td>\n",
       "      <td>B0</td>\n",
       "      <td>A03_S01_F_A_02_006_02_WA_MO_presentation.json</td>\n",
       "    </tr>\n",
       "    <tr>\n",
       "      <th>3</th>\n",
       "      <td>여자</td>\n",
       "      <td>안녕하십니까? 오늘은 e스포츠가 산업에 미치는 영향에 대해 이야기하고자 합니다. 최...</td>\n",
       "      <td>00:00</td>\n",
       "      <td>04:45</td>\n",
       "      <td>안녕하십니까? 오늘은 e스포츠가 산업에 미치는 영향에 대해 이야기하고자 합니다. 최...</td>\n",
       "      <td>안녕하십니까? 오늘은 e스포츠가 산업에 미치는 영향에 대해 이야기하고자 합니다. 최...</td>\n",
       "      <td>377</td>\n",
       "      <td>375</td>\n",
       "      <td>26</td>\n",
       "      <td>3.1</td>\n",
       "      <td>4.85</td>\n",
       "      <td>4.85</td>\n",
       "      <td>3.95</td>\n",
       "      <td>3.40</td>\n",
       "      <td>1.10</td>\n",
       "      <td>C+</td>\n",
       "      <td>A03_S01_F_A_03_007_02_WA_MO_presentation.json</td>\n",
       "    </tr>\n",
       "    <tr>\n",
       "      <th>4</th>\n",
       "      <td>여자</td>\n",
       "      <td>안녕하십니까? 오늘은 e스포츠가 산업에 미치는 영향에 대해 이야기하고자 합니다. 최...</td>\n",
       "      <td>00:01</td>\n",
       "      <td>06:10</td>\n",
       "      <td>안녕하십니까 오늘은 e스포츠가 산업에 미치는 영향에 대해 이야기하고자 합니다. 최근...</td>\n",
       "      <td>안녕하십니까 오늘은 e스포츠가 산업에 미치는 영향에 대해 이야기하고자 합니다. 최근...</td>\n",
       "      <td>396</td>\n",
       "      <td>395</td>\n",
       "      <td>24</td>\n",
       "      <td>2.0</td>\n",
       "      <td>1.00</td>\n",
       "      <td>4.80</td>\n",
       "      <td>3.90</td>\n",
       "      <td>2.60</td>\n",
       "      <td>1.05</td>\n",
       "      <td>C0</td>\n",
       "      <td>A03_S01_F_A_03_009_02_WA_MO_presentation.json</td>\n",
       "    </tr>\n",
       "  </tbody>\n",
       "</table>\n",
       "</div>"
      ],
      "text/plain": [
       "  gender                                      presen_script start_time  \\\n",
       "0     여자  안녕하십니까? 여러분, 오늘은 e스포츠가 젊은이들에게 미치는 긍정적인 영향에 대해 ...      00:00   \n",
       "1     여자  안녕하십니까? E스포츠가 젊은이들에게 미치는 부정적인 영향에 대해 논의해 보고자 합...      00:00   \n",
       "2     여자  안녕하십니까? 여러분, 오늘은 e스포츠가 젊은이들에게 미치는 긍정적인 영향에 대해 ...      00:00   \n",
       "3     여자  안녕하십니까? 오늘은 e스포츠가 산업에 미치는 영향에 대해 이야기하고자 합니다. 최...      00:00   \n",
       "4     여자  안녕하십니까? 오늘은 e스포츠가 산업에 미치는 영향에 대해 이야기하고자 합니다. 최...      00:01   \n",
       "\n",
       "  end_time                                     script_stt_txt  \\\n",
       "0    04:36  안녕하십니까 여러분.오늘은 e스포츠가 젊은이들에게 미치는 긍정적인 영향에 대해 이야...   \n",
       "1    04:07  안녕하십니까 E스포츠가 젊은이들에게 미치는 부정적인 영향에 대해 논의해 보고자 합니...   \n",
       "2    04:08  안녕하십니까 여러분 오늘은 e스포츠가 젊은이들에게 미치는 긍정적인 영향에 대해 이야...   \n",
       "3    04:45  안녕하십니까? 오늘은 e스포츠가 산업에 미치는 영향에 대해 이야기하고자 합니다. 최...   \n",
       "4    06:10  안녕하십니까 오늘은 e스포츠가 산업에 미치는 영향에 대해 이야기하고자 합니다. 최근...   \n",
       "\n",
       "                                      script_tag_txt  word_cnt  \\\n",
       "0  안녕하십니까 여러분.오늘은 e스포츠가 젊은이들에게 미치는 긍정적인 영향에 대해 이야...       298   \n",
       "1  안녕하십니까 E스포츠가 젊은이들에게 미치는 부정적인 영향에 대해 논의해 보고자 합니...       370   \n",
       "2  안녕하십니까 여러분 오늘은 e스포츠가 젊은이들에게 미치는 긍정적인 영향에 대해 이야...       303   \n",
       "3  안녕하십니까? 오늘은 e스포츠가 산업에 미치는 영향에 대해 이야기하고자 합니다. 최...       377   \n",
       "4  안녕하십니까 오늘은 e스포츠가 산업에 미치는 영향에 대해 이야기하고자 합니다. 최근...       396   \n",
       "\n",
       "   audible_word_cnt  sent_cnt  repeat_scr  filler_words_scr  pause_scr  \\\n",
       "0               287        26         4.9              4.85       4.85   \n",
       "1               355        25         3.0              4.85       4.80   \n",
       "2               294        25         4.9              4.80       4.85   \n",
       "3               375        26         3.1              4.85       4.85   \n",
       "4               395        24         2.0              1.00       4.80   \n",
       "\n",
       "   wrong_scr  voc_quality_scr  vor_speed_sec_scr eval_grade  \\\n",
       "0       2.95             3.20               1.25         B0   \n",
       "1       3.00             3.50               3.15         B0   \n",
       "2       3.95             4.05               1.05         B0   \n",
       "3       3.95             3.40               1.10         C+   \n",
       "4       3.90             2.60               1.05         C0   \n",
       "\n",
       "                                        filename  \n",
       "0  A03_S01_F_A_01_001_02_WA_MO_presentation.json  \n",
       "1  A03_S01_F_A_02_005_02_WA_MO_presentation.json  \n",
       "2  A03_S01_F_A_02_006_02_WA_MO_presentation.json  \n",
       "3  A03_S01_F_A_03_007_02_WA_MO_presentation.json  \n",
       "4  A03_S01_F_A_03_009_02_WA_MO_presentation.json  "
      ]
     },
     "execution_count": 18,
     "metadata": {},
     "output_type": "execute_result"
    }
   ],
   "source": [
    "df_presentations.head()"
   ]
  },
  {
   "cell_type": "code",
   "execution_count": 3,
   "id": "7f5a5252-581b-4788-88aa-bea81566fc3c",
   "metadata": {},
   "outputs": [],
   "source": [
    "df_presentations.to_csv('extract_train_label_30.csv')"
   ]
  },
  {
   "cell_type": "code",
   "execution_count": 6,
   "id": "04ce3019-dc53-4339-944c-d35c83248d01",
   "metadata": {},
   "outputs": [
    {
     "data": {
      "image/png": "[encoded data removed]",
      "text/plain": [
       "<Figure size 800x500 with 1 Axes>"
      ]
     },
     "metadata": {},
     "output_type": "display_data"
    }
   ],
   "source": [
    "import matplotlib.pyplot as plt\n",
    "import seaborn as sns\n",
    "\n",
    "#폰트 에러 메세지 삭제\n",
    "import logging\n",
    "logging.getLogger('matplotlib.font_manager').setLevel(logging.ERROR)\n",
    "\n",
    "grade_counts = df_presentations[\"eval_grade\"].value_counts().sort_index()\n",
    "\n",
    "plt.figure(figsize=(8, 5))\n",
    "sns.barplot(x=grade_counts.index, y=grade_counts.values)\n",
    "plt.show()"
   ]
  },
  {
   "cell_type": "code",
   "execution_count": 7,
   "id": "3a4bd306-e513-4e32-a0e6-3c49fca2261e",
   "metadata": {
    "scrolled": true
   },
   "outputs": [
    {
     "data": {
      "text/html": [
       "<div>\n",
       "<style scoped>\n",
       "    .dataframe tbody tr th:only-of-type {\n",
       "        vertical-align: middle;\n",
       "    }\n",
       "\n",
       "    .dataframe tbody tr th {\n",
       "        vertical-align: top;\n",
       "    }\n",
       "\n",
       "    .dataframe thead th {\n",
       "        text-align: right;\n",
       "    }\n",
       "</style>\n",
       "<table border=\"1\" class=\"dataframe\">\n",
       "  <thead>\n",
       "    <tr style=\"text-align: right;\">\n",
       "      <th></th>\n",
       "      <th>word_cnt</th>\n",
       "      <th>audible_word_cnt</th>\n",
       "      <th>sent_cnt</th>\n",
       "      <th>repeat_scr</th>\n",
       "      <th>filler_words_scr</th>\n",
       "      <th>pause_scr</th>\n",
       "      <th>wrong_scr</th>\n",
       "      <th>voc_quality_scr</th>\n",
       "      <th>vor_speed_sec_scr</th>\n",
       "      <th>eval_grade</th>\n",
       "    </tr>\n",
       "  </thead>\n",
       "  <tbody>\n",
       "    <tr>\n",
       "      <th>count</th>\n",
       "      <td>82.000000</td>\n",
       "      <td>82.000000</td>\n",
       "      <td>82.000000</td>\n",
       "      <td>82.000000</td>\n",
       "      <td>82.000000</td>\n",
       "      <td>82.000000</td>\n",
       "      <td>82.000000</td>\n",
       "      <td>82.000000</td>\n",
       "      <td>82.000000</td>\n",
       "      <td>82.000000</td>\n",
       "    </tr>\n",
       "    <tr>\n",
       "      <th>mean</th>\n",
       "      <td>377.280488</td>\n",
       "      <td>363.219512</td>\n",
       "      <td>28.085366</td>\n",
       "      <td>3.329268</td>\n",
       "      <td>3.965854</td>\n",
       "      <td>4.193293</td>\n",
       "      <td>3.692683</td>\n",
       "      <td>3.135976</td>\n",
       "      <td>1.674390</td>\n",
       "      <td>4.121951</td>\n",
       "    </tr>\n",
       "    <tr>\n",
       "      <th>std</th>\n",
       "      <td>37.843497</td>\n",
       "      <td>36.503686</td>\n",
       "      <td>2.811797</td>\n",
       "      <td>1.550726</td>\n",
       "      <td>1.413185</td>\n",
       "      <td>1.356119</td>\n",
       "      <td>0.482158</td>\n",
       "      <td>0.628258</td>\n",
       "      <td>1.070775</td>\n",
       "      <td>1.093079</td>\n",
       "    </tr>\n",
       "    <tr>\n",
       "      <th>min</th>\n",
       "      <td>298.000000</td>\n",
       "      <td>287.000000</td>\n",
       "      <td>19.000000</td>\n",
       "      <td>1.050000</td>\n",
       "      <td>1.000000</td>\n",
       "      <td>1.000000</td>\n",
       "      <td>2.000000</td>\n",
       "      <td>1.400000</td>\n",
       "      <td>1.000000</td>\n",
       "      <td>2.000000</td>\n",
       "    </tr>\n",
       "    <tr>\n",
       "      <th>25%</th>\n",
       "      <td>352.750000</td>\n",
       "      <td>336.250000</td>\n",
       "      <td>27.000000</td>\n",
       "      <td>2.000000</td>\n",
       "      <td>3.012500</td>\n",
       "      <td>4.650000</td>\n",
       "      <td>3.850000</td>\n",
       "      <td>2.800000</td>\n",
       "      <td>1.050000</td>\n",
       "      <td>3.000000</td>\n",
       "    </tr>\n",
       "    <tr>\n",
       "      <th>50%</th>\n",
       "      <td>370.000000</td>\n",
       "      <td>360.000000</td>\n",
       "      <td>28.000000</td>\n",
       "      <td>3.900000</td>\n",
       "      <td>4.800000</td>\n",
       "      <td>4.800000</td>\n",
       "      <td>3.900000</td>\n",
       "      <td>3.175000</td>\n",
       "      <td>1.100000</td>\n",
       "      <td>4.000000</td>\n",
       "    </tr>\n",
       "    <tr>\n",
       "      <th>75%</th>\n",
       "      <td>404.500000</td>\n",
       "      <td>389.000000</td>\n",
       "      <td>30.000000</td>\n",
       "      <td>4.850000</td>\n",
       "      <td>4.850000</td>\n",
       "      <td>4.850000</td>\n",
       "      <td>3.950000</td>\n",
       "      <td>3.500000</td>\n",
       "      <td>2.037500</td>\n",
       "      <td>5.000000</td>\n",
       "    </tr>\n",
       "    <tr>\n",
       "      <th>max</th>\n",
       "      <td>478.000000</td>\n",
       "      <td>446.000000</td>\n",
       "      <td>34.000000</td>\n",
       "      <td>5.000000</td>\n",
       "      <td>5.000000</td>\n",
       "      <td>4.850000</td>\n",
       "      <td>4.100000</td>\n",
       "      <td>4.450000</td>\n",
       "      <td>4.900000</td>\n",
       "      <td>7.000000</td>\n",
       "    </tr>\n",
       "  </tbody>\n",
       "</table>\n",
       "</div>"
      ],
      "text/plain": [
       "         word_cnt  audible_word_cnt   sent_cnt  repeat_scr  filler_words_scr  \\\n",
       "count   82.000000         82.000000  82.000000   82.000000         82.000000   \n",
       "mean   377.280488        363.219512  28.085366    3.329268          3.965854   \n",
       "std     37.843497         36.503686   2.811797    1.550726          1.413185   \n",
       "min    298.000000        287.000000  19.000000    1.050000          1.000000   \n",
       "25%    352.750000        336.250000  27.000000    2.000000          3.012500   \n",
       "50%    370.000000        360.000000  28.000000    3.900000          4.800000   \n",
       "75%    404.500000        389.000000  30.000000    4.850000          4.850000   \n",
       "max    478.000000        446.000000  34.000000    5.000000          5.000000   \n",
       "\n",
       "       pause_scr  wrong_scr  voc_quality_scr  vor_speed_sec_scr  eval_grade  \n",
       "count  82.000000  82.000000        82.000000          82.000000   82.000000  \n",
       "mean    4.193293   3.692683         3.135976           1.674390    4.121951  \n",
       "std     1.356119   0.482158         0.628258           1.070775    1.093079  \n",
       "min     1.000000   2.000000         1.400000           1.000000    2.000000  \n",
       "25%     4.650000   3.850000         2.800000           1.050000    3.000000  \n",
       "50%     4.800000   3.900000         3.175000           1.100000    4.000000  \n",
       "75%     4.850000   3.950000         3.500000           2.037500    5.000000  \n",
       "max     4.850000   4.100000         4.450000           4.900000    7.000000  "
      ]
     },
     "execution_count": 7,
     "metadata": {},
     "output_type": "execute_result"
    }
   ],
   "source": [
    "df_presentations.describe()"
   ]
  },
  {
   "cell_type": "markdown",
   "id": "8e6d8832-c84c-4f76-baa5-fb51ac37e3d4",
   "metadata": {},
   "source": [
    "## 원본 데이터\n",
    "- 라벨링 데이터에 원본 데이터 파일이 존재하는지 확인\n",
    "- 원본 데이터 파일이 정상적으로 열리는지 확인"
   ]
  },
  {
   "cell_type": "code",
   "execution_count": 8,
   "id": "22dc2826-30a6-42f2-81a0-3be775df5dba",
   "metadata": {},
   "outputs": [
    {
     "name": "stdout",
     "output_type": "stream",
     "text": [
      "병합 완료: C:\\Users\\USER\\Desktop\\동아리\\O.P.C\\프로젝트\\원본 데이터\\112.공적말하기_실습_및_평가_데이터\\3.개방데이터\\1.데이터\\Training\\01.원천데이터\\TS_1.언어적_4._A03_30대.zip\n",
      "압축 해제 완료: ./unzipped_영상\n"
     ]
    }
   ],
   "source": [
    "video_part_dir = r\"C:\\Users\\USER\\Desktop\\동아리\\O.P.C\\프로젝트\\원본 데이터\\112.공적말하기_실습_및_평가_데이터\\3.개방데이터\\1.데이터\\Training\\01.원천데이터\"\n",
    "unzip_dir = \"./unzipped_영상\"\n",
    "\n",
    "part_files = sorted(glob(os.path.join(video_part_dir, \"*.zip.part*\")), key=lambda x: int(x.split(\"part\")[-1]))\n",
    "\n",
    "zip_filename = part_files[0].split(\".zip.part\")[0] + \".zip\"\n",
    "merged_zip_path = os.path.join(video_part_dir, zip_filename)\n",
    "\n",
    "with open(merged_zip_path, \"wb\") as outfile:\n",
    "    for part in part_files:\n",
    "        with open(part, \"rb\") as pf:\n",
    "            shutil.copyfileobj(pf, outfile)\n",
    "\n",
    "print(f\"병합 완료: {merged_zip_path}\")\n",
    "\n",
    "os.makedirs(unzip_dir, exist_ok=True)\n",
    "with zipfile.ZipFile(merged_zip_path, 'r') as zip_ref:\n",
    "    zip_ref.extractall(unzip_dir)\n",
    "\n",
    "print(f\"압축 해제 완료: {unzip_dir}\")"
   ]
  },
  {
   "cell_type": "code",
   "execution_count": 9,
   "id": "2ed5a247-3ce4-45bc-8e72-c97b36c270a1",
   "metadata": {},
   "outputs": [
    {
     "name": "stdout",
     "output_type": "stream",
     "text": [
      "매칭된 발표 수: 82 / 82\n"
     ]
    },
    {
     "data": {
      "text/html": [
       "<div>\n",
       "<style scoped>\n",
       "    .dataframe tbody tr th:only-of-type {\n",
       "        vertical-align: middle;\n",
       "    }\n",
       "\n",
       "    .dataframe tbody tr th {\n",
       "        vertical-align: top;\n",
       "    }\n",
       "\n",
       "    .dataframe thead th {\n",
       "        text-align: right;\n",
       "    }\n",
       "</style>\n",
       "<table border=\"1\" class=\"dataframe\">\n",
       "  <thead>\n",
       "    <tr style=\"text-align: right;\">\n",
       "      <th></th>\n",
       "      <th>gender</th>\n",
       "      <th>presen_script</th>\n",
       "      <th>start_time</th>\n",
       "      <th>end_time</th>\n",
       "      <th>script_stt_txt</th>\n",
       "      <th>script_tag_txt</th>\n",
       "      <th>word_cnt</th>\n",
       "      <th>audible_word_cnt</th>\n",
       "      <th>sent_cnt</th>\n",
       "      <th>repeat_scr</th>\n",
       "      <th>filler_words_scr</th>\n",
       "      <th>pause_scr</th>\n",
       "      <th>wrong_scr</th>\n",
       "      <th>voc_quality_scr</th>\n",
       "      <th>vor_speed_sec_scr</th>\n",
       "      <th>eval_grade</th>\n",
       "      <th>filename</th>\n",
       "      <th>file_stem</th>\n",
       "      <th>video_exists</th>\n",
       "    </tr>\n",
       "  </thead>\n",
       "  <tbody>\n",
       "    <tr>\n",
       "      <th>0</th>\n",
       "      <td>여자</td>\n",
       "      <td>안녕하십니까? 여러분, 오늘은 e스포츠가 젊은이들에게 미치는 긍정적인 영향에 대해 ...</td>\n",
       "      <td>00:00</td>\n",
       "      <td>04:36</td>\n",
       "      <td>안녕하십니까 여러분.오늘은 e스포츠가 젊은이들에게 미치는 긍정적인 영향에 대해 이야...</td>\n",
       "      <td>안녕하십니까 여러분.오늘은 e스포츠가 젊은이들에게 미치는 긍정적인 영향에 대해 이야...</td>\n",
       "      <td>298</td>\n",
       "      <td>287</td>\n",
       "      <td>26</td>\n",
       "      <td>4.9</td>\n",
       "      <td>4.85</td>\n",
       "      <td>4.85</td>\n",
       "      <td>2.95</td>\n",
       "      <td>3.20</td>\n",
       "      <td>1.25</td>\n",
       "      <td>5.0</td>\n",
       "      <td>A03_S01_F_A_01_001_02_WA_MO_presentation.json</td>\n",
       "      <td>A03_S01_F_A_01_001_02_WA_MO</td>\n",
       "      <td>True</td>\n",
       "    </tr>\n",
       "    <tr>\n",
       "      <th>1</th>\n",
       "      <td>여자</td>\n",
       "      <td>안녕하십니까? E스포츠가 젊은이들에게 미치는 부정적인 영향에 대해 논의해 보고자 합...</td>\n",
       "      <td>00:00</td>\n",
       "      <td>04:07</td>\n",
       "      <td>안녕하십니까 E스포츠가 젊은이들에게 미치는 부정적인 영향에 대해 논의해 보고자 합니...</td>\n",
       "      <td>안녕하십니까 E스포츠가 젊은이들에게 미치는 부정적인 영향에 대해 논의해 보고자 합니...</td>\n",
       "      <td>370</td>\n",
       "      <td>355</td>\n",
       "      <td>25</td>\n",
       "      <td>3.0</td>\n",
       "      <td>4.85</td>\n",
       "      <td>4.80</td>\n",
       "      <td>3.00</td>\n",
       "      <td>3.50</td>\n",
       "      <td>3.15</td>\n",
       "      <td>5.0</td>\n",
       "      <td>A03_S01_F_A_02_005_02_WA_MO_presentation.json</td>\n",
       "      <td>A03_S01_F_A_02_005_02_WA_MO</td>\n",
       "      <td>True</td>\n",
       "    </tr>\n",
       "    <tr>\n",
       "      <th>2</th>\n",
       "      <td>여자</td>\n",
       "      <td>안녕하십니까? 여러분, 오늘은 e스포츠가 젊은이들에게 미치는 긍정적인 영향에 대해 ...</td>\n",
       "      <td>00:00</td>\n",
       "      <td>04:08</td>\n",
       "      <td>안녕하십니까 여러분 오늘은 e스포츠가 젊은이들에게 미치는 긍정적인 영향에 대해 이야...</td>\n",
       "      <td>안녕하십니까 여러분 오늘은 e스포츠가 젊은이들에게 미치는 긍정적인 영향에 대해 이야...</td>\n",
       "      <td>303</td>\n",
       "      <td>294</td>\n",
       "      <td>25</td>\n",
       "      <td>4.9</td>\n",
       "      <td>4.80</td>\n",
       "      <td>4.85</td>\n",
       "      <td>3.95</td>\n",
       "      <td>4.05</td>\n",
       "      <td>1.05</td>\n",
       "      <td>5.0</td>\n",
       "      <td>A03_S01_F_A_02_006_02_WA_MO_presentation.json</td>\n",
       "      <td>A03_S01_F_A_02_006_02_WA_MO</td>\n",
       "      <td>True</td>\n",
       "    </tr>\n",
       "    <tr>\n",
       "      <th>3</th>\n",
       "      <td>여자</td>\n",
       "      <td>안녕하십니까? 오늘은 e스포츠가 산업에 미치는 영향에 대해 이야기하고자 합니다. 최...</td>\n",
       "      <td>00:00</td>\n",
       "      <td>04:45</td>\n",
       "      <td>안녕하십니까? 오늘은 e스포츠가 산업에 미치는 영향에 대해 이야기하고자 합니다. 최...</td>\n",
       "      <td>안녕하십니까? 오늘은 e스포츠가 산업에 미치는 영향에 대해 이야기하고자 합니다. 최...</td>\n",
       "      <td>377</td>\n",
       "      <td>375</td>\n",
       "      <td>26</td>\n",
       "      <td>3.1</td>\n",
       "      <td>4.85</td>\n",
       "      <td>4.85</td>\n",
       "      <td>3.95</td>\n",
       "      <td>3.40</td>\n",
       "      <td>1.10</td>\n",
       "      <td>4.0</td>\n",
       "      <td>A03_S01_F_A_03_007_02_WA_MO_presentation.json</td>\n",
       "      <td>A03_S01_F_A_03_007_02_WA_MO</td>\n",
       "      <td>True</td>\n",
       "    </tr>\n",
       "    <tr>\n",
       "      <th>4</th>\n",
       "      <td>여자</td>\n",
       "      <td>안녕하십니까? 오늘은 e스포츠가 산업에 미치는 영향에 대해 이야기하고자 합니다. 최...</td>\n",
       "      <td>00:01</td>\n",
       "      <td>06:10</td>\n",
       "      <td>안녕하십니까 오늘은 e스포츠가 산업에 미치는 영향에 대해 이야기하고자 합니다. 최근...</td>\n",
       "      <td>안녕하십니까 오늘은 e스포츠가 산업에 미치는 영향에 대해 이야기하고자 합니다. 최근...</td>\n",
       "      <td>396</td>\n",
       "      <td>395</td>\n",
       "      <td>24</td>\n",
       "      <td>2.0</td>\n",
       "      <td>1.00</td>\n",
       "      <td>4.80</td>\n",
       "      <td>3.90</td>\n",
       "      <td>2.60</td>\n",
       "      <td>1.05</td>\n",
       "      <td>3.0</td>\n",
       "      <td>A03_S01_F_A_03_009_02_WA_MO_presentation.json</td>\n",
       "      <td>A03_S01_F_A_03_009_02_WA_MO</td>\n",
       "      <td>True</td>\n",
       "    </tr>\n",
       "  </tbody>\n",
       "</table>\n",
       "</div>"
      ],
      "text/plain": [
       "  gender                                      presen_script start_time  \\\n",
       "0     여자  안녕하십니까? 여러분, 오늘은 e스포츠가 젊은이들에게 미치는 긍정적인 영향에 대해 ...      00:00   \n",
       "1     여자  안녕하십니까? E스포츠가 젊은이들에게 미치는 부정적인 영향에 대해 논의해 보고자 합...      00:00   \n",
       "2     여자  안녕하십니까? 여러분, 오늘은 e스포츠가 젊은이들에게 미치는 긍정적인 영향에 대해 ...      00:00   \n",
       "3     여자  안녕하십니까? 오늘은 e스포츠가 산업에 미치는 영향에 대해 이야기하고자 합니다. 최...      00:00   \n",
       "4     여자  안녕하십니까? 오늘은 e스포츠가 산업에 미치는 영향에 대해 이야기하고자 합니다. 최...      00:01   \n",
       "\n",
       "  end_time                                     script_stt_txt  \\\n",
       "0    04:36  안녕하십니까 여러분.오늘은 e스포츠가 젊은이들에게 미치는 긍정적인 영향에 대해 이야...   \n",
       "1    04:07  안녕하십니까 E스포츠가 젊은이들에게 미치는 부정적인 영향에 대해 논의해 보고자 합니...   \n",
       "2    04:08  안녕하십니까 여러분 오늘은 e스포츠가 젊은이들에게 미치는 긍정적인 영향에 대해 이야...   \n",
       "3    04:45  안녕하십니까? 오늘은 e스포츠가 산업에 미치는 영향에 대해 이야기하고자 합니다. 최...   \n",
       "4    06:10  안녕하십니까 오늘은 e스포츠가 산업에 미치는 영향에 대해 이야기하고자 합니다. 최근...   \n",
       "\n",
       "                                      script_tag_txt  word_cnt  \\\n",
       "0  안녕하십니까 여러분.오늘은 e스포츠가 젊은이들에게 미치는 긍정적인 영향에 대해 이야...       298   \n",
       "1  안녕하십니까 E스포츠가 젊은이들에게 미치는 부정적인 영향에 대해 논의해 보고자 합니...       370   \n",
       "2  안녕하십니까 여러분 오늘은 e스포츠가 젊은이들에게 미치는 긍정적인 영향에 대해 이야...       303   \n",
       "3  안녕하십니까? 오늘은 e스포츠가 산업에 미치는 영향에 대해 이야기하고자 합니다. 최...       377   \n",
       "4  안녕하십니까 오늘은 e스포츠가 산업에 미치는 영향에 대해 이야기하고자 합니다. 최근...       396   \n",
       "\n",
       "   audible_word_cnt  sent_cnt  repeat_scr  filler_words_scr  pause_scr  \\\n",
       "0               287        26         4.9              4.85       4.85   \n",
       "1               355        25         3.0              4.85       4.80   \n",
       "2               294        25         4.9              4.80       4.85   \n",
       "3               375        26         3.1              4.85       4.85   \n",
       "4               395        24         2.0              1.00       4.80   \n",
       "\n",
       "   wrong_scr  voc_quality_scr  vor_speed_sec_scr  eval_grade  \\\n",
       "0       2.95             3.20               1.25         5.0   \n",
       "1       3.00             3.50               3.15         5.0   \n",
       "2       3.95             4.05               1.05         5.0   \n",
       "3       3.95             3.40               1.10         4.0   \n",
       "4       3.90             2.60               1.05         3.0   \n",
       "\n",
       "                                        filename                    file_stem  \\\n",
       "0  A03_S01_F_A_01_001_02_WA_MO_presentation.json  A03_S01_F_A_01_001_02_WA_MO   \n",
       "1  A03_S01_F_A_02_005_02_WA_MO_presentation.json  A03_S01_F_A_02_005_02_WA_MO   \n",
       "2  A03_S01_F_A_02_006_02_WA_MO_presentation.json  A03_S01_F_A_02_006_02_WA_MO   \n",
       "3  A03_S01_F_A_03_007_02_WA_MO_presentation.json  A03_S01_F_A_03_007_02_WA_MO   \n",
       "4  A03_S01_F_A_03_009_02_WA_MO_presentation.json  A03_S01_F_A_03_009_02_WA_MO   \n",
       "\n",
       "   video_exists  \n",
       "0          True  \n",
       "1          True  \n",
       "2          True  \n",
       "3          True  \n",
       "4          True  "
      ]
     },
     "execution_count": 9,
     "metadata": {},
     "output_type": "execute_result"
    }
   ],
   "source": [
    "# 라벨링 데이터 - 원본 데이터 매핑\n",
    "# 저장된 영상 파일 이름에 맞게 변환\n",
    "df_presentations[\"file_stem\"] = df_presentations[\"filename\"].apply(\n",
    "    lambda x: x.replace(\"_presentation.json\", \"\")\n",
    ")\n",
    "\n",
    "# 영상 파일 이름 추출\n",
    "video_dir = r\"C:\\Users\\USER\\Desktop\\동아리\\O.P.C\\unzipped_영상\"\n",
    "video_files = {\n",
    "    os.path.splitext(f)[0]: f\n",
    "    for f in os.listdir(video_dir)\n",
    "    if f.lower().endswith(\".mp4\")\n",
    "}\n",
    "\n",
    "# 존재 여부 매핑\n",
    "df_presentations[\"video_exists\"] = df_presentations[\"file_stem\"].apply(\n",
    "    lambda stem: stem in video_files\n",
    ")\n",
    "\n",
    "# 매칭된 발표만 필터링\n",
    "df_matched = df_presentations[df_presentations[\"video_exists\"] == True].copy()\n",
    "\n",
    "print(f\"매칭된 발표 수: {len(df_matched)} / {len(df_presentations)}\")\n",
    "df_matched.head()"
   ]
  },
  {
   "cell_type": "code",
   "execution_count": 10,
   "id": "26bc7cc0-56f9-409b-8b64-d18632c76466",
   "metadata": {},
   "outputs": [
    {
     "name": "stdout",
     "output_type": "stream",
     "text": [
      "Requirement already satisfied: opencv-python in c:\\users\\user\\anaconda3\\lib\\site-packages (4.11.0.86)\n",
      "Requirement already satisfied: numpy>=1.21.2 in c:\\users\\user\\anaconda3\\lib\\site-packages (from opencv-python) (1.26.4)\n"
     ]
    }
   ],
   "source": [
    "import sys\n",
    "!{sys.executable} -m pip install opencv-python"
   ]
  },
  {
   "cell_type": "code",
   "execution_count": 11,
   "id": "1e2d3858-d117-493d-a520-c8d5a6c71c8c",
   "metadata": {},
   "outputs": [
    {
     "name": "stdout",
     "output_type": "stream",
     "text": [
      "82개 영상 점검 완료\n",
      "\n",
      "정상 - A03_S01_F_A_01_001_02_WA_MO.mp4\n",
      "정상 - A03_S01_F_A_02_005_02_WA_MO.mp4\n",
      "정상 - A03_S01_F_A_02_006_02_WA_MO.mp4\n",
      "정상 - A03_S01_F_A_03_007_02_WA_MO.mp4\n",
      "정상 - A03_S01_F_A_03_009_02_WA_MO.mp4\n",
      "정상 - A03_S01_F_A_04_010_02_WA_MO.mp4\n",
      "정상 - A03_S01_F_A_04_012_02_WA_MO.mp4\n",
      "정상 - A03_S01_F_A_05_013_02_WA_MO.mp4\n",
      "정상 - A03_S01_F_A_06_017_02_WA_MO.mp4\n",
      "정상 - A03_S01_F_E_01_074_02_WA_MO.mp4\n",
      "정상 - A03_S01_F_E_02_077_02_WA_MO.mp4\n",
      "정상 - A03_S01_F_E_03_079_02_WA_MO.mp4\n",
      "정상 - A03_S01_F_E_03_080_02_WA_MO.mp4\n",
      "정상 - A03_S01_F_E_03_081_02_WA_MO.mp4\n",
      "정상 - A03_S01_F_E_04_084_02_WA_MO.mp4\n",
      "정상 - A03_S01_F_E_05_085_02_WA_MO.mp4\n",
      "정상 - A03_S01_F_E_05_087_02_WA_MO.mp4\n",
      "정상 - A03_S01_F_E_06_089_02_WA_MO.mp4\n",
      "정상 - A03_S01_M_A_01_003_02_WA_MO.mp4\n",
      "정상 - A03_S01_M_A_02_004_02_WA_MO.mp4\n",
      "정상 - A03_S01_M_A_04_011_02_WA_MO.mp4\n",
      "정상 - A03_S01_M_A_06_016_02_WA_MO.mp4\n",
      "정상 - A03_S01_M_A_06_018_02_WA_MO.mp4\n",
      "정상 - A03_S01_M_E_01_073_02_WA_MO.mp4\n",
      "정상 - A03_S01_M_E_02_078_02_WA_MO.mp4\n",
      "정상 - A03_S01_M_E_04_082_02_WA_MO.mp4\n",
      "정상 - A03_S01_M_E_04_083_02_WA_MO.mp4\n",
      "정상 - A03_S01_M_E_06_088_02_WA_MO.mp4\n",
      "정상 - A03_S01_M_E_06_090_02_WA_MO.mp4\n",
      "정상 - A03_S02_F_B_01_021_02_WA_MO.mp4\n",
      "정상 - A03_S02_F_B_02_022_02_WA_MO.mp4\n",
      "정상 - A03_S02_F_B_02_023_02_WA_MO.mp4\n",
      "정상 - A03_S02_F_B_02_024_02_WA_MO.mp4\n",
      "정상 - A03_S02_F_B_03_025_02_WA_MO.mp4\n",
      "정상 - A03_S02_F_B_05_031_02_WA_MO.mp4\n",
      "정상 - A03_S02_F_B_05_032_02_WA_MO.mp4\n",
      "정상 - A03_S02_F_D_02_058_02_WA_MO.mp4\n",
      "정상 - A03_S02_F_D_02_060_02_WA_MO.mp4\n",
      "정상 - A03_S02_F_D_04_064_02_WA_MO.mp4\n",
      "정상 - A03_S02_F_D_06_072_02_WA_MO.mp4\n",
      "정상 - A03_S02_M_B_01_019_02_WA_MO.mp4\n",
      "정상 - A03_S02_M_B_01_020_02_WA_MO.mp4\n",
      "정상 - A03_S02_M_B_03_026_02_WA_MO.mp4\n",
      "정상 - A03_S02_M_B_03_027_02_WA_MO.mp4\n",
      "정상 - A03_S02_M_B_04_028_02_WA_MO.mp4\n",
      "정상 - A03_S02_M_B_04_030_02_WA_MO.mp4\n",
      "정상 - A03_S02_M_B_06_035_02_WA_MO.mp4\n",
      "정상 - A03_S02_M_B_06_036_02_WA_MO.mp4\n",
      "정상 - A03_S02_M_D_01_055_02_WA_MO.mp4\n",
      "정상 - A03_S02_M_D_01_056_02_WA_MO.mp4\n",
      "정상 - A03_S02_M_D_02_059_02_WA_MO.mp4\n",
      "정상 - A03_S02_M_D_03_062_02_WA_MO.mp4\n",
      "정상 - A03_S02_M_D_04_065_02_WA_MO.mp4\n",
      "정상 - A03_S02_M_D_04_066_02_WA_MO.mp4\n",
      "정상 - A03_S02_M_D_06_070_02_WA_MO.mp4\n",
      "정상 - A03_S03_F_C_01_037_02_WA_MO.mp4\n",
      "정상 - A03_S03_F_C_01_038_02_WA_MO.mp4\n",
      "정상 - A03_S03_F_C_02_040_02_WA_MO.mp4\n",
      "정상 - A03_S03_F_C_02_042_02_WA_MO.mp4\n",
      "정상 - A03_S03_F_C_03_044_02_WA_MO.mp4\n",
      "정상 - A03_S03_F_C_04_047_02_WA_MO.mp4\n",
      "정상 - A03_S03_F_C_04_048_02_WA_MO.mp4\n",
      "정상 - A03_S03_F_C_05_049_02_WA_MO.mp4\n",
      "정상 - A03_S03_F_C_05_050_02_WA_MO.mp4\n",
      "정상 - A03_S03_F_C_06_053_02_WA_MO.mp4\n",
      "정상 - A03_S03_F_C_06_054_02_WA_MO.mp4\n",
      "정상 - A03_S03_F_F_01_091_02_WA_MO.mp4\n",
      "정상 - A03_S03_F_F_02_093_02_WA_MO.mp4\n",
      "정상 - A03_S03_F_F_03_095_02_WA_MO.mp4\n",
      "정상 - A03_S03_F_F_04_097_02_WA_MO.mp4\n",
      "정상 - A03_S03_F_F_05_099_02_WA_MO.mp4\n",
      "정상 - A03_S03_M_C_01_039_02_WA_MO.mp4\n",
      "정상 - A03_S03_M_C_02_041_02_WA_MO.mp4\n",
      "정상 - A03_S03_M_C_03_043_02_WA_MO.mp4\n",
      "정상 - A03_S03_M_C_03_045_02_WA_MO.mp4\n",
      "정상 - A03_S03_M_C_04_046_02_WA_MO.mp4\n",
      "정상 - A03_S03_M_C_05_051_02_WA_MO.mp4\n",
      "정상 - A03_S03_M_C_06_052_02_WA_MO.mp4\n",
      "정상 - A03_S03_M_F_01_092_02_WA_MO.mp4\n",
      "정상 - A03_S03_M_F_03_096_02_WA_MO.mp4\n",
      "정상 - A03_S03_M_F_04_098_02_WA_MO.mp4\n",
      "정상 - A03_S03_M_F_05_100_02_WA_MO.mp4\n"
     ]
    }
   ],
   "source": [
    "# 영상 재생 여부 확인\n",
    "import cv2 # OpenCV 라이브러리 (영상 파일을 열고 프레임을 읽을 수 있음)\n",
    "\n",
    "video_dir = r\"C:\\Users\\USER\\Desktop\\동아리\\O.P.C\\unzipped_영상\"\n",
    "video_paths = [os.path.join(video_dir, f) for f in os.listdir(video_dir) if f.endswith(\".mp4\")]\n",
    "\n",
    "results = []\n",
    "\n",
    "for path in video_paths:\n",
    "    filename = os.path.basename(path)\n",
    "    cap = cv2.VideoCapture(path)\n",
    "\n",
    "    if not cap.isOpened():\n",
    "        results.append((filename, \"열기 실패\"))\n",
    "        continue\n",
    "\n",
    "    ret, frame = cap.read()\n",
    "    if not ret:\n",
    "        results.append((filename, \"프레임 읽기 실패\"))\n",
    "    else:\n",
    "        results.append((filename, \"정상\"))\n",
    "\n",
    "    cap.release()\n",
    "\n",
    "print(f\"{len(results)}개 영상 점검 완료\\n\")\n",
    "for fname, status in results:\n",
    "    print(f\"{status} - {fname}\")"
   ]
  },
  {
   "cell_type": "code",
   "execution_count": 12,
   "id": "7da15d41-8946-4bc5-9cfe-a638f5a416d6",
   "metadata": {},
   "outputs": [
    {
     "name": "stdout",
     "output_type": "stream",
     "text": [
      "Requirement already satisfied: moviepy in c:\\users\\user\\anaconda3\\lib\\site-packages (2.1.2)\n",
      "Requirement already satisfied: decorator<6.0,>=4.0.2 in c:\\users\\user\\anaconda3\\lib\\site-packages (from moviepy) (5.1.1)\n",
      "Requirement already satisfied: imageio<3.0,>=2.5 in c:\\users\\user\\anaconda3\\lib\\site-packages (from moviepy) (2.33.1)\n",
      "Requirement already satisfied: imageio_ffmpeg>=0.2.0 in c:\\users\\user\\anaconda3\\lib\\site-packages (from moviepy) (0.6.0)\n",
      "Requirement already satisfied: numpy>=1.25.0 in c:\\users\\user\\anaconda3\\lib\\site-packages (from moviepy) (1.26.4)\n",
      "Requirement already satisfied: proglog<=1.0.0 in c:\\users\\user\\anaconda3\\lib\\site-packages (from moviepy) (0.1.12)\n",
      "Requirement already satisfied: python-dotenv>=0.10 in c:\\users\\user\\anaconda3\\lib\\site-packages (from moviepy) (0.21.0)\n",
      "Requirement already satisfied: pillow<11.0,>=9.2.0 in c:\\users\\user\\anaconda3\\lib\\site-packages (from moviepy) (10.4.0)\n",
      "Requirement already satisfied: tqdm in c:\\users\\user\\anaconda3\\lib\\site-packages (from proglog<=1.0.0->moviepy) (4.66.5)\n",
      "Requirement already satisfied: colorama in c:\\users\\user\\anaconda3\\lib\\site-packages (from tqdm->proglog<=1.0.0->moviepy) (0.4.6)\n"
     ]
    }
   ],
   "source": [
    "!pip install moviepy"
   ]
  },
  {
   "cell_type": "code",
   "execution_count": 13,
   "id": "de70c8ce-5f0b-499f-8e98-dbc15398a383",
   "metadata": {},
   "outputs": [],
   "source": [
    "from moviepy import VideoFileClip"
   ]
  },
  {
   "cell_type": "code",
   "execution_count": 14,
   "id": "99e11ff6-9db1-41b2-a892-42636a585a18",
   "metadata": {
    "scrolled": true
   },
   "outputs": [
    {
     "name": "stdout",
     "output_type": "stream",
     "text": [
      "{'video_found': True, 'audio_found': True, 'metadata': {'major_brand': 'isom', 'minor_version': '512', 'compatible_brands': 'isomiso2mp41', 'encoder': 'Lavf58.29.100'}, 'inputs': [{'streams': [{'input_number': 0, 'stream_number': 0, 'stream_type': 'video', 'language': None, 'default': True, 'size': [1920, 1080], 'bitrate': 10001, 'fps': 30.0, 'codec_name': 'mpeg4', 'profile': '(Simple Profile)', 'metadata': {'Metadata': '', 'handler_name': 'VideoHandler', 'vendor_id': '[0][0][0][0]'}}, {'input_number': 0, 'stream_number': 1, 'stream_type': 'audio', 'language': None, 'default': True, 'fps': 44100, 'bitrate': 128, 'metadata': {'Metadata': '', 'handler_name': 'SoundHandler', 'vendor_id': '[0][0][0][0]'}}], 'input_number': 0}], 'duration': 275.4, 'bitrate': 10137, 'start': 0.0, 'default_video_input_number': 0, 'default_video_stream_number': 0, 'video_codec_name': 'mpeg4', 'video_profile': '(Simple Profile)', 'video_size': [1920, 1080], 'video_bitrate': 10001, 'video_fps': 30.0, 'default_audio_input_number': 0, 'default_audio_stream_number': 1, 'audio_fps': 44100, 'audio_bitrate': 128, 'video_duration': 275.4, 'video_n_frames': 8262}\n",
      "C:\\Users\\USER\\anaconda3\\Lib\\site-packages\\imageio_ffmpeg\\binaries\\ffmpeg-win-x86_64-v7.1.exe -i C:\\Users\\USER\\Desktop\\동아리\\O.P.C\\unzipped_영상\\A03_S01_F_A_01_001_02_WA_MO.mp4 -loglevel error -f image2pipe -vf scale=1920:1080 -sws_flags bicubic -pix_fmt rgb24 -vcodec rawvideo -\n",
      "MoviePy - Writing audio in ./wav\\A03_S01_F_A_01_001_02_WA_MO.wav\n"
     ]
    },
    {
     "name": "stderr",
     "output_type": "stream",
     "text": [
      "                                                                      \r"
     ]
    },
    {
     "name": "stdout",
     "output_type": "stream",
     "text": [
      "MoviePy - Done.\n",
      "변환 완료: A03_S01_F_A_01_001_02_WA_MO.wav\n",
      "{'video_found': True, 'audio_found': True, 'metadata': {'major_brand': 'isom', 'minor_version': '512', 'compatible_brands': 'isomiso2mp41', 'encoder': 'Lavf58.29.100'}, 'inputs': [{'streams': [{'input_number': 0, 'stream_number': 0, 'stream_type': 'video', 'language': None, 'default': True, 'size': [1920, 1080], 'bitrate': 3372, 'fps': 30.0, 'codec_name': 'mpeg4', 'profile': '(Simple Profile)', 'metadata': {'Metadata': '', 'handler_name': 'VideoHandler', 'vendor_id': '[0][0][0][0]'}}, {'input_number': 0, 'stream_number': 1, 'stream_type': 'audio', 'language': None, 'default': True, 'fps': 44100, 'bitrate': 128, 'metadata': {'Metadata': '', 'handler_name': 'SoundHandler', 'vendor_id': '[0][0][0][0]'}}], 'input_number': 0}], 'duration': 247.0, 'bitrate': 3507, 'start': 0.0, 'default_video_input_number': 0, 'default_video_stream_number': 0, 'video_codec_name': 'mpeg4', 'video_profile': '(Simple Profile)', 'video_size': [1920, 1080], 'video_bitrate': 3372, 'video_fps': 30.0, 'default_audio_input_number': 0, 'default_audio_stream_number': 1, 'audio_fps': 44100, 'audio_bitrate': 128, 'video_duration': 247.0, 'video_n_frames': 7410}\n",
      "C:\\Users\\USER\\anaconda3\\Lib\\site-packages\\imageio_ffmpeg\\binaries\\ffmpeg-win-x86_64-v7.1.exe -i C:\\Users\\USER\\Desktop\\동아리\\O.P.C\\unzipped_영상\\A03_S01_F_A_02_005_02_WA_MO.mp4 -loglevel error -f image2pipe -vf scale=1920:1080 -sws_flags bicubic -pix_fmt rgb24 -vcodec rawvideo -\n",
      "MoviePy - Writing audio in ./wav\\A03_S01_F_A_02_005_02_WA_MO.wav\n"
     ]
    },
    {
     "name": "stderr",
     "output_type": "stream",
     "text": [
      "                                                                      \r"
     ]
    },
    {
     "name": "stdout",
     "output_type": "stream",
     "text": [
      "MoviePy - Done.\n",
      "변환 완료: A03_S01_F_A_02_005_02_WA_MO.wav\n",
      "{'video_found': True, 'audio_found': True, 'metadata': {'major_brand': 'isom', 'minor_version': '512', 'compatible_brands': 'isomiso2mp41', 'encoder': 'Lavf58.29.100'}, 'inputs': [{'streams': [{'input_number': 0, 'stream_number': 0, 'stream_type': 'video', 'language': None, 'default': True, 'size': [1920, 1080], 'bitrate': 3614, 'fps': 30.0, 'codec_name': 'mpeg4', 'profile': '(Simple Profile)', 'metadata': {'Metadata': '', 'handler_name': 'VideoHandler', 'vendor_id': '[0][0][0][0]'}}, {'input_number': 0, 'stream_number': 1, 'stream_type': 'audio', 'language': None, 'default': True, 'fps': 44100, 'bitrate': 128, 'metadata': {'Metadata': '', 'handler_name': 'SoundHandler', 'vendor_id': '[0][0][0][0]'}}], 'input_number': 0}], 'duration': 247.13, 'bitrate': 3750, 'start': 0.0, 'default_video_input_number': 0, 'default_video_stream_number': 0, 'video_codec_name': 'mpeg4', 'video_profile': '(Simple Profile)', 'video_size': [1920, 1080], 'video_bitrate': 3614, 'video_fps': 30.0, 'default_audio_input_number': 0, 'default_audio_stream_number': 1, 'audio_fps': 44100, 'audio_bitrate': 128, 'video_duration': 247.13, 'video_n_frames': 7413}\n",
      "C:\\Users\\USER\\anaconda3\\Lib\\site-packages\\imageio_ffmpeg\\binaries\\ffmpeg-win-x86_64-v7.1.exe -i C:\\Users\\USER\\Desktop\\동아리\\O.P.C\\unzipped_영상\\A03_S01_F_A_02_006_02_WA_MO.mp4 -loglevel error -f image2pipe -vf scale=1920:1080 -sws_flags bicubic -pix_fmt rgb24 -vcodec rawvideo -\n",
      "MoviePy - Writing audio in ./wav\\A03_S01_F_A_02_006_02_WA_MO.wav\n"
     ]
    },
    {
     "name": "stderr",
     "output_type": "stream",
     "text": [
      "                                                                      \r"
     ]
    },
    {
     "name": "stdout",
     "output_type": "stream",
     "text": [
      "MoviePy - Done.\n",
      "변환 완료: A03_S01_F_A_02_006_02_WA_MO.wav\n",
      "{'video_found': True, 'audio_found': True, 'metadata': {'major_brand': 'isom', 'minor_version': '512', 'compatible_brands': 'isomiso2mp41', 'encoder': 'Lavf58.29.100'}, 'inputs': [{'streams': [{'input_number': 0, 'stream_number': 0, 'stream_type': 'video', 'language': None, 'default': True, 'size': [1920, 1080], 'bitrate': 3514, 'fps': 30.0, 'codec_name': 'mpeg4', 'profile': '(Simple Profile)', 'metadata': {'Metadata': '', 'handler_name': 'VideoHandler', 'vendor_id': '[0][0][0][0]'}}, {'input_number': 0, 'stream_number': 1, 'stream_type': 'audio', 'language': None, 'default': True, 'fps': 44100, 'bitrate': 129, 'metadata': {'Metadata': '', 'handler_name': 'SoundHandler', 'vendor_id': '[0][0][0][0]'}}], 'input_number': 0}], 'duration': 285.23, 'bitrate': 3651, 'start': 0.0, 'default_video_input_number': 0, 'default_video_stream_number': 0, 'video_codec_name': 'mpeg4', 'video_profile': '(Simple Profile)', 'video_size': [1920, 1080], 'video_bitrate': 3514, 'video_fps': 30.0, 'default_audio_input_number': 0, 'default_audio_stream_number': 1, 'audio_fps': 44100, 'audio_bitrate': 129, 'video_duration': 285.23, 'video_n_frames': 8556}\n",
      "C:\\Users\\USER\\anaconda3\\Lib\\site-packages\\imageio_ffmpeg\\binaries\\ffmpeg-win-x86_64-v7.1.exe -i C:\\Users\\USER\\Desktop\\동아리\\O.P.C\\unzipped_영상\\A03_S01_F_A_03_007_02_WA_MO.mp4 -loglevel error -f image2pipe -vf scale=1920:1080 -sws_flags bicubic -pix_fmt rgb24 -vcodec rawvideo -\n",
      "MoviePy - Writing audio in ./wav\\A03_S01_F_A_03_007_02_WA_MO.wav\n"
     ]
    },
    {
     "name": "stderr",
     "output_type": "stream",
     "text": [
      "                                                                      \r"
     ]
    },
    {
     "name": "stdout",
     "output_type": "stream",
     "text": [
      "MoviePy - Done.\n",
      "변환 완료: A03_S01_F_A_03_007_02_WA_MO.wav\n",
      "{'video_found': True, 'audio_found': True, 'metadata': {'major_brand': 'isom', 'minor_version': '512', 'compatible_brands': 'isomiso2mp41', 'encoder': 'Lavf58.29.100'}, 'inputs': [{'streams': [{'input_number': 0, 'stream_number': 0, 'stream_type': 'video', 'language': None, 'default': True, 'size': [1920, 1080], 'bitrate': 8995, 'fps': 30.0, 'codec_name': 'mpeg4', 'profile': '(Simple Profile)', 'metadata': {'Metadata': '', 'handler_name': 'VideoHandler', 'vendor_id': '[0][0][0][0]'}}, {'input_number': 0, 'stream_number': 1, 'stream_type': 'audio', 'language': None, 'default': True, 'fps': 44100, 'bitrate': 128, 'metadata': {'Metadata': '', 'handler_name': 'SoundHandler', 'vendor_id': '[0][0][0][0]'}}], 'input_number': 0}], 'duration': 369.5, 'bitrate': 9130, 'start': 0.0, 'default_video_input_number': 0, 'default_video_stream_number': 0, 'video_codec_name': 'mpeg4', 'video_profile': '(Simple Profile)', 'video_size': [1920, 1080], 'video_bitrate': 8995, 'video_fps': 30.0, 'default_audio_input_number': 0, 'default_audio_stream_number': 1, 'audio_fps': 44100, 'audio_bitrate': 128, 'video_duration': 369.5, 'video_n_frames': 11085}\n",
      "C:\\Users\\USER\\anaconda3\\Lib\\site-packages\\imageio_ffmpeg\\binaries\\ffmpeg-win-x86_64-v7.1.exe -i C:\\Users\\USER\\Desktop\\동아리\\O.P.C\\unzipped_영상\\A03_S01_F_A_03_009_02_WA_MO.mp4 -loglevel error -f image2pipe -vf scale=1920:1080 -sws_flags bicubic -pix_fmt rgb24 -vcodec rawvideo -\n",
      "MoviePy - Writing audio in ./wav\\A03_S01_F_A_03_009_02_WA_MO.wav\n"
     ]
    },
    {
     "name": "stderr",
     "output_type": "stream",
     "text": [
      "                                                                      \r"
     ]
    },
    {
     "name": "stdout",
     "output_type": "stream",
     "text": [
      "MoviePy - Done.\n",
      "변환 완료: A03_S01_F_A_03_009_02_WA_MO.wav\n",
      "{'video_found': True, 'audio_found': True, 'metadata': {'major_brand': 'isom', 'minor_version': '512', 'compatible_brands': 'isomiso2mp41', 'encoder': 'Lavf58.29.100'}, 'inputs': [{'streams': [{'input_number': 0, 'stream_number': 0, 'stream_type': 'video', 'language': None, 'default': True, 'size': [1920, 1080], 'bitrate': 2713, 'fps': 30.0, 'codec_name': 'mpeg4', 'profile': '(Simple Profile)', 'metadata': {'Metadata': '', 'handler_name': 'VideoHandler', 'vendor_id': '[0][0][0][0]'}}, {'input_number': 0, 'stream_number': 1, 'stream_type': 'audio', 'language': None, 'default': True, 'fps': 44100, 'bitrate': 128, 'metadata': {'Metadata': '', 'handler_name': 'SoundHandler', 'vendor_id': '[0][0][0][0]'}}], 'input_number': 0}], 'duration': 248.6, 'bitrate': 2848, 'start': 0.0, 'default_video_input_number': 0, 'default_video_stream_number': 0, 'video_codec_name': 'mpeg4', 'video_profile': '(Simple Profile)', 'video_size': [1920, 1080], 'video_bitrate': 2713, 'video_fps': 30.0, 'default_audio_input_number': 0, 'default_audio_stream_number': 1, 'audio_fps': 44100, 'audio_bitrate': 128, 'video_duration': 248.6, 'video_n_frames': 7458}\n",
      "C:\\Users\\USER\\anaconda3\\Lib\\site-packages\\imageio_ffmpeg\\binaries\\ffmpeg-win-x86_64-v7.1.exe -i C:\\Users\\USER\\Desktop\\동아리\\O.P.C\\unzipped_영상\\A03_S01_F_A_04_010_02_WA_MO.mp4 -loglevel error -f image2pipe -vf scale=1920:1080 -sws_flags bicubic -pix_fmt rgb24 -vcodec rawvideo -\n",
      "MoviePy - Writing audio in ./wav\\A03_S01_F_A_04_010_02_WA_MO.wav\n"
     ]
    },
    {
     "name": "stderr",
     "output_type": "stream",
     "text": [
      "                                                                      \r"
     ]
    },
    {
     "name": "stdout",
     "output_type": "stream",
     "text": [
      "MoviePy - Done.\n",
      "변환 완료: A03_S01_F_A_04_010_02_WA_MO.wav\n",
      "{'video_found': True, 'audio_found': True, 'metadata': {'major_brand': 'isom', 'minor_version': '512', 'compatible_brands': 'isomiso2mp41', 'encoder': 'Lavf58.29.100'}, 'inputs': [{'streams': [{'input_number': 0, 'stream_number': 0, 'stream_type': 'video', 'language': None, 'default': True, 'size': [1920, 1080], 'bitrate': 9088, 'fps': 30.0, 'codec_name': 'mpeg4', 'profile': '(Simple Profile)', 'metadata': {'Metadata': '', 'handler_name': 'VideoHandler', 'vendor_id': '[0][0][0][0]'}}, {'input_number': 0, 'stream_number': 1, 'stream_type': 'audio', 'language': None, 'default': True, 'fps': 44100, 'bitrate': 128, 'metadata': {'Metadata': '', 'handler_name': 'SoundHandler', 'vendor_id': '[0][0][0][0]'}}], 'input_number': 0}], 'duration': 331.7, 'bitrate': 9223, 'start': 0.0, 'default_video_input_number': 0, 'default_video_stream_number': 0, 'video_codec_name': 'mpeg4', 'video_profile': '(Simple Profile)', 'video_size': [1920, 1080], 'video_bitrate': 9088, 'video_fps': 30.0, 'default_audio_input_number': 0, 'default_audio_stream_number': 1, 'audio_fps': 44100, 'audio_bitrate': 128, 'video_duration': 331.7, 'video_n_frames': 9951}\n",
      "C:\\Users\\USER\\anaconda3\\Lib\\site-packages\\imageio_ffmpeg\\binaries\\ffmpeg-win-x86_64-v7.1.exe -i C:\\Users\\USER\\Desktop\\동아리\\O.P.C\\unzipped_영상\\A03_S01_F_A_04_012_02_WA_MO.mp4 -loglevel error -f image2pipe -vf scale=1920:1080 -sws_flags bicubic -pix_fmt rgb24 -vcodec rawvideo -\n",
      "MoviePy - Writing audio in ./wav\\A03_S01_F_A_04_012_02_WA_MO.wav\n"
     ]
    },
    {
     "name": "stderr",
     "output_type": "stream",
     "text": [
      "                                                                      \r"
     ]
    },
    {
     "name": "stdout",
     "output_type": "stream",
     "text": [
      "MoviePy - Done.\n",
      "변환 완료: A03_S01_F_A_04_012_02_WA_MO.wav\n",
      "{'video_found': True, 'audio_found': True, 'metadata': {'major_brand': 'isom', 'minor_version': '512', 'compatible_brands': 'isomiso2mp41', 'encoder': 'Lavf58.29.100'}, 'inputs': [{'streams': [{'input_number': 0, 'stream_number': 0, 'stream_type': 'video', 'language': None, 'default': True, 'size': [1920, 1080], 'bitrate': 2593, 'fps': 30.0, 'codec_name': 'mpeg4', 'profile': '(Simple Profile)', 'metadata': {'Metadata': '', 'handler_name': 'VideoHandler', 'vendor_id': '[0][0][0][0]'}}, {'input_number': 0, 'stream_number': 1, 'stream_type': 'audio', 'language': None, 'default': True, 'fps': 44100, 'bitrate': 128, 'metadata': {'Metadata': '', 'handler_name': 'SoundHandler', 'vendor_id': '[0][0][0][0]'}}], 'input_number': 0}], 'duration': 282.9, 'bitrate': 2728, 'start': 0.0, 'default_video_input_number': 0, 'default_video_stream_number': 0, 'video_codec_name': 'mpeg4', 'video_profile': '(Simple Profile)', 'video_size': [1920, 1080], 'video_bitrate': 2593, 'video_fps': 30.0, 'default_audio_input_number': 0, 'default_audio_stream_number': 1, 'audio_fps': 44100, 'audio_bitrate': 128, 'video_duration': 282.9, 'video_n_frames': 8487}\n",
      "C:\\Users\\USER\\anaconda3\\Lib\\site-packages\\imageio_ffmpeg\\binaries\\ffmpeg-win-x86_64-v7.1.exe -i C:\\Users\\USER\\Desktop\\동아리\\O.P.C\\unzipped_영상\\A03_S01_F_A_05_013_02_WA_MO.mp4 -loglevel error -f image2pipe -vf scale=1920:1080 -sws_flags bicubic -pix_fmt rgb24 -vcodec rawvideo -\n",
      "MoviePy - Writing audio in ./wav\\A03_S01_F_A_05_013_02_WA_MO.wav\n"
     ]
    },
    {
     "name": "stderr",
     "output_type": "stream",
     "text": [
      "                                                                      \r"
     ]
    },
    {
     "name": "stdout",
     "output_type": "stream",
     "text": [
      "MoviePy - Done.\n",
      "변환 완료: A03_S01_F_A_05_013_02_WA_MO.wav\n",
      "{'video_found': True, 'audio_found': True, 'metadata': {'major_brand': 'isom', 'minor_version': '512', 'compatible_brands': 'isomiso2mp41', 'encoder': 'Lavf58.29.100'}, 'inputs': [{'streams': [{'input_number': 0, 'stream_number': 0, 'stream_type': 'video', 'language': None, 'default': True, 'size': [1920, 1080], 'bitrate': 2870, 'fps': 30.0, 'codec_name': 'mpeg4', 'profile': '(Simple Profile)', 'metadata': {'Metadata': '', 'handler_name': 'VideoHandler', 'vendor_id': '[0][0][0][0]'}}, {'input_number': 0, 'stream_number': 1, 'stream_type': 'audio', 'language': None, 'default': True, 'fps': 44100, 'bitrate': 128, 'metadata': {'Metadata': '', 'handler_name': 'SoundHandler', 'vendor_id': '[0][0][0][0]'}}], 'input_number': 0}], 'duration': 210.9, 'bitrate': 3005, 'start': 0.0, 'default_video_input_number': 0, 'default_video_stream_number': 0, 'video_codec_name': 'mpeg4', 'video_profile': '(Simple Profile)', 'video_size': [1920, 1080], 'video_bitrate': 2870, 'video_fps': 30.0, 'default_audio_input_number': 0, 'default_audio_stream_number': 1, 'audio_fps': 44100, 'audio_bitrate': 128, 'video_duration': 210.9, 'video_n_frames': 6327}\n",
      "C:\\Users\\USER\\anaconda3\\Lib\\site-packages\\imageio_ffmpeg\\binaries\\ffmpeg-win-x86_64-v7.1.exe -i C:\\Users\\USER\\Desktop\\동아리\\O.P.C\\unzipped_영상\\A03_S01_F_A_06_017_02_WA_MO.mp4 -loglevel error -f image2pipe -vf scale=1920:1080 -sws_flags bicubic -pix_fmt rgb24 -vcodec rawvideo -\n",
      "MoviePy - Writing audio in ./wav\\A03_S01_F_A_06_017_02_WA_MO.wav\n"
     ]
    },
    {
     "name": "stderr",
     "output_type": "stream",
     "text": [
      "                                                                      \r"
     ]
    },
    {
     "name": "stdout",
     "output_type": "stream",
     "text": [
      "MoviePy - Done.\n",
      "변환 완료: A03_S01_F_A_06_017_02_WA_MO.wav\n",
      "{'video_found': True, 'audio_found': True, 'metadata': {'major_brand': 'isom', 'minor_version': '512', 'compatible_brands': 'isomiso2mp41', 'encoder': 'Lavf58.29.100'}, 'inputs': [{'streams': [{'input_number': 0, 'stream_number': 0, 'stream_type': 'video', 'language': None, 'default': True, 'size': [1920, 1080], 'bitrate': 8854, 'fps': 30.0, 'codec_name': 'mpeg4', 'profile': '(Simple Profile)', 'metadata': {'Metadata': '', 'handler_name': 'VideoHandler', 'vendor_id': '[0][0][0][0]'}}, {'input_number': 0, 'stream_number': 1, 'stream_type': 'audio', 'language': None, 'default': True, 'fps': 44100, 'bitrate': 129, 'metadata': {'Metadata': '', 'handler_name': 'SoundHandler', 'vendor_id': '[0][0][0][0]'}}], 'input_number': 0}], 'duration': 328.54, 'bitrate': 8990, 'start': 0.0, 'default_video_input_number': 0, 'default_video_stream_number': 0, 'video_codec_name': 'mpeg4', 'video_profile': '(Simple Profile)', 'video_size': [1920, 1080], 'video_bitrate': 8854, 'video_fps': 30.0, 'default_audio_input_number': 0, 'default_audio_stream_number': 1, 'audio_fps': 44100, 'audio_bitrate': 129, 'video_duration': 328.54, 'video_n_frames': 9856}\n",
      "C:\\Users\\USER\\anaconda3\\Lib\\site-packages\\imageio_ffmpeg\\binaries\\ffmpeg-win-x86_64-v7.1.exe -i C:\\Users\\USER\\Desktop\\동아리\\O.P.C\\unzipped_영상\\A03_S01_F_E_01_074_02_WA_MO.mp4 -loglevel error -f image2pipe -vf scale=1920:1080 -sws_flags bicubic -pix_fmt rgb24 -vcodec rawvideo -\n",
      "MoviePy - Writing audio in ./wav\\A03_S01_F_E_01_074_02_WA_MO.wav\n"
     ]
    },
    {
     "name": "stderr",
     "output_type": "stream",
     "text": [
      "                                                                      \r"
     ]
    },
    {
     "name": "stdout",
     "output_type": "stream",
     "text": [
      "MoviePy - Done.\n",
      "변환 완료: A03_S01_F_E_01_074_02_WA_MO.wav\n",
      "{'video_found': True, 'audio_found': True, 'metadata': {'major_brand': 'isom', 'minor_version': '512', 'compatible_brands': 'isomiso2mp41', 'encoder': 'Lavf58.29.100'}, 'inputs': [{'streams': [{'input_number': 0, 'stream_number': 0, 'stream_type': 'video', 'language': None, 'default': True, 'size': [1920, 1080], 'bitrate': 2486, 'fps': 30.0, 'codec_name': 'mpeg4', 'profile': '(Simple Profile)', 'metadata': {'Metadata': '', 'handler_name': 'VideoHandler', 'vendor_id': '[0][0][0][0]'}}, {'input_number': 0, 'stream_number': 1, 'stream_type': 'audio', 'language': None, 'default': True, 'fps': 44100, 'bitrate': 128, 'metadata': {'Metadata': '', 'handler_name': 'SoundHandler', 'vendor_id': '[0][0][0][0]'}}], 'input_number': 0}], 'duration': 228.3, 'bitrate': 2622, 'start': 0.0, 'default_video_input_number': 0, 'default_video_stream_number': 0, 'video_codec_name': 'mpeg4', 'video_profile': '(Simple Profile)', 'video_size': [1920, 1080], 'video_bitrate': 2486, 'video_fps': 30.0, 'default_audio_input_number': 0, 'default_audio_stream_number': 1, 'audio_fps': 44100, 'audio_bitrate': 128, 'video_duration': 228.3, 'video_n_frames': 6849}\n",
      "C:\\Users\\USER\\anaconda3\\Lib\\site-packages\\imageio_ffmpeg\\binaries\\ffmpeg-win-x86_64-v7.1.exe -i C:\\Users\\USER\\Desktop\\동아리\\O.P.C\\unzipped_영상\\A03_S01_F_E_02_077_02_WA_MO.mp4 -loglevel error -f image2pipe -vf scale=1920:1080 -sws_flags bicubic -pix_fmt rgb24 -vcodec rawvideo -\n",
      "MoviePy - Writing audio in ./wav\\A03_S01_F_E_02_077_02_WA_MO.wav\n"
     ]
    },
    {
     "name": "stderr",
     "output_type": "stream",
     "text": [
      "                                                                      \r"
     ]
    },
    {
     "name": "stdout",
     "output_type": "stream",
     "text": [
      "MoviePy - Done.\n",
      "변환 완료: A03_S01_F_E_02_077_02_WA_MO.wav\n",
      "{'video_found': True, 'audio_found': True, 'metadata': {'major_brand': 'isom', 'minor_version': '512', 'compatible_brands': 'isomiso2mp41', 'encoder': 'Lavf58.29.100'}, 'inputs': [{'streams': [{'input_number': 0, 'stream_number': 0, 'stream_type': 'video', 'language': None, 'default': True, 'size': [1920, 1080], 'bitrate': 10004, 'fps': 30.0, 'codec_name': 'mpeg4', 'profile': '(Simple Profile)', 'metadata': {'Metadata': '', 'handler_name': 'VideoHandler', 'vendor_id': '[0][0][0][0]'}}, {'input_number': 0, 'stream_number': 1, 'stream_type': 'audio', 'language': None, 'default': True, 'fps': 44100, 'bitrate': 128, 'metadata': {'Metadata': '', 'handler_name': 'SoundHandler', 'vendor_id': '[0][0][0][0]'}}], 'input_number': 0}], 'duration': 276.83, 'bitrate': 10139, 'start': 0.0, 'default_video_input_number': 0, 'default_video_stream_number': 0, 'video_codec_name': 'mpeg4', 'video_profile': '(Simple Profile)', 'video_size': [1920, 1080], 'video_bitrate': 10004, 'video_fps': 30.0, 'default_audio_input_number': 0, 'default_audio_stream_number': 1, 'audio_fps': 44100, 'audio_bitrate': 128, 'video_duration': 276.83, 'video_n_frames': 8304}\n",
      "C:\\Users\\USER\\anaconda3\\Lib\\site-packages\\imageio_ffmpeg\\binaries\\ffmpeg-win-x86_64-v7.1.exe -i C:\\Users\\USER\\Desktop\\동아리\\O.P.C\\unzipped_영상\\A03_S01_F_E_03_079_02_WA_MO.mp4 -loglevel error -f image2pipe -vf scale=1920:1080 -sws_flags bicubic -pix_fmt rgb24 -vcodec rawvideo -\n",
      "MoviePy - Writing audio in ./wav\\A03_S01_F_E_03_079_02_WA_MO.wav\n"
     ]
    },
    {
     "name": "stderr",
     "output_type": "stream",
     "text": [
      "                                                                      \r"
     ]
    },
    {
     "name": "stdout",
     "output_type": "stream",
     "text": [
      "MoviePy - Done.\n",
      "변환 완료: A03_S01_F_E_03_079_02_WA_MO.wav\n",
      "{'video_found': True, 'audio_found': True, 'metadata': {'major_brand': 'isom', 'minor_version': '512', 'compatible_brands': 'isomiso2mp41', 'encoder': 'Lavf58.29.100'}, 'inputs': [{'streams': [{'input_number': 0, 'stream_number': 0, 'stream_type': 'video', 'language': None, 'default': True, 'size': [1920, 1080], 'bitrate': 3245, 'fps': 30.0, 'codec_name': 'mpeg4', 'profile': '(Simple Profile)', 'metadata': {'Metadata': '', 'handler_name': 'VideoHandler', 'vendor_id': '[0][0][0][0]'}}, {'input_number': 0, 'stream_number': 1, 'stream_type': 'audio', 'language': None, 'default': True, 'fps': 44100, 'bitrate': 128, 'metadata': {'Metadata': '', 'handler_name': 'SoundHandler', 'vendor_id': '[0][0][0][0]'}}], 'input_number': 0}], 'duration': 212.8, 'bitrate': 3381, 'start': 0.0, 'default_video_input_number': 0, 'default_video_stream_number': 0, 'video_codec_name': 'mpeg4', 'video_profile': '(Simple Profile)', 'video_size': [1920, 1080], 'video_bitrate': 3245, 'video_fps': 30.0, 'default_audio_input_number': 0, 'default_audio_stream_number': 1, 'audio_fps': 44100, 'audio_bitrate': 128, 'video_duration': 212.8, 'video_n_frames': 6384}\n",
      "C:\\Users\\USER\\anaconda3\\Lib\\site-packages\\imageio_ffmpeg\\binaries\\ffmpeg-win-x86_64-v7.1.exe -i C:\\Users\\USER\\Desktop\\동아리\\O.P.C\\unzipped_영상\\A03_S01_F_E_03_080_02_WA_MO.mp4 -loglevel error -f image2pipe -vf scale=1920:1080 -sws_flags bicubic -pix_fmt rgb24 -vcodec rawvideo -\n",
      "MoviePy - Writing audio in ./wav\\A03_S01_F_E_03_080_02_WA_MO.wav\n"
     ]
    },
    {
     "name": "stderr",
     "output_type": "stream",
     "text": [
      "                                                                      \r"
     ]
    },
    {
     "name": "stdout",
     "output_type": "stream",
     "text": [
      "MoviePy - Done.\n",
      "변환 완료: A03_S01_F_E_03_080_02_WA_MO.wav\n",
      "{'video_found': True, 'audio_found': True, 'metadata': {'major_brand': 'isom', 'minor_version': '512', 'compatible_brands': 'isomiso2mp41', 'encoder': 'Lavf58.29.100'}, 'inputs': [{'streams': [{'input_number': 0, 'stream_number': 0, 'stream_type': 'video', 'language': None, 'default': True, 'size': [1920, 1080], 'bitrate': 2999, 'fps': 30.0, 'codec_name': 'mpeg4', 'profile': '(Simple Profile)', 'metadata': {'Metadata': '', 'handler_name': 'VideoHandler', 'vendor_id': '[0][0][0][0]'}}, {'input_number': 0, 'stream_number': 1, 'stream_type': 'audio', 'language': None, 'default': True, 'fps': 44100, 'bitrate': 128, 'metadata': {'Metadata': '', 'handler_name': 'SoundHandler', 'vendor_id': '[0][0][0][0]'}}], 'input_number': 0}], 'duration': 241.2, 'bitrate': 3135, 'start': 0.0, 'default_video_input_number': 0, 'default_video_stream_number': 0, 'video_codec_name': 'mpeg4', 'video_profile': '(Simple Profile)', 'video_size': [1920, 1080], 'video_bitrate': 2999, 'video_fps': 30.0, 'default_audio_input_number': 0, 'default_audio_stream_number': 1, 'audio_fps': 44100, 'audio_bitrate': 128, 'video_duration': 241.2, 'video_n_frames': 7236}\n",
      "C:\\Users\\USER\\anaconda3\\Lib\\site-packages\\imageio_ffmpeg\\binaries\\ffmpeg-win-x86_64-v7.1.exe -i C:\\Users\\USER\\Desktop\\동아리\\O.P.C\\unzipped_영상\\A03_S01_F_E_03_081_02_WA_MO.mp4 -loglevel error -f image2pipe -vf scale=1920:1080 -sws_flags bicubic -pix_fmt rgb24 -vcodec rawvideo -\n",
      "MoviePy - Writing audio in ./wav\\A03_S01_F_E_03_081_02_WA_MO.wav\n"
     ]
    },
    {
     "name": "stderr",
     "output_type": "stream",
     "text": [
      "                                                                      \r"
     ]
    },
    {
     "name": "stdout",
     "output_type": "stream",
     "text": [
      "MoviePy - Done.\n",
      "변환 완료: A03_S01_F_E_03_081_02_WA_MO.wav\n",
      "{'video_found': True, 'audio_found': True, 'metadata': {'major_brand': 'isom', 'minor_version': '512', 'compatible_brands': 'isomiso2mp41', 'encoder': 'Lavf58.29.100'}, 'inputs': [{'streams': [{'input_number': 0, 'stream_number': 0, 'stream_type': 'video', 'language': None, 'default': True, 'size': [1920, 1080], 'bitrate': 2876, 'fps': 30.0, 'codec_name': 'mpeg4', 'profile': '(Simple Profile)', 'metadata': {'Metadata': '', 'handler_name': 'VideoHandler', 'vendor_id': '[0][0][0][0]'}}, {'input_number': 0, 'stream_number': 1, 'stream_type': 'audio', 'language': None, 'default': True, 'fps': 44100, 'bitrate': 128, 'metadata': {'Metadata': '', 'handler_name': 'SoundHandler', 'vendor_id': '[0][0][0][0]'}}], 'input_number': 0}], 'duration': 233.13, 'bitrate': 3011, 'start': 0.0, 'default_video_input_number': 0, 'default_video_stream_number': 0, 'video_codec_name': 'mpeg4', 'video_profile': '(Simple Profile)', 'video_size': [1920, 1080], 'video_bitrate': 2876, 'video_fps': 30.0, 'default_audio_input_number': 0, 'default_audio_stream_number': 1, 'audio_fps': 44100, 'audio_bitrate': 128, 'video_duration': 233.13, 'video_n_frames': 6993}\n",
      "C:\\Users\\USER\\anaconda3\\Lib\\site-packages\\imageio_ffmpeg\\binaries\\ffmpeg-win-x86_64-v7.1.exe -i C:\\Users\\USER\\Desktop\\동아리\\O.P.C\\unzipped_영상\\A03_S01_F_E_04_084_02_WA_MO.mp4 -loglevel error -f image2pipe -vf scale=1920:1080 -sws_flags bicubic -pix_fmt rgb24 -vcodec rawvideo -\n",
      "MoviePy - Writing audio in ./wav\\A03_S01_F_E_04_084_02_WA_MO.wav\n"
     ]
    },
    {
     "name": "stderr",
     "output_type": "stream",
     "text": [
      "                                                                      \r"
     ]
    },
    {
     "name": "stdout",
     "output_type": "stream",
     "text": [
      "MoviePy - Done.\n",
      "변환 완료: A03_S01_F_E_04_084_02_WA_MO.wav\n",
      "{'video_found': True, 'audio_found': True, 'metadata': {'major_brand': 'isom', 'minor_version': '512', 'compatible_brands': 'isomiso2mp41', 'encoder': 'Lavf58.29.100'}, 'inputs': [{'streams': [{'input_number': 0, 'stream_number': 0, 'stream_type': 'video', 'language': None, 'default': True, 'size': [1920, 1080], 'bitrate': 3038, 'fps': 30.0, 'codec_name': 'mpeg4', 'profile': '(Simple Profile)', 'metadata': {'Metadata': '', 'handler_name': 'VideoHandler', 'vendor_id': '[0][0][0][0]'}}, {'input_number': 0, 'stream_number': 1, 'stream_type': 'audio', 'language': None, 'default': True, 'fps': 44100, 'bitrate': 128, 'metadata': {'Metadata': '', 'handler_name': 'SoundHandler', 'vendor_id': '[0][0][0][0]'}}], 'input_number': 0}], 'duration': 268.83, 'bitrate': 3174, 'start': 0.0, 'default_video_input_number': 0, 'default_video_stream_number': 0, 'video_codec_name': 'mpeg4', 'video_profile': '(Simple Profile)', 'video_size': [1920, 1080], 'video_bitrate': 3038, 'video_fps': 30.0, 'default_audio_input_number': 0, 'default_audio_stream_number': 1, 'audio_fps': 44100, 'audio_bitrate': 128, 'video_duration': 268.83, 'video_n_frames': 8064}\n",
      "C:\\Users\\USER\\anaconda3\\Lib\\site-packages\\imageio_ffmpeg\\binaries\\ffmpeg-win-x86_64-v7.1.exe -i C:\\Users\\USER\\Desktop\\동아리\\O.P.C\\unzipped_영상\\A03_S01_F_E_05_085_02_WA_MO.mp4 -loglevel error -f image2pipe -vf scale=1920:1080 -sws_flags bicubic -pix_fmt rgb24 -vcodec rawvideo -\n",
      "MoviePy - Writing audio in ./wav\\A03_S01_F_E_05_085_02_WA_MO.wav\n"
     ]
    },
    {
     "name": "stderr",
     "output_type": "stream",
     "text": [
      "                                                                      \r"
     ]
    },
    {
     "name": "stdout",
     "output_type": "stream",
     "text": [
      "MoviePy - Done.\n",
      "변환 완료: A03_S01_F_E_05_085_02_WA_MO.wav\n",
      "{'video_found': True, 'audio_found': True, 'metadata': {'major_brand': 'isom', 'minor_version': '512', 'compatible_brands': 'isomiso2mp41', 'encoder': 'Lavf58.29.100'}, 'inputs': [{'streams': [{'input_number': 0, 'stream_number': 0, 'stream_type': 'video', 'language': None, 'default': True, 'size': [1920, 1080], 'bitrate': 2882, 'fps': 30.0, 'codec_name': 'mpeg4', 'profile': '(Simple Profile)', 'metadata': {'Metadata': '', 'handler_name': 'VideoHandler', 'vendor_id': '[0][0][0][0]'}}, {'input_number': 0, 'stream_number': 1, 'stream_type': 'audio', 'language': None, 'default': True, 'fps': 44100, 'bitrate': 129, 'metadata': {'Metadata': '', 'handler_name': 'SoundHandler', 'vendor_id': '[0][0][0][0]'}}], 'input_number': 0}], 'duration': 242.53, 'bitrate': 3018, 'start': 0.0, 'default_video_input_number': 0, 'default_video_stream_number': 0, 'video_codec_name': 'mpeg4', 'video_profile': '(Simple Profile)', 'video_size': [1920, 1080], 'video_bitrate': 2882, 'video_fps': 30.0, 'default_audio_input_number': 0, 'default_audio_stream_number': 1, 'audio_fps': 44100, 'audio_bitrate': 129, 'video_duration': 242.53, 'video_n_frames': 7275}\n",
      "C:\\Users\\USER\\anaconda3\\Lib\\site-packages\\imageio_ffmpeg\\binaries\\ffmpeg-win-x86_64-v7.1.exe -i C:\\Users\\USER\\Desktop\\동아리\\O.P.C\\unzipped_영상\\A03_S01_F_E_05_087_02_WA_MO.mp4 -loglevel error -f image2pipe -vf scale=1920:1080 -sws_flags bicubic -pix_fmt rgb24 -vcodec rawvideo -\n",
      "MoviePy - Writing audio in ./wav\\A03_S01_F_E_05_087_02_WA_MO.wav\n"
     ]
    },
    {
     "name": "stderr",
     "output_type": "stream",
     "text": [
      "                                                                      \r"
     ]
    },
    {
     "name": "stdout",
     "output_type": "stream",
     "text": [
      "MoviePy - Done.\n",
      "변환 완료: A03_S01_F_E_05_087_02_WA_MO.wav\n",
      "{'video_found': True, 'audio_found': True, 'metadata': {'major_brand': 'isom', 'minor_version': '512', 'compatible_brands': 'isomiso2mp41', 'encoder': 'Lavf58.29.100'}, 'inputs': [{'streams': [{'input_number': 0, 'stream_number': 0, 'stream_type': 'video', 'language': None, 'default': True, 'size': [1920, 1080], 'bitrate': 3672, 'fps': 30.0, 'codec_name': 'mpeg4', 'profile': '(Simple Profile)', 'metadata': {'Metadata': '', 'handler_name': 'VideoHandler', 'vendor_id': '[0][0][0][0]'}}, {'input_number': 0, 'stream_number': 1, 'stream_type': 'audio', 'language': None, 'default': True, 'fps': 44100, 'bitrate': 128, 'metadata': {'Metadata': '', 'handler_name': 'SoundHandler', 'vendor_id': '[0][0][0][0]'}}], 'input_number': 0}], 'duration': 184.7, 'bitrate': 3807, 'start': 0.0, 'default_video_input_number': 0, 'default_video_stream_number': 0, 'video_codec_name': 'mpeg4', 'video_profile': '(Simple Profile)', 'video_size': [1920, 1080], 'video_bitrate': 3672, 'video_fps': 30.0, 'default_audio_input_number': 0, 'default_audio_stream_number': 1, 'audio_fps': 44100, 'audio_bitrate': 128, 'video_duration': 184.7, 'video_n_frames': 5541}\n",
      "C:\\Users\\USER\\anaconda3\\Lib\\site-packages\\imageio_ffmpeg\\binaries\\ffmpeg-win-x86_64-v7.1.exe -i C:\\Users\\USER\\Desktop\\동아리\\O.P.C\\unzipped_영상\\A03_S01_F_E_06_089_02_WA_MO.mp4 -loglevel error -f image2pipe -vf scale=1920:1080 -sws_flags bicubic -pix_fmt rgb24 -vcodec rawvideo -\n",
      "MoviePy - Writing audio in ./wav\\A03_S01_F_E_06_089_02_WA_MO.wav\n"
     ]
    },
    {
     "name": "stderr",
     "output_type": "stream",
     "text": [
      "                                                                      \r"
     ]
    },
    {
     "name": "stdout",
     "output_type": "stream",
     "text": [
      "MoviePy - Done.\n",
      "변환 완료: A03_S01_F_E_06_089_02_WA_MO.wav\n",
      "{'video_found': True, 'audio_found': True, 'metadata': {'major_brand': 'isom', 'minor_version': '512', 'compatible_brands': 'isomiso2mp41', 'encoder': 'Lavf58.29.100'}, 'inputs': [{'streams': [{'input_number': 0, 'stream_number': 0, 'stream_type': 'video', 'language': None, 'default': True, 'size': [1920, 1080], 'bitrate': 9115, 'fps': 30.0, 'codec_name': 'mpeg4', 'profile': '(Simple Profile)', 'metadata': {'Metadata': '', 'handler_name': 'VideoHandler', 'vendor_id': '[0][0][0][0]'}}, {'input_number': 0, 'stream_number': 1, 'stream_type': 'audio', 'language': None, 'default': True, 'fps': 44100, 'bitrate': 128, 'metadata': {'Metadata': '', 'handler_name': 'SoundHandler', 'vendor_id': '[0][0][0][0]'}}], 'input_number': 0}], 'duration': 303.33, 'bitrate': 9251, 'start': 0.0, 'default_video_input_number': 0, 'default_video_stream_number': 0, 'video_codec_name': 'mpeg4', 'video_profile': '(Simple Profile)', 'video_size': [1920, 1080], 'video_bitrate': 9115, 'video_fps': 30.0, 'default_audio_input_number': 0, 'default_audio_stream_number': 1, 'audio_fps': 44100, 'audio_bitrate': 128, 'video_duration': 303.33, 'video_n_frames': 9099}\n",
      "C:\\Users\\USER\\anaconda3\\Lib\\site-packages\\imageio_ffmpeg\\binaries\\ffmpeg-win-x86_64-v7.1.exe -i C:\\Users\\USER\\Desktop\\동아리\\O.P.C\\unzipped_영상\\A03_S01_M_A_01_003_02_WA_MO.mp4 -loglevel error -f image2pipe -vf scale=1920:1080 -sws_flags bicubic -pix_fmt rgb24 -vcodec rawvideo -\n",
      "MoviePy - Writing audio in ./wav\\A03_S01_M_A_01_003_02_WA_MO.wav\n"
     ]
    },
    {
     "name": "stderr",
     "output_type": "stream",
     "text": [
      "                                                                      \r"
     ]
    },
    {
     "name": "stdout",
     "output_type": "stream",
     "text": [
      "MoviePy - Done.\n",
      "변환 완료: A03_S01_M_A_01_003_02_WA_MO.wav\n",
      "{'video_found': True, 'audio_found': True, 'metadata': {'major_brand': 'isom', 'minor_version': '512', 'compatible_brands': 'isomiso2mp41', 'encoder': 'Lavf58.29.100'}, 'inputs': [{'streams': [{'input_number': 0, 'stream_number': 0, 'stream_type': 'video', 'language': None, 'default': True, 'size': [1920, 1080], 'bitrate': 10001, 'fps': 30.0, 'codec_name': 'mpeg4', 'profile': '(Simple Profile)', 'metadata': {'Metadata': '', 'handler_name': 'VideoHandler', 'vendor_id': '[0][0][0][0]'}}, {'input_number': 0, 'stream_number': 1, 'stream_type': 'audio', 'language': None, 'default': True, 'fps': 44100, 'bitrate': 128, 'metadata': {'Metadata': '', 'handler_name': 'SoundHandler', 'vendor_id': '[0][0][0][0]'}}], 'input_number': 0}], 'duration': 319.1, 'bitrate': 10137, 'start': 0.0, 'default_video_input_number': 0, 'default_video_stream_number': 0, 'video_codec_name': 'mpeg4', 'video_profile': '(Simple Profile)', 'video_size': [1920, 1080], 'video_bitrate': 10001, 'video_fps': 30.0, 'default_audio_input_number': 0, 'default_audio_stream_number': 1, 'audio_fps': 44100, 'audio_bitrate': 128, 'video_duration': 319.1, 'video_n_frames': 9573}\n",
      "C:\\Users\\USER\\anaconda3\\Lib\\site-packages\\imageio_ffmpeg\\binaries\\ffmpeg-win-x86_64-v7.1.exe -i C:\\Users\\USER\\Desktop\\동아리\\O.P.C\\unzipped_영상\\A03_S01_M_A_02_004_02_WA_MO.mp4 -loglevel error -f image2pipe -vf scale=1920:1080 -sws_flags bicubic -pix_fmt rgb24 -vcodec rawvideo -\n",
      "MoviePy - Writing audio in ./wav\\A03_S01_M_A_02_004_02_WA_MO.wav\n"
     ]
    },
    {
     "name": "stderr",
     "output_type": "stream",
     "text": [
      "                                                                      \r"
     ]
    },
    {
     "name": "stdout",
     "output_type": "stream",
     "text": [
      "MoviePy - Done.\n",
      "변환 완료: A03_S01_M_A_02_004_02_WA_MO.wav\n",
      "{'video_found': True, 'audio_found': True, 'metadata': {'major_brand': 'isom', 'minor_version': '512', 'compatible_brands': 'isomiso2mp41', 'encoder': 'Lavf58.29.100'}, 'inputs': [{'streams': [{'input_number': 0, 'stream_number': 0, 'stream_type': 'video', 'language': None, 'default': True, 'size': [1920, 1080], 'bitrate': 2576, 'fps': 30.0, 'codec_name': 'mpeg4', 'profile': '(Simple Profile)', 'metadata': {'Metadata': '', 'handler_name': 'VideoHandler', 'vendor_id': '[0][0][0][0]'}}, {'input_number': 0, 'stream_number': 1, 'stream_type': 'audio', 'language': None, 'default': True, 'fps': 44100, 'bitrate': 128, 'metadata': {'Metadata': '', 'handler_name': 'SoundHandler', 'vendor_id': '[0][0][0][0]'}}], 'input_number': 0}], 'duration': 245.95, 'bitrate': 2712, 'start': 0.0, 'default_video_input_number': 0, 'default_video_stream_number': 0, 'video_codec_name': 'mpeg4', 'video_profile': '(Simple Profile)', 'video_size': [1920, 1080], 'video_bitrate': 2576, 'video_fps': 30.0, 'default_audio_input_number': 0, 'default_audio_stream_number': 1, 'audio_fps': 44100, 'audio_bitrate': 128, 'video_duration': 245.95, 'video_n_frames': 7378}\n",
      "C:\\Users\\USER\\anaconda3\\Lib\\site-packages\\imageio_ffmpeg\\binaries\\ffmpeg-win-x86_64-v7.1.exe -i C:\\Users\\USER\\Desktop\\동아리\\O.P.C\\unzipped_영상\\A03_S01_M_A_04_011_02_WA_MO.mp4 -loglevel error -f image2pipe -vf scale=1920:1080 -sws_flags bicubic -pix_fmt rgb24 -vcodec rawvideo -\n",
      "MoviePy - Writing audio in ./wav\\A03_S01_M_A_04_011_02_WA_MO.wav\n"
     ]
    },
    {
     "name": "stderr",
     "output_type": "stream",
     "text": [
      "                                                                      \r"
     ]
    },
    {
     "name": "stdout",
     "output_type": "stream",
     "text": [
      "MoviePy - Done.\n",
      "변환 완료: A03_S01_M_A_04_011_02_WA_MO.wav\n",
      "{'video_found': True, 'audio_found': True, 'metadata': {'major_brand': 'isom', 'minor_version': '512', 'compatible_brands': 'isomiso2mp41', 'encoder': 'Lavf58.29.100'}, 'inputs': [{'streams': [{'input_number': 0, 'stream_number': 0, 'stream_type': 'video', 'language': None, 'default': True, 'size': [1920, 1080], 'bitrate': 3071, 'fps': 30.0, 'codec_name': 'mpeg4', 'profile': '(Simple Profile)', 'metadata': {'Metadata': '', 'handler_name': 'VideoHandler', 'vendor_id': '[0][0][0][0]'}}, {'input_number': 0, 'stream_number': 1, 'stream_type': 'audio', 'language': None, 'default': True, 'fps': 44100, 'bitrate': 128, 'metadata': {'Metadata': '', 'handler_name': 'SoundHandler', 'vendor_id': '[0][0][0][0]'}}], 'input_number': 0}], 'duration': 299.93, 'bitrate': 3206, 'start': 0.0, 'default_video_input_number': 0, 'default_video_stream_number': 0, 'video_codec_name': 'mpeg4', 'video_profile': '(Simple Profile)', 'video_size': [1920, 1080], 'video_bitrate': 3071, 'video_fps': 30.0, 'default_audio_input_number': 0, 'default_audio_stream_number': 1, 'audio_fps': 44100, 'audio_bitrate': 128, 'video_duration': 299.93, 'video_n_frames': 8997}\n",
      "C:\\Users\\USER\\anaconda3\\Lib\\site-packages\\imageio_ffmpeg\\binaries\\ffmpeg-win-x86_64-v7.1.exe -i C:\\Users\\USER\\Desktop\\동아리\\O.P.C\\unzipped_영상\\A03_S01_M_A_06_016_02_WA_MO.mp4 -loglevel error -f image2pipe -vf scale=1920:1080 -sws_flags bicubic -pix_fmt rgb24 -vcodec rawvideo -\n",
      "MoviePy - Writing audio in ./wav\\A03_S01_M_A_06_016_02_WA_MO.wav\n"
     ]
    },
    {
     "name": "stderr",
     "output_type": "stream",
     "text": [
      "                                                                      \r"
     ]
    },
    {
     "name": "stdout",
     "output_type": "stream",
     "text": [
      "MoviePy - Done.\n",
      "변환 완료: A03_S01_M_A_06_016_02_WA_MO.wav\n",
      "{'video_found': True, 'audio_found': True, 'metadata': {'major_brand': 'isom', 'minor_version': '512', 'compatible_brands': 'isomiso2mp41', 'encoder': 'Lavf58.29.100'}, 'inputs': [{'streams': [{'input_number': 0, 'stream_number': 0, 'stream_type': 'video', 'language': None, 'default': True, 'size': [1920, 1080], 'bitrate': 3712, 'fps': 30.0, 'codec_name': 'mpeg4', 'profile': '(Simple Profile)', 'metadata': {'Metadata': '', 'handler_name': 'VideoHandler', 'vendor_id': '[0][0][0][0]'}}, {'input_number': 0, 'stream_number': 1, 'stream_type': 'audio', 'language': None, 'default': True, 'fps': 44100, 'bitrate': 128, 'metadata': {'Metadata': '', 'handler_name': 'SoundHandler', 'vendor_id': '[0][0][0][0]'}}], 'input_number': 0}], 'duration': 198.6, 'bitrate': 3847, 'start': 0.0, 'default_video_input_number': 0, 'default_video_stream_number': 0, 'video_codec_name': 'mpeg4', 'video_profile': '(Simple Profile)', 'video_size': [1920, 1080], 'video_bitrate': 3712, 'video_fps': 30.0, 'default_audio_input_number': 0, 'default_audio_stream_number': 1, 'audio_fps': 44100, 'audio_bitrate': 128, 'video_duration': 198.6, 'video_n_frames': 5958}\n",
      "C:\\Users\\USER\\anaconda3\\Lib\\site-packages\\imageio_ffmpeg\\binaries\\ffmpeg-win-x86_64-v7.1.exe -i C:\\Users\\USER\\Desktop\\동아리\\O.P.C\\unzipped_영상\\A03_S01_M_A_06_018_02_WA_MO.mp4 -loglevel error -f image2pipe -vf scale=1920:1080 -sws_flags bicubic -pix_fmt rgb24 -vcodec rawvideo -\n",
      "MoviePy - Writing audio in ./wav\\A03_S01_M_A_06_018_02_WA_MO.wav\n"
     ]
    },
    {
     "name": "stderr",
     "output_type": "stream",
     "text": [
      "                                                                      \r"
     ]
    },
    {
     "name": "stdout",
     "output_type": "stream",
     "text": [
      "MoviePy - Done.\n",
      "변환 완료: A03_S01_M_A_06_018_02_WA_MO.wav\n",
      "{'video_found': True, 'audio_found': True, 'metadata': {'major_brand': 'isom', 'minor_version': '512', 'compatible_brands': 'isomiso2mp41', 'encoder': 'Lavf58.29.100'}, 'inputs': [{'streams': [{'input_number': 0, 'stream_number': 0, 'stream_type': 'video', 'language': None, 'default': True, 'size': [1920, 1080], 'bitrate': 2728, 'fps': 30.0, 'codec_name': 'mpeg4', 'profile': '(Simple Profile)', 'metadata': {'Metadata': '', 'handler_name': 'VideoHandler', 'vendor_id': '[0][0][0][0]'}}, {'input_number': 0, 'stream_number': 1, 'stream_type': 'audio', 'language': None, 'default': True, 'fps': 44100, 'bitrate': 128, 'metadata': {'Metadata': '', 'handler_name': 'SoundHandler', 'vendor_id': '[0][0][0][0]'}}], 'input_number': 0}], 'duration': 255.8, 'bitrate': 2863, 'start': 0.0, 'default_video_input_number': 0, 'default_video_stream_number': 0, 'video_codec_name': 'mpeg4', 'video_profile': '(Simple Profile)', 'video_size': [1920, 1080], 'video_bitrate': 2728, 'video_fps': 30.0, 'default_audio_input_number': 0, 'default_audio_stream_number': 1, 'audio_fps': 44100, 'audio_bitrate': 128, 'video_duration': 255.8, 'video_n_frames': 7674}\n",
      "C:\\Users\\USER\\anaconda3\\Lib\\site-packages\\imageio_ffmpeg\\binaries\\ffmpeg-win-x86_64-v7.1.exe -i C:\\Users\\USER\\Desktop\\동아리\\O.P.C\\unzipped_영상\\A03_S01_M_E_01_073_02_WA_MO.mp4 -loglevel error -f image2pipe -vf scale=1920:1080 -sws_flags bicubic -pix_fmt rgb24 -vcodec rawvideo -\n",
      "MoviePy - Writing audio in ./wav\\A03_S01_M_E_01_073_02_WA_MO.wav\n"
     ]
    },
    {
     "name": "stderr",
     "output_type": "stream",
     "text": [
      "                                                                      \r"
     ]
    },
    {
     "name": "stdout",
     "output_type": "stream",
     "text": [
      "MoviePy - Done.\n",
      "변환 완료: A03_S01_M_E_01_073_02_WA_MO.wav\n",
      "{'video_found': True, 'audio_found': True, 'metadata': {'major_brand': 'isom', 'minor_version': '512', 'compatible_brands': 'isomiso2mp41', 'encoder': 'Lavf58.29.100'}, 'inputs': [{'streams': [{'input_number': 0, 'stream_number': 0, 'stream_type': 'video', 'language': None, 'default': True, 'size': [1920, 1080], 'bitrate': 3094, 'fps': 30.0, 'codec_name': 'mpeg4', 'profile': '(Simple Profile)', 'metadata': {'Metadata': '', 'handler_name': 'VideoHandler', 'vendor_id': '[0][0][0][0]'}}, {'input_number': 0, 'stream_number': 1, 'stream_type': 'audio', 'language': None, 'default': True, 'fps': 44100, 'bitrate': 128, 'metadata': {'Metadata': '', 'handler_name': 'SoundHandler', 'vendor_id': '[0][0][0][0]'}}], 'input_number': 0}], 'duration': 388.3, 'bitrate': 3230, 'start': 0.0, 'default_video_input_number': 0, 'default_video_stream_number': 0, 'video_codec_name': 'mpeg4', 'video_profile': '(Simple Profile)', 'video_size': [1920, 1080], 'video_bitrate': 3094, 'video_fps': 30.0, 'default_audio_input_number': 0, 'default_audio_stream_number': 1, 'audio_fps': 44100, 'audio_bitrate': 128, 'video_duration': 388.3, 'video_n_frames': 11649}\n",
      "C:\\Users\\USER\\anaconda3\\Lib\\site-packages\\imageio_ffmpeg\\binaries\\ffmpeg-win-x86_64-v7.1.exe -i C:\\Users\\USER\\Desktop\\동아리\\O.P.C\\unzipped_영상\\A03_S01_M_E_02_078_02_WA_MO.mp4 -loglevel error -f image2pipe -vf scale=1920:1080 -sws_flags bicubic -pix_fmt rgb24 -vcodec rawvideo -\n",
      "MoviePy - Writing audio in ./wav\\A03_S01_M_E_02_078_02_WA_MO.wav\n"
     ]
    },
    {
     "name": "stderr",
     "output_type": "stream",
     "text": [
      "                                                                      \r"
     ]
    },
    {
     "name": "stdout",
     "output_type": "stream",
     "text": [
      "MoviePy - Done.\n",
      "변환 완료: A03_S01_M_E_02_078_02_WA_MO.wav\n",
      "{'video_found': True, 'audio_found': True, 'metadata': {'major_brand': 'isom', 'minor_version': '512', 'compatible_brands': 'isomiso2mp41', 'encoder': 'Lavf58.29.100'}, 'inputs': [{'streams': [{'input_number': 0, 'stream_number': 0, 'stream_type': 'video', 'language': None, 'default': True, 'size': [1920, 1080], 'bitrate': 2778, 'fps': 30.0, 'codec_name': 'mpeg4', 'profile': '(Simple Profile)', 'metadata': {'Metadata': '', 'handler_name': 'VideoHandler', 'vendor_id': '[0][0][0][0]'}}, {'input_number': 0, 'stream_number': 1, 'stream_type': 'audio', 'language': None, 'default': True, 'fps': 44100, 'bitrate': 128, 'metadata': {'Metadata': '', 'handler_name': 'SoundHandler', 'vendor_id': '[0][0][0][0]'}}], 'input_number': 0}], 'duration': 275.0, 'bitrate': 2914, 'start': 0.0, 'default_video_input_number': 0, 'default_video_stream_number': 0, 'video_codec_name': 'mpeg4', 'video_profile': '(Simple Profile)', 'video_size': [1920, 1080], 'video_bitrate': 2778, 'video_fps': 30.0, 'default_audio_input_number': 0, 'default_audio_stream_number': 1, 'audio_fps': 44100, 'audio_bitrate': 128, 'video_duration': 275.0, 'video_n_frames': 8250}\n",
      "C:\\Users\\USER\\anaconda3\\Lib\\site-packages\\imageio_ffmpeg\\binaries\\ffmpeg-win-x86_64-v7.1.exe -i C:\\Users\\USER\\Desktop\\동아리\\O.P.C\\unzipped_영상\\A03_S01_M_E_04_082_02_WA_MO.mp4 -loglevel error -f image2pipe -vf scale=1920:1080 -sws_flags bicubic -pix_fmt rgb24 -vcodec rawvideo -\n",
      "MoviePy - Writing audio in ./wav\\A03_S01_M_E_04_082_02_WA_MO.wav\n"
     ]
    },
    {
     "name": "stderr",
     "output_type": "stream",
     "text": [
      "                                                                      \r"
     ]
    },
    {
     "name": "stdout",
     "output_type": "stream",
     "text": [
      "MoviePy - Done.\n",
      "변환 완료: A03_S01_M_E_04_082_02_WA_MO.wav\n",
      "{'video_found': True, 'audio_found': True, 'metadata': {'major_brand': 'isom', 'minor_version': '512', 'compatible_brands': 'isomiso2mp41', 'encoder': 'Lavf58.29.100'}, 'inputs': [{'streams': [{'input_number': 0, 'stream_number': 0, 'stream_type': 'video', 'language': None, 'default': True, 'size': [1920, 1080], 'bitrate': 10002, 'fps': 30.0, 'codec_name': 'mpeg4', 'profile': '(Simple Profile)', 'metadata': {'Metadata': '', 'handler_name': 'VideoHandler', 'vendor_id': '[0][0][0][0]'}}, {'input_number': 0, 'stream_number': 1, 'stream_type': 'audio', 'language': None, 'default': True, 'fps': 44100, 'bitrate': 128, 'metadata': {'Metadata': '', 'handler_name': 'SoundHandler', 'vendor_id': '[0][0][0][0]'}}], 'input_number': 0}], 'duration': 243.83, 'bitrate': 10138, 'start': 0.0, 'default_video_input_number': 0, 'default_video_stream_number': 0, 'video_codec_name': 'mpeg4', 'video_profile': '(Simple Profile)', 'video_size': [1920, 1080], 'video_bitrate': 10002, 'video_fps': 30.0, 'default_audio_input_number': 0, 'default_audio_stream_number': 1, 'audio_fps': 44100, 'audio_bitrate': 128, 'video_duration': 243.83, 'video_n_frames': 7314}\n",
      "C:\\Users\\USER\\anaconda3\\Lib\\site-packages\\imageio_ffmpeg\\binaries\\ffmpeg-win-x86_64-v7.1.exe -i C:\\Users\\USER\\Desktop\\동아리\\O.P.C\\unzipped_영상\\A03_S01_M_E_04_083_02_WA_MO.mp4 -loglevel error -f image2pipe -vf scale=1920:1080 -sws_flags bicubic -pix_fmt rgb24 -vcodec rawvideo -\n",
      "MoviePy - Writing audio in ./wav\\A03_S01_M_E_04_083_02_WA_MO.wav\n"
     ]
    },
    {
     "name": "stderr",
     "output_type": "stream",
     "text": [
      "                                                                      \r"
     ]
    },
    {
     "name": "stdout",
     "output_type": "stream",
     "text": [
      "MoviePy - Done.\n",
      "변환 완료: A03_S01_M_E_04_083_02_WA_MO.wav\n",
      "{'video_found': True, 'audio_found': True, 'metadata': {'major_brand': 'isom', 'minor_version': '512', 'compatible_brands': 'isomiso2mp41', 'encoder': 'Lavf58.29.100'}, 'inputs': [{'streams': [{'input_number': 0, 'stream_number': 0, 'stream_type': 'video', 'language': None, 'default': True, 'size': [1920, 1080], 'bitrate': 2990, 'fps': 30.0, 'codec_name': 'mpeg4', 'profile': '(Simple Profile)', 'metadata': {'Metadata': '', 'handler_name': 'VideoHandler', 'vendor_id': '[0][0][0][0]'}}, {'input_number': 0, 'stream_number': 1, 'stream_type': 'audio', 'language': None, 'default': True, 'fps': 44100, 'bitrate': 128, 'metadata': {'Metadata': '', 'handler_name': 'SoundHandler', 'vendor_id': '[0][0][0][0]'}}], 'input_number': 0}], 'duration': 314.13, 'bitrate': 3126, 'start': 0.0, 'default_video_input_number': 0, 'default_video_stream_number': 0, 'video_codec_name': 'mpeg4', 'video_profile': '(Simple Profile)', 'video_size': [1920, 1080], 'video_bitrate': 2990, 'video_fps': 30.0, 'default_audio_input_number': 0, 'default_audio_stream_number': 1, 'audio_fps': 44100, 'audio_bitrate': 128, 'video_duration': 314.13, 'video_n_frames': 9423}\n",
      "C:\\Users\\USER\\anaconda3\\Lib\\site-packages\\imageio_ffmpeg\\binaries\\ffmpeg-win-x86_64-v7.1.exe -i C:\\Users\\USER\\Desktop\\동아리\\O.P.C\\unzipped_영상\\A03_S01_M_E_06_088_02_WA_MO.mp4 -loglevel error -f image2pipe -vf scale=1920:1080 -sws_flags bicubic -pix_fmt rgb24 -vcodec rawvideo -\n",
      "MoviePy - Writing audio in ./wav\\A03_S01_M_E_06_088_02_WA_MO.wav\n"
     ]
    },
    {
     "name": "stderr",
     "output_type": "stream",
     "text": [
      "                                                                      \r"
     ]
    },
    {
     "name": "stdout",
     "output_type": "stream",
     "text": [
      "MoviePy - Done.\n",
      "변환 완료: A03_S01_M_E_06_088_02_WA_MO.wav\n",
      "{'video_found': True, 'audio_found': True, 'metadata': {'major_brand': 'isom', 'minor_version': '512', 'compatible_brands': 'isomiso2mp41', 'encoder': 'Lavf58.29.100'}, 'inputs': [{'streams': [{'input_number': 0, 'stream_number': 0, 'stream_type': 'video', 'language': None, 'default': True, 'size': [1920, 1080], 'bitrate': 8353, 'fps': 30.0, 'codec_name': 'mpeg4', 'profile': '(Simple Profile)', 'metadata': {'Metadata': '', 'handler_name': 'VideoHandler', 'vendor_id': '[0][0][0][0]'}}, {'input_number': 0, 'stream_number': 1, 'stream_type': 'audio', 'language': None, 'default': True, 'fps': 44100, 'bitrate': 128, 'metadata': {'Metadata': '', 'handler_name': 'SoundHandler', 'vendor_id': '[0][0][0][0]'}}], 'input_number': 0}], 'duration': 300.8, 'bitrate': 8489, 'start': 0.0, 'default_video_input_number': 0, 'default_video_stream_number': 0, 'video_codec_name': 'mpeg4', 'video_profile': '(Simple Profile)', 'video_size': [1920, 1080], 'video_bitrate': 8353, 'video_fps': 30.0, 'default_audio_input_number': 0, 'default_audio_stream_number': 1, 'audio_fps': 44100, 'audio_bitrate': 128, 'video_duration': 300.8, 'video_n_frames': 9024}\n",
      "C:\\Users\\USER\\anaconda3\\Lib\\site-packages\\imageio_ffmpeg\\binaries\\ffmpeg-win-x86_64-v7.1.exe -i C:\\Users\\USER\\Desktop\\동아리\\O.P.C\\unzipped_영상\\A03_S01_M_E_06_090_02_WA_MO.mp4 -loglevel error -f image2pipe -vf scale=1920:1080 -sws_flags bicubic -pix_fmt rgb24 -vcodec rawvideo -\n",
      "MoviePy - Writing audio in ./wav\\A03_S01_M_E_06_090_02_WA_MO.wav\n"
     ]
    },
    {
     "name": "stderr",
     "output_type": "stream",
     "text": [
      "                                                                      \r"
     ]
    },
    {
     "name": "stdout",
     "output_type": "stream",
     "text": [
      "MoviePy - Done.\n",
      "변환 완료: A03_S01_M_E_06_090_02_WA_MO.wav\n",
      "{'video_found': True, 'audio_found': True, 'metadata': {'major_brand': 'isom', 'minor_version': '512', 'compatible_brands': 'isomiso2mp41', 'encoder': 'Lavf58.29.100'}, 'inputs': [{'streams': [{'input_number': 0, 'stream_number': 0, 'stream_type': 'video', 'language': None, 'default': True, 'size': [1920, 1080], 'bitrate': 2904, 'fps': 30.0, 'codec_name': 'mpeg4', 'profile': '(Simple Profile)', 'metadata': {'Metadata': '', 'handler_name': 'VideoHandler', 'vendor_id': '[0][0][0][0]'}}, {'input_number': 0, 'stream_number': 1, 'stream_type': 'audio', 'language': None, 'default': True, 'fps': 44100, 'bitrate': 128, 'metadata': {'Metadata': '', 'handler_name': 'SoundHandler', 'vendor_id': '[0][0][0][0]'}}], 'input_number': 0}], 'duration': 244.3, 'bitrate': 3040, 'start': 0.0, 'default_video_input_number': 0, 'default_video_stream_number': 0, 'video_codec_name': 'mpeg4', 'video_profile': '(Simple Profile)', 'video_size': [1920, 1080], 'video_bitrate': 2904, 'video_fps': 30.0, 'default_audio_input_number': 0, 'default_audio_stream_number': 1, 'audio_fps': 44100, 'audio_bitrate': 128, 'video_duration': 244.3, 'video_n_frames': 7329}\n",
      "C:\\Users\\USER\\anaconda3\\Lib\\site-packages\\imageio_ffmpeg\\binaries\\ffmpeg-win-x86_64-v7.1.exe -i C:\\Users\\USER\\Desktop\\동아리\\O.P.C\\unzipped_영상\\A03_S02_F_B_01_021_02_WA_MO.mp4 -loglevel error -f image2pipe -vf scale=1920:1080 -sws_flags bicubic -pix_fmt rgb24 -vcodec rawvideo -\n",
      "MoviePy - Writing audio in ./wav\\A03_S02_F_B_01_021_02_WA_MO.wav\n"
     ]
    },
    {
     "name": "stderr",
     "output_type": "stream",
     "text": [
      "                                                                      \r"
     ]
    },
    {
     "name": "stdout",
     "output_type": "stream",
     "text": [
      "MoviePy - Done.\n",
      "변환 완료: A03_S02_F_B_01_021_02_WA_MO.wav\n",
      "{'video_found': True, 'audio_found': True, 'metadata': {'major_brand': 'isom', 'minor_version': '512', 'compatible_brands': 'isomiso2mp41', 'encoder': 'Lavf58.29.100'}, 'inputs': [{'streams': [{'input_number': 0, 'stream_number': 0, 'stream_type': 'video', 'language': None, 'default': True, 'size': [1920, 1080], 'bitrate': 8480, 'fps': 30.0, 'codec_name': 'mpeg4', 'profile': '(Simple Profile)', 'metadata': {'Metadata': '', 'handler_name': 'VideoHandler', 'vendor_id': '[0][0][0][0]'}}, {'input_number': 0, 'stream_number': 1, 'stream_type': 'audio', 'language': None, 'default': True, 'fps': 44100, 'bitrate': 128, 'metadata': {'Metadata': '', 'handler_name': 'SoundHandler', 'vendor_id': '[0][0][0][0]'}}], 'input_number': 0}], 'duration': 357.8, 'bitrate': 8615, 'start': 0.0, 'default_video_input_number': 0, 'default_video_stream_number': 0, 'video_codec_name': 'mpeg4', 'video_profile': '(Simple Profile)', 'video_size': [1920, 1080], 'video_bitrate': 8480, 'video_fps': 30.0, 'default_audio_input_number': 0, 'default_audio_stream_number': 1, 'audio_fps': 44100, 'audio_bitrate': 128, 'video_duration': 357.8, 'video_n_frames': 10734}\n",
      "C:\\Users\\USER\\anaconda3\\Lib\\site-packages\\imageio_ffmpeg\\binaries\\ffmpeg-win-x86_64-v7.1.exe -i C:\\Users\\USER\\Desktop\\동아리\\O.P.C\\unzipped_영상\\A03_S02_F_B_02_022_02_WA_MO.mp4 -loglevel error -f image2pipe -vf scale=1920:1080 -sws_flags bicubic -pix_fmt rgb24 -vcodec rawvideo -\n",
      "MoviePy - Writing audio in ./wav\\A03_S02_F_B_02_022_02_WA_MO.wav\n"
     ]
    },
    {
     "name": "stderr",
     "output_type": "stream",
     "text": [
      "                                                                      \r"
     ]
    },
    {
     "name": "stdout",
     "output_type": "stream",
     "text": [
      "MoviePy - Done.\n",
      "변환 완료: A03_S02_F_B_02_022_02_WA_MO.wav\n",
      "{'video_found': True, 'audio_found': True, 'metadata': {'major_brand': 'isom', 'minor_version': '512', 'compatible_brands': 'isomiso2mp41', 'encoder': 'Lavf58.29.100'}, 'inputs': [{'streams': [{'input_number': 0, 'stream_number': 0, 'stream_type': 'video', 'language': None, 'default': True, 'size': [1920, 1080], 'bitrate': 10002, 'fps': 30.0, 'codec_name': 'mpeg4', 'profile': '(Simple Profile)', 'metadata': {'Metadata': '', 'handler_name': 'VideoHandler', 'vendor_id': '[0][0][0][0]'}}, {'input_number': 0, 'stream_number': 1, 'stream_type': 'audio', 'language': None, 'default': True, 'fps': 44100, 'bitrate': 129, 'metadata': {'Metadata': '', 'handler_name': 'SoundHandler', 'vendor_id': '[0][0][0][0]'}}], 'input_number': 0}], 'duration': 365.95, 'bitrate': 10137, 'start': 0.0, 'default_video_input_number': 0, 'default_video_stream_number': 0, 'video_codec_name': 'mpeg4', 'video_profile': '(Simple Profile)', 'video_size': [1920, 1080], 'video_bitrate': 10002, 'video_fps': 30.0, 'default_audio_input_number': 0, 'default_audio_stream_number': 1, 'audio_fps': 44100, 'audio_bitrate': 129, 'video_duration': 365.95, 'video_n_frames': 10978}\n",
      "C:\\Users\\USER\\anaconda3\\Lib\\site-packages\\imageio_ffmpeg\\binaries\\ffmpeg-win-x86_64-v7.1.exe -i C:\\Users\\USER\\Desktop\\동아리\\O.P.C\\unzipped_영상\\A03_S02_F_B_02_023_02_WA_MO.mp4 -loglevel error -f image2pipe -vf scale=1920:1080 -sws_flags bicubic -pix_fmt rgb24 -vcodec rawvideo -\n",
      "MoviePy - Writing audio in ./wav\\A03_S02_F_B_02_023_02_WA_MO.wav\n"
     ]
    },
    {
     "name": "stderr",
     "output_type": "stream",
     "text": [
      "                                                                      \r"
     ]
    },
    {
     "name": "stdout",
     "output_type": "stream",
     "text": [
      "MoviePy - Done.\n",
      "변환 완료: A03_S02_F_B_02_023_02_WA_MO.wav\n",
      "{'video_found': True, 'audio_found': True, 'metadata': {'major_brand': 'isom', 'minor_version': '512', 'compatible_brands': 'isomiso2mp41', 'encoder': 'Lavf58.29.100'}, 'inputs': [{'streams': [{'input_number': 0, 'stream_number': 0, 'stream_type': 'video', 'language': None, 'default': True, 'size': [1920, 1080], 'bitrate': 2658, 'fps': 30.0, 'codec_name': 'mpeg4', 'profile': '(Simple Profile)', 'metadata': {'Metadata': '', 'handler_name': 'VideoHandler', 'vendor_id': '[0][0][0][0]'}}, {'input_number': 0, 'stream_number': 1, 'stream_type': 'audio', 'language': None, 'default': True, 'fps': 44100, 'bitrate': 128, 'metadata': {'Metadata': '', 'handler_name': 'SoundHandler', 'vendor_id': '[0][0][0][0]'}}], 'input_number': 0}], 'duration': 246.9, 'bitrate': 2793, 'start': 0.0, 'default_video_input_number': 0, 'default_video_stream_number': 0, 'video_codec_name': 'mpeg4', 'video_profile': '(Simple Profile)', 'video_size': [1920, 1080], 'video_bitrate': 2658, 'video_fps': 30.0, 'default_audio_input_number': 0, 'default_audio_stream_number': 1, 'audio_fps': 44100, 'audio_bitrate': 128, 'video_duration': 246.9, 'video_n_frames': 7407}\n",
      "C:\\Users\\USER\\anaconda3\\Lib\\site-packages\\imageio_ffmpeg\\binaries\\ffmpeg-win-x86_64-v7.1.exe -i C:\\Users\\USER\\Desktop\\동아리\\O.P.C\\unzipped_영상\\A03_S02_F_B_02_024_02_WA_MO.mp4 -loglevel error -f image2pipe -vf scale=1920:1080 -sws_flags bicubic -pix_fmt rgb24 -vcodec rawvideo -\n",
      "MoviePy - Writing audio in ./wav\\A03_S02_F_B_02_024_02_WA_MO.wav\n"
     ]
    },
    {
     "name": "stderr",
     "output_type": "stream",
     "text": [
      "                                                                      \r"
     ]
    },
    {
     "name": "stdout",
     "output_type": "stream",
     "text": [
      "MoviePy - Done.\n",
      "변환 완료: A03_S02_F_B_02_024_02_WA_MO.wav\n",
      "{'video_found': True, 'audio_found': True, 'metadata': {'major_brand': 'isom', 'minor_version': '512', 'compatible_brands': 'isomiso2mp41', 'encoder': 'Lavf58.29.100'}, 'inputs': [{'streams': [{'input_number': 0, 'stream_number': 0, 'stream_type': 'video', 'language': None, 'default': True, 'size': [1920, 1080], 'bitrate': 3189, 'fps': 30.0, 'codec_name': 'mpeg4', 'profile': '(Simple Profile)', 'metadata': {'Metadata': '', 'handler_name': 'VideoHandler', 'vendor_id': '[0][0][0][0]'}}, {'input_number': 0, 'stream_number': 1, 'stream_type': 'audio', 'language': None, 'default': True, 'fps': 44100, 'bitrate': 128, 'metadata': {'Metadata': '', 'handler_name': 'SoundHandler', 'vendor_id': '[0][0][0][0]'}}], 'input_number': 0}], 'duration': 314.24, 'bitrate': 3325, 'start': 0.0, 'default_video_input_number': 0, 'default_video_stream_number': 0, 'video_codec_name': 'mpeg4', 'video_profile': '(Simple Profile)', 'video_size': [1920, 1080], 'video_bitrate': 3189, 'video_fps': 30.0, 'default_audio_input_number': 0, 'default_audio_stream_number': 1, 'audio_fps': 44100, 'audio_bitrate': 128, 'video_duration': 314.24, 'video_n_frames': 9427}\n",
      "C:\\Users\\USER\\anaconda3\\Lib\\site-packages\\imageio_ffmpeg\\binaries\\ffmpeg-win-x86_64-v7.1.exe -i C:\\Users\\USER\\Desktop\\동아리\\O.P.C\\unzipped_영상\\A03_S02_F_B_03_025_02_WA_MO.mp4 -loglevel error -f image2pipe -vf scale=1920:1080 -sws_flags bicubic -pix_fmt rgb24 -vcodec rawvideo -\n",
      "MoviePy - Writing audio in ./wav\\A03_S02_F_B_03_025_02_WA_MO.wav\n"
     ]
    },
    {
     "name": "stderr",
     "output_type": "stream",
     "text": [
      "                                                                      \r"
     ]
    },
    {
     "name": "stdout",
     "output_type": "stream",
     "text": [
      "MoviePy - Done.\n",
      "변환 완료: A03_S02_F_B_03_025_02_WA_MO.wav\n",
      "{'video_found': True, 'audio_found': True, 'metadata': {'major_brand': 'isom', 'minor_version': '512', 'compatible_brands': 'isomiso2mp41', 'encoder': 'Lavf58.29.100'}, 'inputs': [{'streams': [{'input_number': 0, 'stream_number': 0, 'stream_type': 'video', 'language': None, 'default': True, 'size': [1920, 1080], 'bitrate': 2807, 'fps': 30.0, 'codec_name': 'mpeg4', 'profile': '(Simple Profile)', 'metadata': {'Metadata': '', 'handler_name': 'VideoHandler', 'vendor_id': '[0][0][0][0]'}}, {'input_number': 0, 'stream_number': 1, 'stream_type': 'audio', 'language': None, 'default': True, 'fps': 44100, 'bitrate': 128, 'metadata': {'Metadata': '', 'handler_name': 'SoundHandler', 'vendor_id': '[0][0][0][0]'}}], 'input_number': 0}], 'duration': 330.5, 'bitrate': 2943, 'start': 0.0, 'default_video_input_number': 0, 'default_video_stream_number': 0, 'video_codec_name': 'mpeg4', 'video_profile': '(Simple Profile)', 'video_size': [1920, 1080], 'video_bitrate': 2807, 'video_fps': 30.0, 'default_audio_input_number': 0, 'default_audio_stream_number': 1, 'audio_fps': 44100, 'audio_bitrate': 128, 'video_duration': 330.5, 'video_n_frames': 9915}\n",
      "C:\\Users\\USER\\anaconda3\\Lib\\site-packages\\imageio_ffmpeg\\binaries\\ffmpeg-win-x86_64-v7.1.exe -i C:\\Users\\USER\\Desktop\\동아리\\O.P.C\\unzipped_영상\\A03_S02_F_B_05_031_02_WA_MO.mp4 -loglevel error -f image2pipe -vf scale=1920:1080 -sws_flags bicubic -pix_fmt rgb24 -vcodec rawvideo -\n",
      "MoviePy - Writing audio in ./wav\\A03_S02_F_B_05_031_02_WA_MO.wav\n"
     ]
    },
    {
     "name": "stderr",
     "output_type": "stream",
     "text": [
      "                                                                      \r"
     ]
    },
    {
     "name": "stdout",
     "output_type": "stream",
     "text": [
      "MoviePy - Done.\n",
      "변환 완료: A03_S02_F_B_05_031_02_WA_MO.wav\n",
      "{'video_found': True, 'audio_found': True, 'metadata': {'major_brand': 'isom', 'minor_version': '512', 'compatible_brands': 'isomiso2mp41', 'encoder': 'Lavf58.29.100'}, 'inputs': [{'streams': [{'input_number': 0, 'stream_number': 0, 'stream_type': 'video', 'language': None, 'default': True, 'size': [1920, 1080], 'bitrate': 2514, 'fps': 30.0, 'codec_name': 'mpeg4', 'profile': '(Simple Profile)', 'metadata': {'Metadata': '', 'handler_name': 'VideoHandler', 'vendor_id': '[0][0][0][0]'}}, {'input_number': 0, 'stream_number': 1, 'stream_type': 'audio', 'language': None, 'default': True, 'fps': 44100, 'bitrate': 128, 'metadata': {'Metadata': '', 'handler_name': 'SoundHandler', 'vendor_id': '[0][0][0][0]'}}], 'input_number': 0}], 'duration': 300.0, 'bitrate': 2649, 'start': 0.0, 'default_video_input_number': 0, 'default_video_stream_number': 0, 'video_codec_name': 'mpeg4', 'video_profile': '(Simple Profile)', 'video_size': [1920, 1080], 'video_bitrate': 2514, 'video_fps': 30.0, 'default_audio_input_number': 0, 'default_audio_stream_number': 1, 'audio_fps': 44100, 'audio_bitrate': 128, 'video_duration': 300.0, 'video_n_frames': 9000}\n",
      "C:\\Users\\USER\\anaconda3\\Lib\\site-packages\\imageio_ffmpeg\\binaries\\ffmpeg-win-x86_64-v7.1.exe -i C:\\Users\\USER\\Desktop\\동아리\\O.P.C\\unzipped_영상\\A03_S02_F_B_05_032_02_WA_MO.mp4 -loglevel error -f image2pipe -vf scale=1920:1080 -sws_flags bicubic -pix_fmt rgb24 -vcodec rawvideo -\n",
      "MoviePy - Writing audio in ./wav\\A03_S02_F_B_05_032_02_WA_MO.wav\n"
     ]
    },
    {
     "name": "stderr",
     "output_type": "stream",
     "text": [
      "                                                                      \r"
     ]
    },
    {
     "name": "stdout",
     "output_type": "stream",
     "text": [
      "MoviePy - Done.\n",
      "변환 완료: A03_S02_F_B_05_032_02_WA_MO.wav\n",
      "{'video_found': True, 'audio_found': True, 'metadata': {'major_brand': 'isom', 'minor_version': '512', 'compatible_brands': 'isomiso2mp41', 'encoder': 'Lavf58.29.100'}, 'inputs': [{'streams': [{'input_number': 0, 'stream_number': 0, 'stream_type': 'video', 'language': None, 'default': True, 'size': [1920, 1080], 'bitrate': 6315, 'fps': 30.0, 'codec_name': 'mpeg4', 'profile': '(Simple Profile)', 'metadata': {'Metadata': '', 'handler_name': 'VideoHandler', 'vendor_id': '[0][0][0][0]'}}, {'input_number': 0, 'stream_number': 1, 'stream_type': 'audio', 'language': None, 'default': True, 'fps': 44100, 'bitrate': 128, 'metadata': {'Metadata': '', 'handler_name': 'SoundHandler', 'vendor_id': '[0][0][0][0]'}}], 'input_number': 0}], 'duration': 241.35, 'bitrate': 6451, 'start': 0.0, 'default_video_input_number': 0, 'default_video_stream_number': 0, 'video_codec_name': 'mpeg4', 'video_profile': '(Simple Profile)', 'video_size': [1920, 1080], 'video_bitrate': 6315, 'video_fps': 30.0, 'default_audio_input_number': 0, 'default_audio_stream_number': 1, 'audio_fps': 44100, 'audio_bitrate': 128, 'video_duration': 241.35, 'video_n_frames': 7240}\n",
      "C:\\Users\\USER\\anaconda3\\Lib\\site-packages\\imageio_ffmpeg\\binaries\\ffmpeg-win-x86_64-v7.1.exe -i C:\\Users\\USER\\Desktop\\동아리\\O.P.C\\unzipped_영상\\A03_S02_F_D_02_058_02_WA_MO.mp4 -loglevel error -f image2pipe -vf scale=1920:1080 -sws_flags bicubic -pix_fmt rgb24 -vcodec rawvideo -\n",
      "MoviePy - Writing audio in ./wav\\A03_S02_F_D_02_058_02_WA_MO.wav\n"
     ]
    },
    {
     "name": "stderr",
     "output_type": "stream",
     "text": [
      "                                                                      \r"
     ]
    },
    {
     "name": "stdout",
     "output_type": "stream",
     "text": [
      "MoviePy - Done.\n",
      "변환 완료: A03_S02_F_D_02_058_02_WA_MO.wav\n",
      "{'video_found': True, 'audio_found': True, 'metadata': {'major_brand': 'isom', 'minor_version': '512', 'compatible_brands': 'isomiso2mp41', 'encoder': 'Lavf58.29.100'}, 'inputs': [{'streams': [{'input_number': 0, 'stream_number': 0, 'stream_type': 'video', 'language': None, 'default': True, 'size': [1920, 1080], 'bitrate': 2821, 'fps': 30.0, 'codec_name': 'mpeg4', 'profile': '(Simple Profile)', 'metadata': {'Metadata': '', 'handler_name': 'VideoHandler', 'vendor_id': '[0][0][0][0]'}}, {'input_number': 0, 'stream_number': 1, 'stream_type': 'audio', 'language': None, 'default': True, 'fps': 44100, 'bitrate': 128, 'metadata': {'Metadata': '', 'handler_name': 'SoundHandler', 'vendor_id': '[0][0][0][0]'}}], 'input_number': 0}], 'duration': 316.35, 'bitrate': 2956, 'start': 0.0, 'default_video_input_number': 0, 'default_video_stream_number': 0, 'video_codec_name': 'mpeg4', 'video_profile': '(Simple Profile)', 'video_size': [1920, 1080], 'video_bitrate': 2821, 'video_fps': 30.0, 'default_audio_input_number': 0, 'default_audio_stream_number': 1, 'audio_fps': 44100, 'audio_bitrate': 128, 'video_duration': 316.35, 'video_n_frames': 9490}\n",
      "C:\\Users\\USER\\anaconda3\\Lib\\site-packages\\imageio_ffmpeg\\binaries\\ffmpeg-win-x86_64-v7.1.exe -i C:\\Users\\USER\\Desktop\\동아리\\O.P.C\\unzipped_영상\\A03_S02_F_D_02_060_02_WA_MO.mp4 -loglevel error -f image2pipe -vf scale=1920:1080 -sws_flags bicubic -pix_fmt rgb24 -vcodec rawvideo -\n",
      "MoviePy - Writing audio in ./wav\\A03_S02_F_D_02_060_02_WA_MO.wav\n"
     ]
    },
    {
     "name": "stderr",
     "output_type": "stream",
     "text": [
      "                                                                      \r"
     ]
    },
    {
     "name": "stdout",
     "output_type": "stream",
     "text": [
      "MoviePy - Done.\n",
      "변환 완료: A03_S02_F_D_02_060_02_WA_MO.wav\n",
      "{'video_found': True, 'audio_found': True, 'metadata': {'major_brand': 'isom', 'minor_version': '512', 'compatible_brands': 'isomiso2mp41', 'encoder': 'Lavf58.29.100'}, 'inputs': [{'streams': [{'input_number': 0, 'stream_number': 0, 'stream_type': 'video', 'language': None, 'default': True, 'size': [1920, 1080], 'bitrate': 10001, 'fps': 30.0, 'codec_name': 'mpeg4', 'profile': '(Simple Profile)', 'metadata': {'Metadata': '', 'handler_name': 'VideoHandler', 'vendor_id': '[0][0][0][0]'}}, {'input_number': 0, 'stream_number': 1, 'stream_type': 'audio', 'language': None, 'default': True, 'fps': 44100, 'bitrate': 129, 'metadata': {'Metadata': '', 'handler_name': 'SoundHandler', 'vendor_id': '[0][0][0][0]'}}], 'input_number': 0}], 'duration': 300.1, 'bitrate': 10137, 'start': 0.0, 'default_video_input_number': 0, 'default_video_stream_number': 0, 'video_codec_name': 'mpeg4', 'video_profile': '(Simple Profile)', 'video_size': [1920, 1080], 'video_bitrate': 10001, 'video_fps': 30.0, 'default_audio_input_number': 0, 'default_audio_stream_number': 1, 'audio_fps': 44100, 'audio_bitrate': 129, 'video_duration': 300.1, 'video_n_frames': 9003}\n",
      "C:\\Users\\USER\\anaconda3\\Lib\\site-packages\\imageio_ffmpeg\\binaries\\ffmpeg-win-x86_64-v7.1.exe -i C:\\Users\\USER\\Desktop\\동아리\\O.P.C\\unzipped_영상\\A03_S02_F_D_04_064_02_WA_MO.mp4 -loglevel error -f image2pipe -vf scale=1920:1080 -sws_flags bicubic -pix_fmt rgb24 -vcodec rawvideo -\n",
      "MoviePy - Writing audio in ./wav\\A03_S02_F_D_04_064_02_WA_MO.wav\n"
     ]
    },
    {
     "name": "stderr",
     "output_type": "stream",
     "text": [
      "                                                                      \r"
     ]
    },
    {
     "name": "stdout",
     "output_type": "stream",
     "text": [
      "MoviePy - Done.\n",
      "변환 완료: A03_S02_F_D_04_064_02_WA_MO.wav\n",
      "{'video_found': True, 'audio_found': True, 'metadata': {'major_brand': 'isom', 'minor_version': '512', 'compatible_brands': 'isomiso2mp41', 'encoder': 'Lavf58.29.100'}, 'inputs': [{'streams': [{'input_number': 0, 'stream_number': 0, 'stream_type': 'video', 'language': None, 'default': True, 'size': [1920, 1080], 'bitrate': 2591, 'fps': 30.0, 'codec_name': 'mpeg4', 'profile': '(Simple Profile)', 'metadata': {'Metadata': '', 'handler_name': 'VideoHandler', 'vendor_id': '[0][0][0][0]'}}, {'input_number': 0, 'stream_number': 1, 'stream_type': 'audio', 'language': None, 'default': True, 'fps': 44100, 'bitrate': 128, 'metadata': {'Metadata': '', 'handler_name': 'SoundHandler', 'vendor_id': '[0][0][0][0]'}}], 'input_number': 0}], 'duration': 286.03, 'bitrate': 2727, 'start': 0.0, 'default_video_input_number': 0, 'default_video_stream_number': 0, 'video_codec_name': 'mpeg4', 'video_profile': '(Simple Profile)', 'video_size': [1920, 1080], 'video_bitrate': 2591, 'video_fps': 30.0, 'default_audio_input_number': 0, 'default_audio_stream_number': 1, 'audio_fps': 44100, 'audio_bitrate': 128, 'video_duration': 286.03, 'video_n_frames': 8580}\n",
      "C:\\Users\\USER\\anaconda3\\Lib\\site-packages\\imageio_ffmpeg\\binaries\\ffmpeg-win-x86_64-v7.1.exe -i C:\\Users\\USER\\Desktop\\동아리\\O.P.C\\unzipped_영상\\A03_S02_F_D_06_072_02_WA_MO.mp4 -loglevel error -f image2pipe -vf scale=1920:1080 -sws_flags bicubic -pix_fmt rgb24 -vcodec rawvideo -\n",
      "MoviePy - Writing audio in ./wav\\A03_S02_F_D_06_072_02_WA_MO.wav\n"
     ]
    },
    {
     "name": "stderr",
     "output_type": "stream",
     "text": [
      "                                                                      \r"
     ]
    },
    {
     "name": "stdout",
     "output_type": "stream",
     "text": [
      "MoviePy - Done.\n",
      "변환 완료: A03_S02_F_D_06_072_02_WA_MO.wav\n",
      "{'video_found': True, 'audio_found': True, 'metadata': {'major_brand': 'isom', 'minor_version': '512', 'compatible_brands': 'isomiso2mp41', 'encoder': 'Lavf58.29.100'}, 'inputs': [{'streams': [{'input_number': 0, 'stream_number': 0, 'stream_type': 'video', 'language': None, 'default': True, 'size': [1920, 1080], 'bitrate': 2728, 'fps': 30.0, 'codec_name': 'mpeg4', 'profile': '(Simple Profile)', 'metadata': {'Metadata': '', 'handler_name': 'VideoHandler', 'vendor_id': '[0][0][0][0]'}}, {'input_number': 0, 'stream_number': 1, 'stream_type': 'audio', 'language': None, 'default': True, 'fps': 44100, 'bitrate': 113, 'metadata': {'Metadata': '', 'handler_name': 'SoundHandler', 'vendor_id': '[0][0][0][0]'}}], 'input_number': 0}], 'duration': 305.25, 'bitrate': 2848, 'start': 0.0, 'default_video_input_number': 0, 'default_video_stream_number': 0, 'video_codec_name': 'mpeg4', 'video_profile': '(Simple Profile)', 'video_size': [1920, 1080], 'video_bitrate': 2728, 'video_fps': 30.0, 'default_audio_input_number': 0, 'default_audio_stream_number': 1, 'audio_fps': 44100, 'audio_bitrate': 113, 'video_duration': 305.25, 'video_n_frames': 9157}\n",
      "C:\\Users\\USER\\anaconda3\\Lib\\site-packages\\imageio_ffmpeg\\binaries\\ffmpeg-win-x86_64-v7.1.exe -i C:\\Users\\USER\\Desktop\\동아리\\O.P.C\\unzipped_영상\\A03_S02_M_B_01_019_02_WA_MO.mp4 -loglevel error -f image2pipe -vf scale=1920:1080 -sws_flags bicubic -pix_fmt rgb24 -vcodec rawvideo -\n",
      "MoviePy - Writing audio in ./wav\\A03_S02_M_B_01_019_02_WA_MO.wav\n"
     ]
    },
    {
     "name": "stderr",
     "output_type": "stream",
     "text": [
      "                                                                      \r"
     ]
    },
    {
     "name": "stdout",
     "output_type": "stream",
     "text": [
      "MoviePy - Done.\n",
      "변환 완료: A03_S02_M_B_01_019_02_WA_MO.wav\n",
      "{'video_found': True, 'audio_found': True, 'metadata': {'major_brand': 'isom', 'minor_version': '512', 'compatible_brands': 'isomiso2mp41', 'encoder': 'Lavf58.29.100'}, 'inputs': [{'streams': [{'input_number': 0, 'stream_number': 0, 'stream_type': 'video', 'language': None, 'default': True, 'size': [1920, 1080], 'bitrate': 9921, 'fps': 30.0, 'codec_name': 'mpeg4', 'profile': '(Simple Profile)', 'metadata': {'Metadata': '', 'handler_name': 'VideoHandler', 'vendor_id': '[0][0][0][0]'}}, {'input_number': 0, 'stream_number': 1, 'stream_type': 'audio', 'language': None, 'default': True, 'fps': 44100, 'bitrate': 128, 'metadata': {'Metadata': '', 'handler_name': 'SoundHandler', 'vendor_id': '[0][0][0][0]'}}], 'input_number': 0}], 'duration': 244.13, 'bitrate': 10057, 'start': 0.0, 'default_video_input_number': 0, 'default_video_stream_number': 0, 'video_codec_name': 'mpeg4', 'video_profile': '(Simple Profile)', 'video_size': [1920, 1080], 'video_bitrate': 9921, 'video_fps': 30.0, 'default_audio_input_number': 0, 'default_audio_stream_number': 1, 'audio_fps': 44100, 'audio_bitrate': 128, 'video_duration': 244.13, 'video_n_frames': 7323}\n",
      "C:\\Users\\USER\\anaconda3\\Lib\\site-packages\\imageio_ffmpeg\\binaries\\ffmpeg-win-x86_64-v7.1.exe -i C:\\Users\\USER\\Desktop\\동아리\\O.P.C\\unzipped_영상\\A03_S02_M_B_01_020_02_WA_MO.mp4 -loglevel error -f image2pipe -vf scale=1920:1080 -sws_flags bicubic -pix_fmt rgb24 -vcodec rawvideo -\n",
      "MoviePy - Writing audio in ./wav\\A03_S02_M_B_01_020_02_WA_MO.wav\n"
     ]
    },
    {
     "name": "stderr",
     "output_type": "stream",
     "text": [
      "                                                                      \r"
     ]
    },
    {
     "name": "stdout",
     "output_type": "stream",
     "text": [
      "MoviePy - Done.\n",
      "변환 완료: A03_S02_M_B_01_020_02_WA_MO.wav\n",
      "{'video_found': True, 'audio_found': True, 'metadata': {'major_brand': 'isom', 'minor_version': '512', 'compatible_brands': 'isomiso2mp41', 'encoder': 'Lavf58.29.100'}, 'inputs': [{'streams': [{'input_number': 0, 'stream_number': 0, 'stream_type': 'video', 'language': None, 'default': True, 'size': [1920, 1080], 'bitrate': 4132, 'fps': 30.0, 'codec_name': 'mpeg4', 'profile': '(Simple Profile)', 'metadata': {'Metadata': '', 'handler_name': 'VideoHandler', 'vendor_id': '[0][0][0][0]'}}, {'input_number': 0, 'stream_number': 1, 'stream_type': 'audio', 'language': None, 'default': True, 'fps': 44100, 'bitrate': 128, 'metadata': {'Metadata': '', 'handler_name': 'SoundHandler', 'vendor_id': '[0][0][0][0]'}}], 'input_number': 0}], 'duration': 294.13, 'bitrate': 4268, 'start': 0.0, 'default_video_input_number': 0, 'default_video_stream_number': 0, 'video_codec_name': 'mpeg4', 'video_profile': '(Simple Profile)', 'video_size': [1920, 1080], 'video_bitrate': 4132, 'video_fps': 30.0, 'default_audio_input_number': 0, 'default_audio_stream_number': 1, 'audio_fps': 44100, 'audio_bitrate': 128, 'video_duration': 294.13, 'video_n_frames': 8823}\n",
      "C:\\Users\\USER\\anaconda3\\Lib\\site-packages\\imageio_ffmpeg\\binaries\\ffmpeg-win-x86_64-v7.1.exe -i C:\\Users\\USER\\Desktop\\동아리\\O.P.C\\unzipped_영상\\A03_S02_M_B_03_026_02_WA_MO.mp4 -loglevel error -f image2pipe -vf scale=1920:1080 -sws_flags bicubic -pix_fmt rgb24 -vcodec rawvideo -\n",
      "MoviePy - Writing audio in ./wav\\A03_S02_M_B_03_026_02_WA_MO.wav\n"
     ]
    },
    {
     "name": "stderr",
     "output_type": "stream",
     "text": [
      "                                                                      \r"
     ]
    },
    {
     "name": "stdout",
     "output_type": "stream",
     "text": [
      "MoviePy - Done.\n",
      "변환 완료: A03_S02_M_B_03_026_02_WA_MO.wav\n",
      "{'video_found': True, 'audio_found': True, 'metadata': {'major_brand': 'isom', 'minor_version': '512', 'compatible_brands': 'isomiso2mp41', 'encoder': 'Lavf58.29.100'}, 'inputs': [{'streams': [{'input_number': 0, 'stream_number': 0, 'stream_type': 'video', 'language': None, 'default': True, 'size': [1920, 1080], 'bitrate': 3279, 'fps': 30.0, 'codec_name': 'mpeg4', 'profile': '(Simple Profile)', 'metadata': {'Metadata': '', 'handler_name': 'VideoHandler', 'vendor_id': '[0][0][0][0]'}}, {'input_number': 0, 'stream_number': 1, 'stream_type': 'audio', 'language': None, 'default': True, 'fps': 44100, 'bitrate': 124, 'metadata': {'Metadata': '', 'handler_name': 'SoundHandler', 'vendor_id': '[0][0][0][0]'}}], 'input_number': 0}], 'duration': 250.64, 'bitrate': 3410, 'start': 0.0, 'default_video_input_number': 0, 'default_video_stream_number': 0, 'video_codec_name': 'mpeg4', 'video_profile': '(Simple Profile)', 'video_size': [1920, 1080], 'video_bitrate': 3279, 'video_fps': 30.0, 'default_audio_input_number': 0, 'default_audio_stream_number': 1, 'audio_fps': 44100, 'audio_bitrate': 124, 'video_duration': 250.64, 'video_n_frames': 7519}\n",
      "C:\\Users\\USER\\anaconda3\\Lib\\site-packages\\imageio_ffmpeg\\binaries\\ffmpeg-win-x86_64-v7.1.exe -i C:\\Users\\USER\\Desktop\\동아리\\O.P.C\\unzipped_영상\\A03_S02_M_B_03_027_02_WA_MO.mp4 -loglevel error -f image2pipe -vf scale=1920:1080 -sws_flags bicubic -pix_fmt rgb24 -vcodec rawvideo -\n",
      "MoviePy - Writing audio in ./wav\\A03_S02_M_B_03_027_02_WA_MO.wav\n"
     ]
    },
    {
     "name": "stderr",
     "output_type": "stream",
     "text": [
      "                                                                      \r"
     ]
    },
    {
     "name": "stdout",
     "output_type": "stream",
     "text": [
      "MoviePy - Done.\n",
      "변환 완료: A03_S02_M_B_03_027_02_WA_MO.wav\n",
      "{'video_found': True, 'audio_found': True, 'metadata': {'major_brand': 'isom', 'minor_version': '512', 'compatible_brands': 'isomiso2mp41', 'encoder': 'Lavf58.29.100'}, 'inputs': [{'streams': [{'input_number': 0, 'stream_number': 0, 'stream_type': 'video', 'language': None, 'default': True, 'size': [1920, 1080], 'bitrate': 10000, 'fps': 30.0, 'codec_name': 'mpeg4', 'profile': '(Simple Profile)', 'metadata': {'Metadata': '', 'handler_name': 'VideoHandler', 'vendor_id': '[0][0][0][0]'}}, {'input_number': 0, 'stream_number': 1, 'stream_type': 'audio', 'language': None, 'default': True, 'fps': 44100, 'bitrate': 128, 'metadata': {'Metadata': '', 'handler_name': 'SoundHandler', 'vendor_id': '[0][0][0][0]'}}], 'input_number': 0}], 'duration': 361.1, 'bitrate': 10135, 'start': 0.0, 'default_video_input_number': 0, 'default_video_stream_number': 0, 'video_codec_name': 'mpeg4', 'video_profile': '(Simple Profile)', 'video_size': [1920, 1080], 'video_bitrate': 10000, 'video_fps': 30.0, 'default_audio_input_number': 0, 'default_audio_stream_number': 1, 'audio_fps': 44100, 'audio_bitrate': 128, 'video_duration': 361.1, 'video_n_frames': 10833}\n",
      "C:\\Users\\USER\\anaconda3\\Lib\\site-packages\\imageio_ffmpeg\\binaries\\ffmpeg-win-x86_64-v7.1.exe -i C:\\Users\\USER\\Desktop\\동아리\\O.P.C\\unzipped_영상\\A03_S02_M_B_04_028_02_WA_MO.mp4 -loglevel error -f image2pipe -vf scale=1920:1080 -sws_flags bicubic -pix_fmt rgb24 -vcodec rawvideo -\n",
      "MoviePy - Writing audio in ./wav\\A03_S02_M_B_04_028_02_WA_MO.wav\n"
     ]
    },
    {
     "name": "stderr",
     "output_type": "stream",
     "text": [
      "                                                                      \r"
     ]
    },
    {
     "name": "stdout",
     "output_type": "stream",
     "text": [
      "MoviePy - Done.\n",
      "변환 완료: A03_S02_M_B_04_028_02_WA_MO.wav\n",
      "{'video_found': True, 'audio_found': True, 'metadata': {'major_brand': 'isom', 'minor_version': '512', 'compatible_brands': 'isomiso2mp41', 'encoder': 'Lavf58.29.100'}, 'inputs': [{'streams': [{'input_number': 0, 'stream_number': 0, 'stream_type': 'video', 'language': None, 'default': True, 'size': [1920, 1080], 'bitrate': 4009, 'fps': 30.0, 'codec_name': 'mpeg4', 'profile': '(Simple Profile)', 'metadata': {'Metadata': '', 'handler_name': 'VideoHandler', 'vendor_id': '[0][0][0][0]'}}, {'input_number': 0, 'stream_number': 1, 'stream_type': 'audio', 'language': None, 'default': True, 'fps': 44100, 'bitrate': 128, 'metadata': {'Metadata': '', 'handler_name': 'SoundHandler', 'vendor_id': '[0][0][0][0]'}}], 'input_number': 0}], 'duration': 208.9, 'bitrate': 4145, 'start': 0.0, 'default_video_input_number': 0, 'default_video_stream_number': 0, 'video_codec_name': 'mpeg4', 'video_profile': '(Simple Profile)', 'video_size': [1920, 1080], 'video_bitrate': 4009, 'video_fps': 30.0, 'default_audio_input_number': 0, 'default_audio_stream_number': 1, 'audio_fps': 44100, 'audio_bitrate': 128, 'video_duration': 208.9, 'video_n_frames': 6267}\n",
      "C:\\Users\\USER\\anaconda3\\Lib\\site-packages\\imageio_ffmpeg\\binaries\\ffmpeg-win-x86_64-v7.1.exe -i C:\\Users\\USER\\Desktop\\동아리\\O.P.C\\unzipped_영상\\A03_S02_M_B_04_030_02_WA_MO.mp4 -loglevel error -f image2pipe -vf scale=1920:1080 -sws_flags bicubic -pix_fmt rgb24 -vcodec rawvideo -\n",
      "MoviePy - Writing audio in ./wav\\A03_S02_M_B_04_030_02_WA_MO.wav\n"
     ]
    },
    {
     "name": "stderr",
     "output_type": "stream",
     "text": [
      "                                                                      \r"
     ]
    },
    {
     "name": "stdout",
     "output_type": "stream",
     "text": [
      "MoviePy - Done.\n",
      "변환 완료: A03_S02_M_B_04_030_02_WA_MO.wav\n",
      "{'video_found': True, 'audio_found': True, 'metadata': {'major_brand': 'isom', 'minor_version': '512', 'compatible_brands': 'isomiso2mp41', 'encoder': 'Lavf58.29.100'}, 'inputs': [{'streams': [{'input_number': 0, 'stream_number': 0, 'stream_type': 'video', 'language': None, 'default': True, 'size': [1920, 1080], 'bitrate': 3173, 'fps': 30.0, 'codec_name': 'mpeg4', 'profile': '(Simple Profile)', 'metadata': {'Metadata': '', 'handler_name': 'VideoHandler', 'vendor_id': '[0][0][0][0]'}}, {'input_number': 0, 'stream_number': 1, 'stream_type': 'audio', 'language': None, 'default': True, 'fps': 44100, 'bitrate': 128, 'metadata': {'Metadata': '', 'handler_name': 'SoundHandler', 'vendor_id': '[0][0][0][0]'}}], 'input_number': 0}], 'duration': 297.2, 'bitrate': 3309, 'start': 0.0, 'default_video_input_number': 0, 'default_video_stream_number': 0, 'video_codec_name': 'mpeg4', 'video_profile': '(Simple Profile)', 'video_size': [1920, 1080], 'video_bitrate': 3173, 'video_fps': 30.0, 'default_audio_input_number': 0, 'default_audio_stream_number': 1, 'audio_fps': 44100, 'audio_bitrate': 128, 'video_duration': 297.2, 'video_n_frames': 8916}\n",
      "C:\\Users\\USER\\anaconda3\\Lib\\site-packages\\imageio_ffmpeg\\binaries\\ffmpeg-win-x86_64-v7.1.exe -i C:\\Users\\USER\\Desktop\\동아리\\O.P.C\\unzipped_영상\\A03_S02_M_B_06_035_02_WA_MO.mp4 -loglevel error -f image2pipe -vf scale=1920:1080 -sws_flags bicubic -pix_fmt rgb24 -vcodec rawvideo -\n",
      "MoviePy - Writing audio in ./wav\\A03_S02_M_B_06_035_02_WA_MO.wav\n"
     ]
    },
    {
     "name": "stderr",
     "output_type": "stream",
     "text": [
      "                                                                      \r"
     ]
    },
    {
     "name": "stdout",
     "output_type": "stream",
     "text": [
      "MoviePy - Done.\n",
      "변환 완료: A03_S02_M_B_06_035_02_WA_MO.wav\n",
      "{'video_found': True, 'audio_found': True, 'metadata': {'major_brand': 'isom', 'minor_version': '512', 'compatible_brands': 'isomiso2mp41', 'encoder': 'Lavf58.29.100'}, 'inputs': [{'streams': [{'input_number': 0, 'stream_number': 0, 'stream_type': 'video', 'language': None, 'default': True, 'size': [1920, 1080], 'bitrate': 4044, 'fps': 30.0, 'codec_name': 'mpeg4', 'profile': '(Simple Profile)', 'metadata': {'Metadata': '', 'handler_name': 'VideoHandler', 'vendor_id': '[0][0][0][0]'}}, {'input_number': 0, 'stream_number': 1, 'stream_type': 'audio', 'language': None, 'default': True, 'fps': 44100, 'bitrate': 128, 'metadata': {'Metadata': '', 'handler_name': 'SoundHandler', 'vendor_id': '[0][0][0][0]'}}], 'input_number': 0}], 'duration': 308.9, 'bitrate': 4179, 'start': 0.0, 'default_video_input_number': 0, 'default_video_stream_number': 0, 'video_codec_name': 'mpeg4', 'video_profile': '(Simple Profile)', 'video_size': [1920, 1080], 'video_bitrate': 4044, 'video_fps': 30.0, 'default_audio_input_number': 0, 'default_audio_stream_number': 1, 'audio_fps': 44100, 'audio_bitrate': 128, 'video_duration': 308.9, 'video_n_frames': 9267}\n",
      "C:\\Users\\USER\\anaconda3\\Lib\\site-packages\\imageio_ffmpeg\\binaries\\ffmpeg-win-x86_64-v7.1.exe -i C:\\Users\\USER\\Desktop\\동아리\\O.P.C\\unzipped_영상\\A03_S02_M_B_06_036_02_WA_MO.mp4 -loglevel error -f image2pipe -vf scale=1920:1080 -sws_flags bicubic -pix_fmt rgb24 -vcodec rawvideo -\n",
      "MoviePy - Writing audio in ./wav\\A03_S02_M_B_06_036_02_WA_MO.wav\n"
     ]
    },
    {
     "name": "stderr",
     "output_type": "stream",
     "text": [
      "                                                                      \r"
     ]
    },
    {
     "name": "stdout",
     "output_type": "stream",
     "text": [
      "MoviePy - Done.\n",
      "변환 완료: A03_S02_M_B_06_036_02_WA_MO.wav\n",
      "{'video_found': True, 'audio_found': True, 'metadata': {'major_brand': 'isom', 'minor_version': '512', 'compatible_brands': 'isomiso2mp41', 'encoder': 'Lavf58.29.100'}, 'inputs': [{'streams': [{'input_number': 0, 'stream_number': 0, 'stream_type': 'video', 'language': None, 'default': True, 'size': [1920, 1080], 'bitrate': 4705, 'fps': 30.0, 'codec_name': 'mpeg4', 'profile': '(Simple Profile)', 'metadata': {'Metadata': '', 'handler_name': 'VideoHandler', 'vendor_id': '[0][0][0][0]'}}, {'input_number': 0, 'stream_number': 1, 'stream_type': 'audio', 'language': None, 'default': True, 'fps': 44100, 'bitrate': 128, 'metadata': {'Metadata': '', 'handler_name': 'SoundHandler', 'vendor_id': '[0][0][0][0]'}}], 'input_number': 0}], 'duration': 262.55, 'bitrate': 4841, 'start': 0.0, 'default_video_input_number': 0, 'default_video_stream_number': 0, 'video_codec_name': 'mpeg4', 'video_profile': '(Simple Profile)', 'video_size': [1920, 1080], 'video_bitrate': 4705, 'video_fps': 30.0, 'default_audio_input_number': 0, 'default_audio_stream_number': 1, 'audio_fps': 44100, 'audio_bitrate': 128, 'video_duration': 262.55, 'video_n_frames': 7876}\n",
      "C:\\Users\\USER\\anaconda3\\Lib\\site-packages\\imageio_ffmpeg\\binaries\\ffmpeg-win-x86_64-v7.1.exe -i C:\\Users\\USER\\Desktop\\동아리\\O.P.C\\unzipped_영상\\A03_S02_M_D_01_055_02_WA_MO.mp4 -loglevel error -f image2pipe -vf scale=1920:1080 -sws_flags bicubic -pix_fmt rgb24 -vcodec rawvideo -\n",
      "MoviePy - Writing audio in ./wav\\A03_S02_M_D_01_055_02_WA_MO.wav\n"
     ]
    },
    {
     "name": "stderr",
     "output_type": "stream",
     "text": [
      "                                                                      \r"
     ]
    },
    {
     "name": "stdout",
     "output_type": "stream",
     "text": [
      "MoviePy - Done.\n",
      "변환 완료: A03_S02_M_D_01_055_02_WA_MO.wav\n",
      "{'video_found': True, 'audio_found': True, 'metadata': {'major_brand': 'isom', 'minor_version': '512', 'compatible_brands': 'isomiso2mp41', 'encoder': 'Lavf58.29.100'}, 'inputs': [{'streams': [{'input_number': 0, 'stream_number': 0, 'stream_type': 'video', 'language': None, 'default': True, 'size': [1920, 1080], 'bitrate': 10001, 'fps': 30.0, 'codec_name': 'mpeg4', 'profile': '(Simple Profile)', 'metadata': {'Metadata': '', 'handler_name': 'VideoHandler', 'vendor_id': '[0][0][0][0]'}}, {'input_number': 0, 'stream_number': 1, 'stream_type': 'audio', 'language': None, 'default': True, 'fps': 44100, 'bitrate': 128, 'metadata': {'Metadata': '', 'handler_name': 'SoundHandler', 'vendor_id': '[0][0][0][0]'}}], 'input_number': 0}], 'duration': 337.43, 'bitrate': 10137, 'start': 0.0, 'default_video_input_number': 0, 'default_video_stream_number': 0, 'video_codec_name': 'mpeg4', 'video_profile': '(Simple Profile)', 'video_size': [1920, 1080], 'video_bitrate': 10001, 'video_fps': 30.0, 'default_audio_input_number': 0, 'default_audio_stream_number': 1, 'audio_fps': 44100, 'audio_bitrate': 128, 'video_duration': 337.43, 'video_n_frames': 10122}\n",
      "C:\\Users\\USER\\anaconda3\\Lib\\site-packages\\imageio_ffmpeg\\binaries\\ffmpeg-win-x86_64-v7.1.exe -i C:\\Users\\USER\\Desktop\\동아리\\O.P.C\\unzipped_영상\\A03_S02_M_D_01_056_02_WA_MO.mp4 -loglevel error -f image2pipe -vf scale=1920:1080 -sws_flags bicubic -pix_fmt rgb24 -vcodec rawvideo -\n",
      "MoviePy - Writing audio in ./wav\\A03_S02_M_D_01_056_02_WA_MO.wav\n"
     ]
    },
    {
     "name": "stderr",
     "output_type": "stream",
     "text": [
      "                                                                      \r"
     ]
    },
    {
     "name": "stdout",
     "output_type": "stream",
     "text": [
      "MoviePy - Done.\n",
      "변환 완료: A03_S02_M_D_01_056_02_WA_MO.wav\n",
      "{'video_found': True, 'audio_found': True, 'metadata': {'major_brand': 'isom', 'minor_version': '512', 'compatible_brands': 'isomiso2mp41', 'encoder': 'Lavf58.29.100'}, 'inputs': [{'streams': [{'input_number': 0, 'stream_number': 0, 'stream_type': 'video', 'language': None, 'default': True, 'size': [1920, 1080], 'bitrate': 2527, 'fps': 30.0, 'codec_name': 'mpeg4', 'profile': '(Simple Profile)', 'metadata': {'Metadata': '', 'handler_name': 'VideoHandler', 'vendor_id': '[0][0][0][0]'}}, {'input_number': 0, 'stream_number': 1, 'stream_type': 'audio', 'language': None, 'default': True, 'fps': 44100, 'bitrate': 117, 'metadata': {'Metadata': '', 'handler_name': 'SoundHandler', 'vendor_id': '[0][0][0][0]'}}], 'input_number': 0}], 'duration': 274.53, 'bitrate': 2652, 'start': 0.0, 'default_video_input_number': 0, 'default_video_stream_number': 0, 'video_codec_name': 'mpeg4', 'video_profile': '(Simple Profile)', 'video_size': [1920, 1080], 'video_bitrate': 2527, 'video_fps': 30.0, 'default_audio_input_number': 0, 'default_audio_stream_number': 1, 'audio_fps': 44100, 'audio_bitrate': 117, 'video_duration': 274.53, 'video_n_frames': 8235}\n",
      "C:\\Users\\USER\\anaconda3\\Lib\\site-packages\\imageio_ffmpeg\\binaries\\ffmpeg-win-x86_64-v7.1.exe -i C:\\Users\\USER\\Desktop\\동아리\\O.P.C\\unzipped_영상\\A03_S02_M_D_02_059_02_WA_MO.mp4 -loglevel error -f image2pipe -vf scale=1920:1080 -sws_flags bicubic -pix_fmt rgb24 -vcodec rawvideo -\n",
      "MoviePy - Writing audio in ./wav\\A03_S02_M_D_02_059_02_WA_MO.wav\n"
     ]
    },
    {
     "name": "stderr",
     "output_type": "stream",
     "text": [
      "                                                                      \r"
     ]
    },
    {
     "name": "stdout",
     "output_type": "stream",
     "text": [
      "MoviePy - Done.\n",
      "변환 완료: A03_S02_M_D_02_059_02_WA_MO.wav\n",
      "{'video_found': True, 'audio_found': True, 'metadata': {'major_brand': 'isom', 'minor_version': '512', 'compatible_brands': 'isomiso2mp41', 'encoder': 'Lavf58.29.100'}, 'inputs': [{'streams': [{'input_number': 0, 'stream_number': 0, 'stream_type': 'video', 'language': None, 'default': True, 'size': [1920, 1080], 'bitrate': 3928, 'fps': 30.0, 'codec_name': 'mpeg4', 'profile': '(Simple Profile)', 'metadata': {'Metadata': '', 'handler_name': 'VideoHandler', 'vendor_id': '[0][0][0][0]'}}, {'input_number': 0, 'stream_number': 1, 'stream_type': 'audio', 'language': None, 'default': True, 'fps': 44100, 'bitrate': 126, 'metadata': {'Metadata': '', 'handler_name': 'SoundHandler', 'vendor_id': '[0][0][0][0]'}}], 'input_number': 0}], 'duration': 299.5, 'bitrate': 4062, 'start': 0.0, 'default_video_input_number': 0, 'default_video_stream_number': 0, 'video_codec_name': 'mpeg4', 'video_profile': '(Simple Profile)', 'video_size': [1920, 1080], 'video_bitrate': 3928, 'video_fps': 30.0, 'default_audio_input_number': 0, 'default_audio_stream_number': 1, 'audio_fps': 44100, 'audio_bitrate': 126, 'video_duration': 299.5, 'video_n_frames': 8985}\n",
      "C:\\Users\\USER\\anaconda3\\Lib\\site-packages\\imageio_ffmpeg\\binaries\\ffmpeg-win-x86_64-v7.1.exe -i C:\\Users\\USER\\Desktop\\동아리\\O.P.C\\unzipped_영상\\A03_S02_M_D_03_062_02_WA_MO.mp4 -loglevel error -f image2pipe -vf scale=1920:1080 -sws_flags bicubic -pix_fmt rgb24 -vcodec rawvideo -\n",
      "MoviePy - Writing audio in ./wav\\A03_S02_M_D_03_062_02_WA_MO.wav\n"
     ]
    },
    {
     "name": "stderr",
     "output_type": "stream",
     "text": [
      "                                                                      \r"
     ]
    },
    {
     "name": "stdout",
     "output_type": "stream",
     "text": [
      "MoviePy - Done.\n",
      "변환 완료: A03_S02_M_D_03_062_02_WA_MO.wav\n",
      "{'video_found': True, 'audio_found': True, 'metadata': {'major_brand': 'isom', 'minor_version': '512', 'compatible_brands': 'isomiso2mp41', 'encoder': 'Lavf58.29.100'}, 'inputs': [{'streams': [{'input_number': 0, 'stream_number': 0, 'stream_type': 'video', 'language': None, 'default': True, 'size': [1920, 1080], 'bitrate': 3072, 'fps': 30.0, 'codec_name': 'mpeg4', 'profile': '(Simple Profile)', 'metadata': {'Metadata': '', 'handler_name': 'VideoHandler', 'vendor_id': '[0][0][0][0]'}}, {'input_number': 0, 'stream_number': 1, 'stream_type': 'audio', 'language': None, 'default': True, 'fps': 44100, 'bitrate': 128, 'metadata': {'Metadata': '', 'handler_name': 'SoundHandler', 'vendor_id': '[0][0][0][0]'}}], 'input_number': 0}], 'duration': 264.3, 'bitrate': 3207, 'start': 0.0, 'default_video_input_number': 0, 'default_video_stream_number': 0, 'video_codec_name': 'mpeg4', 'video_profile': '(Simple Profile)', 'video_size': [1920, 1080], 'video_bitrate': 3072, 'video_fps': 30.0, 'default_audio_input_number': 0, 'default_audio_stream_number': 1, 'audio_fps': 44100, 'audio_bitrate': 128, 'video_duration': 264.3, 'video_n_frames': 7929}\n",
      "C:\\Users\\USER\\anaconda3\\Lib\\site-packages\\imageio_ffmpeg\\binaries\\ffmpeg-win-x86_64-v7.1.exe -i C:\\Users\\USER\\Desktop\\동아리\\O.P.C\\unzipped_영상\\A03_S02_M_D_04_065_02_WA_MO.mp4 -loglevel error -f image2pipe -vf scale=1920:1080 -sws_flags bicubic -pix_fmt rgb24 -vcodec rawvideo -\n",
      "MoviePy - Writing audio in ./wav\\A03_S02_M_D_04_065_02_WA_MO.wav\n"
     ]
    },
    {
     "name": "stderr",
     "output_type": "stream",
     "text": [
      "                                                                      \r"
     ]
    },
    {
     "name": "stdout",
     "output_type": "stream",
     "text": [
      "MoviePy - Done.\n",
      "변환 완료: A03_S02_M_D_04_065_02_WA_MO.wav\n",
      "{'video_found': True, 'audio_found': True, 'metadata': {'major_brand': 'isom', 'minor_version': '512', 'compatible_brands': 'isomiso2mp41', 'encoder': 'Lavf58.29.100'}, 'inputs': [{'streams': [{'input_number': 0, 'stream_number': 0, 'stream_type': 'video', 'language': None, 'default': True, 'size': [1920, 1080], 'bitrate': 3104, 'fps': 30.0, 'codec_name': 'mpeg4', 'profile': '(Simple Profile)', 'metadata': {'Metadata': '', 'handler_name': 'VideoHandler', 'vendor_id': '[0][0][0][0]'}}, {'input_number': 0, 'stream_number': 1, 'stream_type': 'audio', 'language': None, 'default': True, 'fps': 44100, 'bitrate': 128, 'metadata': {'Metadata': '', 'handler_name': 'SoundHandler', 'vendor_id': '[0][0][0][0]'}}], 'input_number': 0}], 'duration': 281.63, 'bitrate': 3240, 'start': 0.0, 'default_video_input_number': 0, 'default_video_stream_number': 0, 'video_codec_name': 'mpeg4', 'video_profile': '(Simple Profile)', 'video_size': [1920, 1080], 'video_bitrate': 3104, 'video_fps': 30.0, 'default_audio_input_number': 0, 'default_audio_stream_number': 1, 'audio_fps': 44100, 'audio_bitrate': 128, 'video_duration': 281.63, 'video_n_frames': 8448}\n",
      "C:\\Users\\USER\\anaconda3\\Lib\\site-packages\\imageio_ffmpeg\\binaries\\ffmpeg-win-x86_64-v7.1.exe -i C:\\Users\\USER\\Desktop\\동아리\\O.P.C\\unzipped_영상\\A03_S02_M_D_04_066_02_WA_MO.mp4 -loglevel error -f image2pipe -vf scale=1920:1080 -sws_flags bicubic -pix_fmt rgb24 -vcodec rawvideo -\n",
      "MoviePy - Writing audio in ./wav\\A03_S02_M_D_04_066_02_WA_MO.wav\n"
     ]
    },
    {
     "name": "stderr",
     "output_type": "stream",
     "text": [
      "                                                                      \r"
     ]
    },
    {
     "name": "stdout",
     "output_type": "stream",
     "text": [
      "MoviePy - Done.\n",
      "변환 완료: A03_S02_M_D_04_066_02_WA_MO.wav\n",
      "{'video_found': True, 'audio_found': True, 'metadata': {'major_brand': 'isom', 'minor_version': '512', 'compatible_brands': 'isomiso2mp41', 'encoder': 'Lavf58.29.100'}, 'inputs': [{'streams': [{'input_number': 0, 'stream_number': 0, 'stream_type': 'video', 'language': None, 'default': True, 'size': [1920, 1080], 'bitrate': 3033, 'fps': 30.0, 'codec_name': 'mpeg4', 'profile': '(Simple Profile)', 'metadata': {'Metadata': '', 'handler_name': 'VideoHandler', 'vendor_id': '[0][0][0][0]'}}, {'input_number': 0, 'stream_number': 1, 'stream_type': 'audio', 'language': None, 'default': True, 'fps': 44100, 'bitrate': 128, 'metadata': {'Metadata': '', 'handler_name': 'SoundHandler', 'vendor_id': '[0][0][0][0]'}}], 'input_number': 0}], 'duration': 245.1, 'bitrate': 3169, 'start': 0.0, 'default_video_input_number': 0, 'default_video_stream_number': 0, 'video_codec_name': 'mpeg4', 'video_profile': '(Simple Profile)', 'video_size': [1920, 1080], 'video_bitrate': 3033, 'video_fps': 30.0, 'default_audio_input_number': 0, 'default_audio_stream_number': 1, 'audio_fps': 44100, 'audio_bitrate': 128, 'video_duration': 245.1, 'video_n_frames': 7353}\n",
      "C:\\Users\\USER\\anaconda3\\Lib\\site-packages\\imageio_ffmpeg\\binaries\\ffmpeg-win-x86_64-v7.1.exe -i C:\\Users\\USER\\Desktop\\동아리\\O.P.C\\unzipped_영상\\A03_S02_M_D_06_070_02_WA_MO.mp4 -loglevel error -f image2pipe -vf scale=1920:1080 -sws_flags bicubic -pix_fmt rgb24 -vcodec rawvideo -\n",
      "MoviePy - Writing audio in ./wav\\A03_S02_M_D_06_070_02_WA_MO.wav\n"
     ]
    },
    {
     "name": "stderr",
     "output_type": "stream",
     "text": [
      "                                                                      \r"
     ]
    },
    {
     "name": "stdout",
     "output_type": "stream",
     "text": [
      "MoviePy - Done.\n",
      "변환 완료: A03_S02_M_D_06_070_02_WA_MO.wav\n",
      "{'video_found': True, 'audio_found': True, 'metadata': {'major_brand': 'isom', 'minor_version': '512', 'compatible_brands': 'isomiso2mp41', 'encoder': 'Lavf58.29.100'}, 'inputs': [{'streams': [{'input_number': 0, 'stream_number': 0, 'stream_type': 'video', 'language': None, 'default': True, 'size': [1920, 1080], 'bitrate': 2720, 'fps': 30.0, 'codec_name': 'mpeg4', 'profile': '(Simple Profile)', 'metadata': {'Metadata': '', 'handler_name': 'VideoHandler', 'vendor_id': '[0][0][0][0]'}}, {'input_number': 0, 'stream_number': 1, 'stream_type': 'audio', 'language': None, 'default': True, 'fps': 44100, 'bitrate': 128, 'metadata': {'Metadata': '', 'handler_name': 'SoundHandler', 'vendor_id': '[0][0][0][0]'}}], 'input_number': 0}], 'duration': 235.9, 'bitrate': 2856, 'start': 0.0, 'default_video_input_number': 0, 'default_video_stream_number': 0, 'video_codec_name': 'mpeg4', 'video_profile': '(Simple Profile)', 'video_size': [1920, 1080], 'video_bitrate': 2720, 'video_fps': 30.0, 'default_audio_input_number': 0, 'default_audio_stream_number': 1, 'audio_fps': 44100, 'audio_bitrate': 128, 'video_duration': 235.9, 'video_n_frames': 7077}\n",
      "C:\\Users\\USER\\anaconda3\\Lib\\site-packages\\imageio_ffmpeg\\binaries\\ffmpeg-win-x86_64-v7.1.exe -i C:\\Users\\USER\\Desktop\\동아리\\O.P.C\\unzipped_영상\\A03_S03_F_C_01_037_02_WA_MO.mp4 -loglevel error -f image2pipe -vf scale=1920:1080 -sws_flags bicubic -pix_fmt rgb24 -vcodec rawvideo -\n",
      "MoviePy - Writing audio in ./wav\\A03_S03_F_C_01_037_02_WA_MO.wav\n"
     ]
    },
    {
     "name": "stderr",
     "output_type": "stream",
     "text": [
      "                                                                      \r"
     ]
    },
    {
     "name": "stdout",
     "output_type": "stream",
     "text": [
      "MoviePy - Done.\n",
      "변환 완료: A03_S03_F_C_01_037_02_WA_MO.wav\n",
      "{'video_found': True, 'audio_found': True, 'metadata': {'major_brand': 'isom', 'minor_version': '512', 'compatible_brands': 'isomiso2mp41', 'encoder': 'Lavf58.29.100'}, 'inputs': [{'streams': [{'input_number': 0, 'stream_number': 0, 'stream_type': 'video', 'language': None, 'default': True, 'size': [1920, 1080], 'bitrate': 10000, 'fps': 30.0, 'codec_name': 'mpeg4', 'profile': '(Simple Profile)', 'metadata': {'Metadata': '', 'handler_name': 'VideoHandler', 'vendor_id': '[0][0][0][0]'}}, {'input_number': 0, 'stream_number': 1, 'stream_type': 'audio', 'language': None, 'default': True, 'fps': 44100, 'bitrate': 128, 'metadata': {'Metadata': '', 'handler_name': 'SoundHandler', 'vendor_id': '[0][0][0][0]'}}], 'input_number': 0}], 'duration': 354.8, 'bitrate': 10135, 'start': 0.0, 'default_video_input_number': 0, 'default_video_stream_number': 0, 'video_codec_name': 'mpeg4', 'video_profile': '(Simple Profile)', 'video_size': [1920, 1080], 'video_bitrate': 10000, 'video_fps': 30.0, 'default_audio_input_number': 0, 'default_audio_stream_number': 1, 'audio_fps': 44100, 'audio_bitrate': 128, 'video_duration': 354.8, 'video_n_frames': 10644}\n",
      "C:\\Users\\USER\\anaconda3\\Lib\\site-packages\\imageio_ffmpeg\\binaries\\ffmpeg-win-x86_64-v7.1.exe -i C:\\Users\\USER\\Desktop\\동아리\\O.P.C\\unzipped_영상\\A03_S03_F_C_01_038_02_WA_MO.mp4 -loglevel error -f image2pipe -vf scale=1920:1080 -sws_flags bicubic -pix_fmt rgb24 -vcodec rawvideo -\n",
      "MoviePy - Writing audio in ./wav\\A03_S03_F_C_01_038_02_WA_MO.wav\n"
     ]
    },
    {
     "name": "stderr",
     "output_type": "stream",
     "text": [
      "                                                                      \r"
     ]
    },
    {
     "name": "stdout",
     "output_type": "stream",
     "text": [
      "MoviePy - Done.\n",
      "변환 완료: A03_S03_F_C_01_038_02_WA_MO.wav\n",
      "{'video_found': True, 'audio_found': True, 'metadata': {'major_brand': 'isom', 'minor_version': '512', 'compatible_brands': 'isomiso2mp41', 'encoder': 'Lavf58.29.100'}, 'inputs': [{'streams': [{'input_number': 0, 'stream_number': 0, 'stream_type': 'video', 'language': None, 'default': True, 'size': [1920, 1080], 'bitrate': 2958, 'fps': 30.0, 'codec_name': 'mpeg4', 'profile': '(Simple Profile)', 'metadata': {'Metadata': '', 'handler_name': 'VideoHandler', 'vendor_id': '[0][0][0][0]'}}, {'input_number': 0, 'stream_number': 1, 'stream_type': 'audio', 'language': None, 'default': True, 'fps': 44100, 'bitrate': 128, 'metadata': {'Metadata': '', 'handler_name': 'SoundHandler', 'vendor_id': '[0][0][0][0]'}}], 'input_number': 0}], 'duration': 267.7, 'bitrate': 3094, 'start': 0.0, 'default_video_input_number': 0, 'default_video_stream_number': 0, 'video_codec_name': 'mpeg4', 'video_profile': '(Simple Profile)', 'video_size': [1920, 1080], 'video_bitrate': 2958, 'video_fps': 30.0, 'default_audio_input_number': 0, 'default_audio_stream_number': 1, 'audio_fps': 44100, 'audio_bitrate': 128, 'video_duration': 267.7, 'video_n_frames': 8031}\n",
      "C:\\Users\\USER\\anaconda3\\Lib\\site-packages\\imageio_ffmpeg\\binaries\\ffmpeg-win-x86_64-v7.1.exe -i C:\\Users\\USER\\Desktop\\동아리\\O.P.C\\unzipped_영상\\A03_S03_F_C_02_040_02_WA_MO.mp4 -loglevel error -f image2pipe -vf scale=1920:1080 -sws_flags bicubic -pix_fmt rgb24 -vcodec rawvideo -\n",
      "MoviePy - Writing audio in ./wav\\A03_S03_F_C_02_040_02_WA_MO.wav\n"
     ]
    },
    {
     "name": "stderr",
     "output_type": "stream",
     "text": [
      "                                                                      \r"
     ]
    },
    {
     "name": "stdout",
     "output_type": "stream",
     "text": [
      "MoviePy - Done.\n",
      "변환 완료: A03_S03_F_C_02_040_02_WA_MO.wav\n",
      "{'video_found': True, 'audio_found': True, 'metadata': {'major_brand': 'isom', 'minor_version': '512', 'compatible_brands': 'isomiso2mp41', 'encoder': 'Lavf58.29.100'}, 'inputs': [{'streams': [{'input_number': 0, 'stream_number': 0, 'stream_type': 'video', 'language': None, 'default': True, 'size': [1920, 1080], 'bitrate': 3246, 'fps': 30.0, 'codec_name': 'mpeg4', 'profile': '(Simple Profile)', 'metadata': {'Metadata': '', 'handler_name': 'VideoHandler', 'vendor_id': '[0][0][0][0]'}}, {'input_number': 0, 'stream_number': 1, 'stream_type': 'audio', 'language': None, 'default': True, 'fps': 44100, 'bitrate': 128, 'metadata': {'Metadata': '', 'handler_name': 'SoundHandler', 'vendor_id': '[0][0][0][0]'}}], 'input_number': 0}], 'duration': 254.73, 'bitrate': 3381, 'start': 0.0, 'default_video_input_number': 0, 'default_video_stream_number': 0, 'video_codec_name': 'mpeg4', 'video_profile': '(Simple Profile)', 'video_size': [1920, 1080], 'video_bitrate': 3246, 'video_fps': 30.0, 'default_audio_input_number': 0, 'default_audio_stream_number': 1, 'audio_fps': 44100, 'audio_bitrate': 128, 'video_duration': 254.73, 'video_n_frames': 7641}\n",
      "C:\\Users\\USER\\anaconda3\\Lib\\site-packages\\imageio_ffmpeg\\binaries\\ffmpeg-win-x86_64-v7.1.exe -i C:\\Users\\USER\\Desktop\\동아리\\O.P.C\\unzipped_영상\\A03_S03_F_C_02_042_02_WA_MO.mp4 -loglevel error -f image2pipe -vf scale=1920:1080 -sws_flags bicubic -pix_fmt rgb24 -vcodec rawvideo -\n",
      "MoviePy - Writing audio in ./wav\\A03_S03_F_C_02_042_02_WA_MO.wav\n"
     ]
    },
    {
     "name": "stderr",
     "output_type": "stream",
     "text": [
      "                                                                      \r"
     ]
    },
    {
     "name": "stdout",
     "output_type": "stream",
     "text": [
      "MoviePy - Done.\n",
      "변환 완료: A03_S03_F_C_02_042_02_WA_MO.wav\n",
      "{'video_found': True, 'audio_found': True, 'metadata': {'major_brand': 'isom', 'minor_version': '512', 'compatible_brands': 'isomiso2mp41', 'encoder': 'Lavf58.29.100'}, 'inputs': [{'streams': [{'input_number': 0, 'stream_number': 0, 'stream_type': 'video', 'language': None, 'default': True, 'size': [1920, 1080], 'bitrate': 10000, 'fps': 30.0, 'codec_name': 'mpeg4', 'profile': '(Simple Profile)', 'metadata': {'Metadata': '', 'handler_name': 'VideoHandler', 'vendor_id': '[0][0][0][0]'}}, {'input_number': 0, 'stream_number': 1, 'stream_type': 'audio', 'language': None, 'default': True, 'fps': 44100, 'bitrate': 128, 'metadata': {'Metadata': '', 'handler_name': 'SoundHandler', 'vendor_id': '[0][0][0][0]'}}], 'input_number': 0}], 'duration': 233.0, 'bitrate': 10136, 'start': 0.0, 'default_video_input_number': 0, 'default_video_stream_number': 0, 'video_codec_name': 'mpeg4', 'video_profile': '(Simple Profile)', 'video_size': [1920, 1080], 'video_bitrate': 10000, 'video_fps': 30.0, 'default_audio_input_number': 0, 'default_audio_stream_number': 1, 'audio_fps': 44100, 'audio_bitrate': 128, 'video_duration': 233.0, 'video_n_frames': 6990}\n",
      "C:\\Users\\USER\\anaconda3\\Lib\\site-packages\\imageio_ffmpeg\\binaries\\ffmpeg-win-x86_64-v7.1.exe -i C:\\Users\\USER\\Desktop\\동아리\\O.P.C\\unzipped_영상\\A03_S03_F_C_03_044_02_WA_MO.mp4 -loglevel error -f image2pipe -vf scale=1920:1080 -sws_flags bicubic -pix_fmt rgb24 -vcodec rawvideo -\n",
      "MoviePy - Writing audio in ./wav\\A03_S03_F_C_03_044_02_WA_MO.wav\n"
     ]
    },
    {
     "name": "stderr",
     "output_type": "stream",
     "text": [
      "                                                                      \r"
     ]
    },
    {
     "name": "stdout",
     "output_type": "stream",
     "text": [
      "MoviePy - Done.\n",
      "변환 완료: A03_S03_F_C_03_044_02_WA_MO.wav\n",
      "{'video_found': True, 'audio_found': True, 'metadata': {'major_brand': 'isom', 'minor_version': '512', 'compatible_brands': 'isomiso2mp41', 'encoder': 'Lavf58.29.100'}, 'inputs': [{'streams': [{'input_number': 0, 'stream_number': 0, 'stream_type': 'video', 'language': None, 'default': True, 'size': [1920, 1080], 'bitrate': 2432, 'fps': 30.0, 'codec_name': 'mpeg4', 'profile': '(Simple Profile)', 'metadata': {'Metadata': '', 'handler_name': 'VideoHandler', 'vendor_id': '[0][0][0][0]'}}, {'input_number': 0, 'stream_number': 1, 'stream_type': 'audio', 'language': None, 'default': True, 'fps': 44100, 'bitrate': 128, 'metadata': {'Metadata': '', 'handler_name': 'SoundHandler', 'vendor_id': '[0][0][0][0]'}}], 'input_number': 0}], 'duration': 306.8, 'bitrate': 2568, 'start': 0.0, 'default_video_input_number': 0, 'default_video_stream_number': 0, 'video_codec_name': 'mpeg4', 'video_profile': '(Simple Profile)', 'video_size': [1920, 1080], 'video_bitrate': 2432, 'video_fps': 30.0, 'default_audio_input_number': 0, 'default_audio_stream_number': 1, 'audio_fps': 44100, 'audio_bitrate': 128, 'video_duration': 306.8, 'video_n_frames': 9204}\n",
      "C:\\Users\\USER\\anaconda3\\Lib\\site-packages\\imageio_ffmpeg\\binaries\\ffmpeg-win-x86_64-v7.1.exe -i C:\\Users\\USER\\Desktop\\동아리\\O.P.C\\unzipped_영상\\A03_S03_F_C_04_047_02_WA_MO.mp4 -loglevel error -f image2pipe -vf scale=1920:1080 -sws_flags bicubic -pix_fmt rgb24 -vcodec rawvideo -\n",
      "MoviePy - Writing audio in ./wav\\A03_S03_F_C_04_047_02_WA_MO.wav\n"
     ]
    },
    {
     "name": "stderr",
     "output_type": "stream",
     "text": [
      "                                                                      \r"
     ]
    },
    {
     "name": "stdout",
     "output_type": "stream",
     "text": [
      "MoviePy - Done.\n",
      "변환 완료: A03_S03_F_C_04_047_02_WA_MO.wav\n",
      "{'video_found': True, 'audio_found': True, 'metadata': {'major_brand': 'isom', 'minor_version': '512', 'compatible_brands': 'isomiso2mp41', 'encoder': 'Lavf58.29.100'}, 'inputs': [{'streams': [{'input_number': 0, 'stream_number': 0, 'stream_type': 'video', 'language': None, 'default': True, 'size': [1920, 1080], 'bitrate': 3891, 'fps': 30.0, 'codec_name': 'mpeg4', 'profile': '(Simple Profile)', 'metadata': {'Metadata': '', 'handler_name': 'VideoHandler', 'vendor_id': '[0][0][0][0]'}}, {'input_number': 0, 'stream_number': 1, 'stream_type': 'audio', 'language': None, 'default': True, 'fps': 44100, 'bitrate': 128, 'metadata': {'Metadata': '', 'handler_name': 'SoundHandler', 'vendor_id': '[0][0][0][0]'}}], 'input_number': 0}], 'duration': 237.84, 'bitrate': 4026, 'start': 0.0, 'default_video_input_number': 0, 'default_video_stream_number': 0, 'video_codec_name': 'mpeg4', 'video_profile': '(Simple Profile)', 'video_size': [1920, 1080], 'video_bitrate': 3891, 'video_fps': 30.0, 'default_audio_input_number': 0, 'default_audio_stream_number': 1, 'audio_fps': 44100, 'audio_bitrate': 128, 'video_duration': 237.84, 'video_n_frames': 7135}\n",
      "C:\\Users\\USER\\anaconda3\\Lib\\site-packages\\imageio_ffmpeg\\binaries\\ffmpeg-win-x86_64-v7.1.exe -i C:\\Users\\USER\\Desktop\\동아리\\O.P.C\\unzipped_영상\\A03_S03_F_C_04_048_02_WA_MO.mp4 -loglevel error -f image2pipe -vf scale=1920:1080 -sws_flags bicubic -pix_fmt rgb24 -vcodec rawvideo -\n",
      "MoviePy - Writing audio in ./wav\\A03_S03_F_C_04_048_02_WA_MO.wav\n"
     ]
    },
    {
     "name": "stderr",
     "output_type": "stream",
     "text": [
      "                                                                      \r"
     ]
    },
    {
     "name": "stdout",
     "output_type": "stream",
     "text": [
      "MoviePy - Done.\n",
      "변환 완료: A03_S03_M_C_04_046_02_WA_MO.wav\n",
      "{'video_found': True, 'audio_found': True, 'metadata': {'major_brand': 'isom', 'minor_version': '512', 'compatible_brands': 'isomiso2mp41', 'encoder': 'Lavf58.29.100'}, 'inputs': [{'streams': [{'input_number': 0, 'stream_number': 0, 'stream_type': 'video', 'language': None, 'default': True, 'size': [1920, 1080], 'bitrate': 2465, 'fps': 30.0, 'codec_name': 'mpeg4', 'profile': '(Simple Profile)', 'metadata': {'Metadata': '', 'handler_name': 'VideoHandler', 'vendor_id': '[0][0][0][0]'}}, {'input_number': 0, 'stream_number': 1, 'stream_type': 'audio', 'language': None, 'default': True, 'fps': 44100, 'bitrate': 124, 'metadata': {'Metadata': '', 'handler_name': 'SoundHandler', 'vendor_id': '[0][0][0][0]'}}], 'input_number': 0}], 'duration': 226.73, 'bitrate': 2597, 'start': 0.0, 'default_video_input_number': 0, 'default_video_stream_number': 0, 'video_codec_name': 'mpeg4', 'video_profile': '(Simple Profile)', 'video_size': [1920, 1080], 'video_bitrate': 2465, 'video_fps': 30.0, 'default_audio_input_number': 0, 'default_audio_stream_number': 1, 'audio_fps': 44100, 'audio_bitrate': 124, 'video_duration': 226.73, 'video_n_frames': 6801}\n",
      "C:\\Users\\USER\\anaconda3\\Lib\\site-packages\\imageio_ffmpeg\\binaries\\ffmpeg-win-x86_64-v7.1.exe -i C:\\Users\\USER\\Desktop\\동아리\\O.P.C\\unzipped_영상\\A03_S03_M_C_05_051_02_WA_MO.mp4 -loglevel error -f image2pipe -vf scale=1920:1080 -sws_flags bicubic -pix_fmt rgb24 -vcodec rawvideo -\n",
      "MoviePy - Writing audio in ./wav\\A03_S03_M_C_05_051_02_WA_MO.wav\n"
     ]
    },
    {
     "name": "stderr",
     "output_type": "stream",
     "text": [
      "                                                                      \r"
     ]
    },
    {
     "name": "stdout",
     "output_type": "stream",
     "text": [
      "MoviePy - Done.\n",
      "변환 완료: A03_S03_M_C_05_051_02_WA_MO.wav\n",
      "{'video_found': True, 'audio_found': True, 'metadata': {'major_brand': 'isom', 'minor_version': '512', 'compatible_brands': 'isomiso2mp41', 'encoder': 'Lavf58.29.100'}, 'inputs': [{'streams': [{'input_number': 0, 'stream_number': 0, 'stream_type': 'video', 'language': None, 'default': True, 'size': [1920, 1080], 'bitrate': 3828, 'fps': 30.0, 'codec_name': 'mpeg4', 'profile': '(Simple Profile)', 'metadata': {'Metadata': '', 'handler_name': 'VideoHandler', 'vendor_id': '[0][0][0][0]'}}, {'input_number': 0, 'stream_number': 1, 'stream_type': 'audio', 'language': None, 'default': True, 'fps': 44100, 'bitrate': 128, 'metadata': {'Metadata': '', 'handler_name': 'SoundHandler', 'vendor_id': '[0][0][0][0]'}}], 'input_number': 0}], 'duration': 195.3, 'bitrate': 3963, 'start': 0.0, 'default_video_input_number': 0, 'default_video_stream_number': 0, 'video_codec_name': 'mpeg4', 'video_profile': '(Simple Profile)', 'video_size': [1920, 1080], 'video_bitrate': 3828, 'video_fps': 30.0, 'default_audio_input_number': 0, 'default_audio_stream_number': 1, 'audio_fps': 44100, 'audio_bitrate': 128, 'video_duration': 195.3, 'video_n_frames': 5859}\n",
      "C:\\Users\\USER\\anaconda3\\Lib\\site-packages\\imageio_ffmpeg\\binaries\\ffmpeg-win-x86_64-v7.1.exe -i C:\\Users\\USER\\Desktop\\동아리\\O.P.C\\unzipped_영상\\A03_S03_M_C_06_052_02_WA_MO.mp4 -loglevel error -f image2pipe -vf scale=1920:1080 -sws_flags bicubic -pix_fmt rgb24 -vcodec rawvideo -\n",
      "MoviePy - Writing audio in ./wav\\A03_S03_M_C_06_052_02_WA_MO.wav\n"
     ]
    },
    {
     "name": "stderr",
     "output_type": "stream",
     "text": [
      "                                                                      \r"
     ]
    },
    {
     "name": "stdout",
     "output_type": "stream",
     "text": [
      "MoviePy - Done.\n",
      "변환 완료: A03_S03_M_C_06_052_02_WA_MO.wav\n",
      "{'video_found': True, 'audio_found': True, 'metadata': {'major_brand': 'isom', 'minor_version': '512', 'compatible_brands': 'isomiso2mp41', 'encoder': 'Lavf58.29.100'}, 'inputs': [{'streams': [{'input_number': 0, 'stream_number': 0, 'stream_type': 'video', 'language': None, 'default': True, 'size': [1920, 1080], 'bitrate': 2857, 'fps': 30.0, 'codec_name': 'mpeg4', 'profile': '(Simple Profile)', 'metadata': {'Metadata': '', 'handler_name': 'VideoHandler', 'vendor_id': '[0][0][0][0]'}}, {'input_number': 0, 'stream_number': 1, 'stream_type': 'audio', 'language': None, 'default': True, 'fps': 44100, 'bitrate': 128, 'metadata': {'Metadata': '', 'handler_name': 'SoundHandler', 'vendor_id': '[0][0][0][0]'}}], 'input_number': 0}], 'duration': 256.53, 'bitrate': 2993, 'start': 0.0, 'default_video_input_number': 0, 'default_video_stream_number': 0, 'video_codec_name': 'mpeg4', 'video_profile': '(Simple Profile)', 'video_size': [1920, 1080], 'video_bitrate': 2857, 'video_fps': 30.0, 'default_audio_input_number': 0, 'default_audio_stream_number': 1, 'audio_fps': 44100, 'audio_bitrate': 128, 'video_duration': 256.53, 'video_n_frames': 7695}\n",
      "C:\\Users\\USER\\anaconda3\\Lib\\site-packages\\imageio_ffmpeg\\binaries\\ffmpeg-win-x86_64-v7.1.exe -i C:\\Users\\USER\\Desktop\\동아리\\O.P.C\\unzipped_영상\\A03_S03_M_F_01_092_02_WA_MO.mp4 -loglevel error -f image2pipe -vf scale=1920:1080 -sws_flags bicubic -pix_fmt rgb24 -vcodec rawvideo -\n",
      "MoviePy - Writing audio in ./wav\\A03_S03_M_F_01_092_02_WA_MO.wav\n"
     ]
    },
    {
     "name": "stderr",
     "output_type": "stream",
     "text": [
      "                                                                      \r"
     ]
    },
    {
     "name": "stdout",
     "output_type": "stream",
     "text": [
      "MoviePy - Done.\n",
      "변환 완료: A03_S03_M_F_01_092_02_WA_MO.wav\n",
      "{'video_found': True, 'audio_found': True, 'metadata': {'major_brand': 'isom', 'minor_version': '512', 'compatible_brands': 'isomiso2mp41', 'encoder': 'Lavf58.29.100'}, 'inputs': [{'streams': [{'input_number': 0, 'stream_number': 0, 'stream_type': 'video', 'language': None, 'default': True, 'size': [1920, 1080], 'bitrate': 3353, 'fps': 30.0, 'codec_name': 'mpeg4', 'profile': '(Simple Profile)', 'metadata': {'Metadata': '', 'handler_name': 'VideoHandler', 'vendor_id': '[0][0][0][0]'}}, {'input_number': 0, 'stream_number': 1, 'stream_type': 'audio', 'language': None, 'default': True, 'fps': 44100, 'bitrate': 128, 'metadata': {'Metadata': '', 'handler_name': 'SoundHandler', 'vendor_id': '[0][0][0][0]'}}], 'input_number': 0}], 'duration': 300.91, 'bitrate': 3488, 'start': 0.0, 'default_video_input_number': 0, 'default_video_stream_number': 0, 'video_codec_name': 'mpeg4', 'video_profile': '(Simple Profile)', 'video_size': [1920, 1080], 'video_bitrate': 3353, 'video_fps': 30.0, 'default_audio_input_number': 0, 'default_audio_stream_number': 1, 'audio_fps': 44100, 'audio_bitrate': 128, 'video_duration': 300.91, 'video_n_frames': 9027}\n",
      "C:\\Users\\USER\\anaconda3\\Lib\\site-packages\\imageio_ffmpeg\\binaries\\ffmpeg-win-x86_64-v7.1.exe -i C:\\Users\\USER\\Desktop\\동아리\\O.P.C\\unzipped_영상\\A03_S03_M_F_03_096_02_WA_MO.mp4 -loglevel error -f image2pipe -vf scale=1920:1080 -sws_flags bicubic -pix_fmt rgb24 -vcodec rawvideo -\n",
      "MoviePy - Writing audio in ./wav\\A03_S03_M_F_03_096_02_WA_MO.wav\n"
     ]
    },
    {
     "name": "stderr",
     "output_type": "stream",
     "text": [
      "                                                                      \r"
     ]
    },
    {
     "name": "stdout",
     "output_type": "stream",
     "text": [
      "MoviePy - Done.\n",
      "변환 완료: A03_S03_M_F_03_096_02_WA_MO.wav\n",
      "{'video_found': True, 'audio_found': True, 'metadata': {'major_brand': 'isom', 'minor_version': '512', 'compatible_brands': 'isomiso2mp41', 'encoder': 'Lavf58.29.100'}, 'inputs': [{'streams': [{'input_number': 0, 'stream_number': 0, 'stream_type': 'video', 'language': None, 'default': True, 'size': [1920, 1080], 'bitrate': 3761, 'fps': 30.0, 'codec_name': 'mpeg4', 'profile': '(Simple Profile)', 'metadata': {'Metadata': '', 'handler_name': 'VideoHandler', 'vendor_id': '[0][0][0][0]'}}, {'input_number': 0, 'stream_number': 1, 'stream_type': 'audio', 'language': None, 'default': True, 'fps': 44100, 'bitrate': 128, 'metadata': {'Metadata': '', 'handler_name': 'SoundHandler', 'vendor_id': '[0][0][0][0]'}}], 'input_number': 0}], 'duration': 213.32999999999998, 'bitrate': 3897, 'start': 0.0, 'default_video_input_number': 0, 'default_video_stream_number': 0, 'video_codec_name': 'mpeg4', 'video_profile': '(Simple Profile)', 'video_size': [1920, 1080], 'video_bitrate': 3761, 'video_fps': 30.0, 'default_audio_input_number': 0, 'default_audio_stream_number': 1, 'audio_fps': 44100, 'audio_bitrate': 128, 'video_duration': 213.32999999999998, 'video_n_frames': 6399}\n",
      "C:\\Users\\USER\\anaconda3\\Lib\\site-packages\\imageio_ffmpeg\\binaries\\ffmpeg-win-x86_64-v7.1.exe -i C:\\Users\\USER\\Desktop\\동아리\\O.P.C\\unzipped_영상\\A03_S03_M_F_04_098_02_WA_MO.mp4 -loglevel error -f image2pipe -vf scale=1920:1080 -sws_flags bicubic -pix_fmt rgb24 -vcodec rawvideo -\n",
      "MoviePy - Writing audio in ./wav\\A03_S03_M_F_04_098_02_WA_MO.wav\n"
     ]
    },
    {
     "name": "stderr",
     "output_type": "stream",
     "text": [
      "                                                                      \r"
     ]
    },
    {
     "name": "stdout",
     "output_type": "stream",
     "text": [
      "MoviePy - Done.\n",
      "변환 완료: A03_S03_M_F_04_098_02_WA_MO.wav\n",
      "{'video_found': True, 'audio_found': True, 'metadata': {'major_brand': 'isom', 'minor_version': '512', 'compatible_brands': 'isomiso2mp41', 'encoder': 'Lavf58.29.100'}, 'inputs': [{'streams': [{'input_number': 0, 'stream_number': 0, 'stream_type': 'video', 'language': None, 'default': True, 'size': [1920, 1080], 'bitrate': 2429, 'fps': 30.0, 'codec_name': 'mpeg4', 'profile': '(Simple Profile)', 'metadata': {'Metadata': '', 'handler_name': 'VideoHandler', 'vendor_id': '[0][0][0][0]'}}, {'input_number': 0, 'stream_number': 1, 'stream_type': 'audio', 'language': None, 'default': True, 'fps': 44100, 'bitrate': 128, 'metadata': {'Metadata': '', 'handler_name': 'SoundHandler', 'vendor_id': '[0][0][0][0]'}}], 'input_number': 0}], 'duration': 289.40999999999997, 'bitrate': 2565, 'start': 0.0, 'default_video_input_number': 0, 'default_video_stream_number': 0, 'video_codec_name': 'mpeg4', 'video_profile': '(Simple Profile)', 'video_size': [1920, 1080], 'video_bitrate': 2429, 'video_fps': 30.0, 'default_audio_input_number': 0, 'default_audio_stream_number': 1, 'audio_fps': 44100, 'audio_bitrate': 128, 'video_duration': 289.40999999999997, 'video_n_frames': 8682}\n",
      "C:\\Users\\USER\\anaconda3\\Lib\\site-packages\\imageio_ffmpeg\\binaries\\ffmpeg-win-x86_64-v7.1.exe -i C:\\Users\\USER\\Desktop\\동아리\\O.P.C\\unzipped_영상\\A03_S03_M_F_05_100_02_WA_MO.mp4 -loglevel error -f image2pipe -vf scale=1920:1080 -sws_flags bicubic -pix_fmt rgb24 -vcodec rawvideo -\n",
      "MoviePy - Writing audio in ./wav\\A03_S03_M_F_05_100_02_WA_MO.wav\n"
     ]
    },
    {
     "name": "stderr",
     "output_type": "stream",
     "text": [
      "                                                                      "
     ]
    },
    {
     "name": "stdout",
     "output_type": "stream",
     "text": [
      "MoviePy - Done.\n",
      "변환 완료: A03_S03_M_F_05_100_02_WA_MO.wav\n"
     ]
    },
    {
     "name": "stderr",
     "output_type": "stream",
     "text": [
      "\r"
     ]
    }
   ],
   "source": [
    "# 비디오 - 오디오 변환\n",
    "video_dir = r\"C:\\Users\\USER\\Desktop\\동아리\\O.P.C\\unzipped_영상\"\n",
    "output_dir = \"./wav\"\n",
    "os.makedirs(output_dir, exist_ok=True)\n",
    "\n",
    "for idx, row in df_matched.iterrows():\n",
    "    stem = row[\"file_stem\"]\n",
    "    mp4_path = os.path.join(video_dir, f\"{stem}.mp4\")\n",
    "    wav_path = os.path.join(output_dir, f\"{stem}.wav\")\n",
    "    \n",
    "    try:\n",
    "        video = VideoFileClip(mp4_path)\n",
    "        video.audio.write_audiofile(wav_path, codec='pcm_s16le')  # wav 포맷\n",
    "        print(f\"변환 완료: {stem}.wav\")\n",
    "    except Exception as e:\n",
    "        print(f\"변환 실패: {stem} - {e}\")"
   ]
  },
  {
   "cell_type": "code",
   "execution_count": null,
   "id": "eec51f2d-6fdb-4485-a636-16d5c7f493e9",
   "metadata": {},
   "outputs": [],
   "source": []
  }
 ],
 "metadata": {
  "kernelspec": {
   "display_name": "Python [conda env:base] *",
   "language": "python",
   "name": "conda-base-py"
  },
  "language_info": {
   "codemirror_mode": {
    "name": "ipython",
    "version": 3
   },
   "file_extension": ".py",
   "mimetype": "text/x-python",
   "name": "python",
   "nbconvert_exporter": "python",
   "pygments_lexer": "ipython3",
   "version": "3.12.7"
  }
 },
 "nbformat": 4,
 "nbformat_minor": 5
}
