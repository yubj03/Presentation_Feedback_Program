{
 "cells": [
  {
   "cell_type": "code",
   "execution_count": 2,
   "id": "d05f8cc2-09b1-4be9-a492-36b8bc696bb9",
   "metadata": {},
   "outputs": [
    {
     "name": "stdout",
     "output_type": "stream",
     "text": [
      "병합 완료: C:\\Users\\USER\\Desktop\\동아리\\O.P.C\\프로젝트\\라벨링_데이터_var\\112.공적말하기_실습_및_평가_데이터\\3.개방데이터\\1.데이터\\Validation\\02.라벨링데이터\\VL_1.언어적_4._A03_30대.zip\n"
     ]
    }
   ],
   "source": [
    "import os\n",
    "import shutil\n",
    "import zipfile\n",
    "import json\n",
    "import pandas as pd\n",
    "from glob import glob\n",
    "\n",
    "label_dir = r\"C:\\Users\\USER\\Desktop\\동아리\\O.P.C\\프로젝트\\라벨링_데이터_var\\112.공적말하기_실습_및_평가_데이터\\3.개방데이터\\1.데이터\\Validation\\02.라벨링데이터\"\n",
    "unzip_dir = \"./unzipped_라벨링_var\"\n",
    "\n",
    "part_files = sorted(glob(os.path.join(label_dir, \"*.zip.part*\")))\n",
    "\n",
    "if not part_files:\n",
    "    raise FileNotFoundError(\"병합할 .zip.part* 파일이 없습니다.\")\n",
    "\n",
    "zip_filename = part_files[0].split(\".zip.part\")[0] + \".zip\"\n",
    "merged_path = os.path.join(label_dir, zip_filename)\n",
    "\n",
    "with open(merged_path, \"wb\") as outfile:\n",
    "    for part in part_files:\n",
    "        with open(part, \"rb\") as pf:\n",
    "            shutil.copyfileobj(pf, outfile)\n",
    "\n",
    "print(f\"병합 완료: {merged_path}\")"
   ]
  },
  {
   "cell_type": "code",
   "execution_count": 3,
   "id": "1bbc6a01-780f-4314-a6c7-a1cd2e46a9ab",
   "metadata": {},
   "outputs": [],
   "source": [
    "with zipfile.ZipFile(zip_filename, 'r') as zip_ref:\n",
    "    zip_ref.extractall(\"unzipped_data\")"
   ]
  },
  {
   "cell_type": "code",
   "execution_count": 2,
   "id": "0203c0c4-35a2-4552-92bd-dd72421fc4e7",
   "metadata": {},
   "outputs": [],
   "source": [
    "label_root = r\"C:\\Users\\USER\\Desktop\\동아리\\O.P.C\\프로젝트\\unzipped_data_var\"\n",
    "json_paths = glob(os.path.join(label_root, \"**\", \"*.json\"), recursive=True)\n",
    "\n",
    "#빈 리스트 생성\n",
    "label_dts = []\n",
    "\n",
    "#json 파일 하나씩 열기\n",
    "for path in json_paths:\n",
    "    with open(path, \"r\", encoding=\"utf-8\") as f:\n",
    "        data = json.load(f)\n",
    "\n",
    "    label_dt = {}\n",
    "\n",
    "    # 발표자\n",
    "    label_dt[\"gender\"] = data.get(\"speaker\", {}).get(\"gender\", \"\")\n",
    "    \n",
    "    # 발표 스크립트 원문\n",
    "    label_dt[\"presen_script\"] = data.get(\"presentation\", {}).get(\"presen_script\", \"\")\n",
    "\n",
    "    # 발표 내용\n",
    "    label_dt[\"start_time\"] = data.get(\"script\", {}).get(\"start_time\", \"\")\n",
    "    label_dt[\"end_time\"] = data.get(\"script\", {}).get(\"end_time\", \"\")\n",
    "    label_dt[\"script_stt_txt\"] = data.get(\"script\", {}).get(\"script_stt_txt\", \"\")\n",
    "    label_dt[\"script_tag_txt\"] = data.get(\"script\", {}).get(\"script_tag_txt\", \"\")\n",
    "    label_dt[\"word_cnt\"] = data.get(\"script\", {}).get(\"word_cnt\", 0)\n",
    "    label_dt[\"audible_word_cnt\"] = data.get(\"script\", {}).get(\"audible_word_cnt\", 0)\n",
    "    label_dt[\"sent_cnt\"] = data.get(\"script\", {}).get(\"sent_cnt\", 0)\n",
    "\n",
    "    # 평가 점수(평균)\n",
    "    label_dt[\"repeat_scr\"] = data.get(\"average\", {}).get(\"repeat_scr\", 0.0)\n",
    "    label_dt[\"filler_words_scr\"] = data.get(\"average\", {}).get(\"filler_words_scr\", 0.0)\n",
    "    label_dt[\"pause_scr\"] = data.get(\"average\", {}).get(\"pause_scr\", 0.0)\n",
    "    label_dt[\"wrong_scr\"] = data.get(\"average\", {}).get(\"wrong_scr\", 0.0)\n",
    "    label_dt[\"voc_quality_scr\"] = data.get(\"average\", {}).get(\"voc_quality_scr\", 0.0)\n",
    "    label_dt[\"voc_speed_sec_scr\"] = data.get(\"average\", {}).get(\"voc_speed_sec_scr\", 0.0)\n",
    "    label_dt[\"eval_grade\"] = data.get(\"average\", {}).get(\"eval_grade\", \"\")\n",
    "\n",
    "    # eval_grade 점수 변환\n",
    "    label_dt[\"eval_grade\"] = {\"A+\":8.0,\"A0\":7.0,\"B+\":6.0,\"B0\":5.0,\"C+\":4.0,\"C0\":3.0,\"D+\":2.0,\"D0\":1.0,\"F\":0.0}.get(label_dt[\"eval_grade\"], None)\n",
    "\n",
    "    # 파일명\n",
    "    label_dt[\"filename\"] = data.get(\"info\", {}).get(\"filename\", \"\")\n",
    "\n",
    "    # 읽어들인 딕셔너리를 빈 리스트에 추가\n",
    "    label_dts.append(label_dt)\n",
    "\n",
    "# DataFrame으로 변환\n",
    "df_presentations = pd.DataFrame(label_dts)"
   ]
  },
  {
   "cell_type": "code",
   "execution_count": 15,
   "id": "a6e73d65-1845-400e-9497-11594bc1edf0",
   "metadata": {},
   "outputs": [
    {
     "data": {
      "text/html": [
       "<div>\n",
       "<style scoped>\n",
       "    .dataframe tbody tr th:only-of-type {\n",
       "        vertical-align: middle;\n",
       "    }\n",
       "\n",
       "    .dataframe tbody tr th {\n",
       "        vertical-align: top;\n",
       "    }\n",
       "\n",
       "    .dataframe thead th {\n",
       "        text-align: right;\n",
       "    }\n",
       "</style>\n",
       "<table border=\"1\" class=\"dataframe\">\n",
       "  <thead>\n",
       "    <tr style=\"text-align: right;\">\n",
       "      <th></th>\n",
       "      <th>gender</th>\n",
       "      <th>presen_script</th>\n",
       "      <th>start_time</th>\n",
       "      <th>end_time</th>\n",
       "      <th>script_stt_txt</th>\n",
       "      <th>script_tag_txt</th>\n",
       "      <th>word_cnt</th>\n",
       "      <th>audible_word_cnt</th>\n",
       "      <th>sent_cnt</th>\n",
       "      <th>repeat_scr</th>\n",
       "      <th>filler_words_scr</th>\n",
       "      <th>pause_scr</th>\n",
       "      <th>wrong_scr</th>\n",
       "      <th>voc_quality_scr</th>\n",
       "      <th>vor_speed_sec_scr</th>\n",
       "      <th>eval_grade</th>\n",
       "      <th>filename</th>\n",
       "    </tr>\n",
       "  </thead>\n",
       "  <tbody>\n",
       "    <tr>\n",
       "      <th>0</th>\n",
       "      <td>여자</td>\n",
       "      <td>안녕하십니까? 여러분, 오늘은 e스포츠가 젊은이들에게 미치는 긍정적인 영향에 대해 ...</td>\n",
       "      <td>00:00</td>\n",
       "      <td>03:39</td>\n",
       "      <td>안녕하십니까 여러분. 오늘은 e스포츠가 젊은이들에게 미치는 긍정적인 영향에 대해서 ...</td>\n",
       "      <td>안녕하십니까 여러분. 오늘은 e스포츠가 젊은이들에게 미치는 긍정적인 영향에 대해서 ...</td>\n",
       "      <td>308</td>\n",
       "      <td>303</td>\n",
       "      <td>26</td>\n",
       "      <td>4.90</td>\n",
       "      <td>4.85</td>\n",
       "      <td>4.85</td>\n",
       "      <td>3.95</td>\n",
       "      <td>3.95</td>\n",
       "      <td>3.70</td>\n",
       "      <td>7.0</td>\n",
       "      <td>A03_S01_F_A_01_002_02_WA_MO_presentation.json</td>\n",
       "    </tr>\n",
       "    <tr>\n",
       "      <th>1</th>\n",
       "      <td>여자</td>\n",
       "      <td>안녕하세요, 여러분. 오늘은 저의 제주도 가족 여행에 대한 추억을 나누고자 합니다....</td>\n",
       "      <td>00:00</td>\n",
       "      <td>05:23</td>\n",
       "      <td>안녕하세요 여러분 오늘은 저의 제주도 가족 여행에 대한 추억을 나누고자 합니다. 이...</td>\n",
       "      <td>안녕하세요 여러분 오늘은 저의 제주도 가족 여행에 대한 추억을 나누고자 합니다. 이...</td>\n",
       "      <td>369</td>\n",
       "      <td>335</td>\n",
       "      <td>30</td>\n",
       "      <td>1.05</td>\n",
       "      <td>4.85</td>\n",
       "      <td>4.80</td>\n",
       "      <td>2.90</td>\n",
       "      <td>2.45</td>\n",
       "      <td>1.05</td>\n",
       "      <td>3.0</td>\n",
       "      <td>A03_S01_F_E_02_076_02_WA_MO_presentation.json</td>\n",
       "    </tr>\n",
       "    <tr>\n",
       "      <th>2</th>\n",
       "      <td>여자</td>\n",
       "      <td>안녕하십니까? 오늘은 제가 얼마전에 다녀온 남해 여행에 대한 추억을 나누고자 합니다...</td>\n",
       "      <td>00:00</td>\n",
       "      <td>04:12</td>\n",
       "      <td>안녕하십니까? 오늘은 제가 얼마 전에 다녀온 남해 여행에 대한 추억을 나누고자 합니...</td>\n",
       "      <td>안녕하십니까? 오늘은 제가 얼마 전에 다녀온 남해 여행에 대한 추억을 나누고자 합니...</td>\n",
       "      <td>351</td>\n",
       "      <td>334</td>\n",
       "      <td>30</td>\n",
       "      <td>4.00</td>\n",
       "      <td>4.80</td>\n",
       "      <td>4.85</td>\n",
       "      <td>2.95</td>\n",
       "      <td>3.35</td>\n",
       "      <td>1.05</td>\n",
       "      <td>4.0</td>\n",
       "      <td>A03_S01_F_E_05_086_02_WA_MO_presentation.json</td>\n",
       "    </tr>\n",
       "    <tr>\n",
       "      <th>3</th>\n",
       "      <td>여자</td>\n",
       "      <td>존경하는 여러분, 오늘은 인종차별이 이루어지면 안되는 이유에 대해 고찰하고자 합니다...</td>\n",
       "      <td>00:00</td>\n",
       "      <td>04:11</td>\n",
       "      <td>존경하는 여러분, 오늘은 인종차별이 이루어지면 안되는 이유에 대해 오 고찰하고자 합...</td>\n",
       "      <td>존경하는 여러분, 오늘은 인종차별이 이루어지면 안되는 이유에 대해  &lt;REP&gt;오 고...</td>\n",
       "      <td>355</td>\n",
       "      <td>336</td>\n",
       "      <td>27</td>\n",
       "      <td>4.90</td>\n",
       "      <td>4.90</td>\n",
       "      <td>4.80</td>\n",
       "      <td>3.95</td>\n",
       "      <td>3.30</td>\n",
       "      <td>1.20</td>\n",
       "      <td>5.0</td>\n",
       "      <td>A03_S02_F_B_05_033_02_WA_MO_presentation.json</td>\n",
       "    </tr>\n",
       "    <tr>\n",
       "      <th>4</th>\n",
       "      <td>남자</td>\n",
       "      <td>안녕하십니까, 오늘은 영화나 드라마 등 문화 콘텐츠에서 이루어지는 인종차별에 대한 ...</td>\n",
       "      <td>00:00</td>\n",
       "      <td>04:24</td>\n",
       "      <td>안녕하십니까 오늘은 영화나 드라마나, 영화 오늘은 영화나 드라마 등 문화 콘텐츠에서...</td>\n",
       "      <td>안녕하십니까  &lt;REP&gt;오늘은 영화나 드라마나, 영화 오늘은 영화나 드라마&lt;/REP...</td>\n",
       "      <td>390</td>\n",
       "      <td>385</td>\n",
       "      <td>24</td>\n",
       "      <td>1.35</td>\n",
       "      <td>4.90</td>\n",
       "      <td>4.85</td>\n",
       "      <td>3.90</td>\n",
       "      <td>3.20</td>\n",
       "      <td>2.90</td>\n",
       "      <td>4.0</td>\n",
       "      <td>A03_S02_M_B_06_034_02_WA_MO_presentation.json</td>\n",
       "    </tr>\n",
       "  </tbody>\n",
       "</table>\n",
       "</div>"
      ],
      "text/plain": [
       "  gender                                      presen_script start_time  \\\n",
       "0     여자  안녕하십니까? 여러분, 오늘은 e스포츠가 젊은이들에게 미치는 긍정적인 영향에 대해 ...      00:00   \n",
       "1     여자  안녕하세요, 여러분. 오늘은 저의 제주도 가족 여행에 대한 추억을 나누고자 합니다....      00:00   \n",
       "2     여자  안녕하십니까? 오늘은 제가 얼마전에 다녀온 남해 여행에 대한 추억을 나누고자 합니다...      00:00   \n",
       "3     여자  존경하는 여러분, 오늘은 인종차별이 이루어지면 안되는 이유에 대해 고찰하고자 합니다...      00:00   \n",
       "4     남자  안녕하십니까, 오늘은 영화나 드라마 등 문화 콘텐츠에서 이루어지는 인종차별에 대한 ...      00:00   \n",
       "\n",
       "  end_time                                     script_stt_txt  \\\n",
       "0    03:39  안녕하십니까 여러분. 오늘은 e스포츠가 젊은이들에게 미치는 긍정적인 영향에 대해서 ...   \n",
       "1    05:23  안녕하세요 여러분 오늘은 저의 제주도 가족 여행에 대한 추억을 나누고자 합니다. 이...   \n",
       "2    04:12  안녕하십니까? 오늘은 제가 얼마 전에 다녀온 남해 여행에 대한 추억을 나누고자 합니...   \n",
       "3    04:11  존경하는 여러분, 오늘은 인종차별이 이루어지면 안되는 이유에 대해 오 고찰하고자 합...   \n",
       "4    04:24  안녕하십니까 오늘은 영화나 드라마나, 영화 오늘은 영화나 드라마 등 문화 콘텐츠에서...   \n",
       "\n",
       "                                      script_tag_txt  word_cnt  \\\n",
       "0  안녕하십니까 여러분. 오늘은 e스포츠가 젊은이들에게 미치는 긍정적인 영향에 대해서 ...       308   \n",
       "1  안녕하세요 여러분 오늘은 저의 제주도 가족 여행에 대한 추억을 나누고자 합니다. 이...       369   \n",
       "2  안녕하십니까? 오늘은 제가 얼마 전에 다녀온 남해 여행에 대한 추억을 나누고자 합니...       351   \n",
       "3  존경하는 여러분, 오늘은 인종차별이 이루어지면 안되는 이유에 대해  <REP>오 고...       355   \n",
       "4  안녕하십니까  <REP>오늘은 영화나 드라마나, 영화 오늘은 영화나 드라마</REP...       390   \n",
       "\n",
       "   audible_word_cnt  sent_cnt  repeat_scr  filler_words_scr  pause_scr  \\\n",
       "0               303        26        4.90              4.85       4.85   \n",
       "1               335        30        1.05              4.85       4.80   \n",
       "2               334        30        4.00              4.80       4.85   \n",
       "3               336        27        4.90              4.90       4.80   \n",
       "4               385        24        1.35              4.90       4.85   \n",
       "\n",
       "   wrong_scr  voc_quality_scr  vor_speed_sec_scr  eval_grade  \\\n",
       "0       3.95             3.95               3.70         7.0   \n",
       "1       2.90             2.45               1.05         3.0   \n",
       "2       2.95             3.35               1.05         4.0   \n",
       "3       3.95             3.30               1.20         5.0   \n",
       "4       3.90             3.20               2.90         4.0   \n",
       "\n",
       "                                        filename  \n",
       "0  A03_S01_F_A_01_002_02_WA_MO_presentation.json  \n",
       "1  A03_S01_F_E_02_076_02_WA_MO_presentation.json  \n",
       "2  A03_S01_F_E_05_086_02_WA_MO_presentation.json  \n",
       "3  A03_S02_F_B_05_033_02_WA_MO_presentation.json  \n",
       "4  A03_S02_M_B_06_034_02_WA_MO_presentation.json  "
      ]
     },
     "execution_count": 15,
     "metadata": {},
     "output_type": "execute_result"
    }
   ],
   "source": [
    "df_presentations.head()"
   ]
  },
  {
   "cell_type": "code",
   "execution_count": 3,
   "id": "37e3c535-3ce6-46e1-a2e6-feca074450da",
   "metadata": {},
   "outputs": [],
   "source": [
    "df_presentations.to_csv('extract_val_label_30.csv')"
   ]
  },
  {
   "cell_type": "code",
   "execution_count": 18,
   "id": "c28ae670-3885-46b4-a15d-d465b014d37d",
   "metadata": {},
   "outputs": [
    {
     "name": "stdout",
     "output_type": "stream",
     "text": [
      "병합 완료: C:\\Users\\USER\\Desktop\\동아리\\O.P.C\\프로젝트\\원본_데이터_var\\112.공적말하기_실습_및_평가_데이터\\3.개방데이터\\1.데이터\\Validation\\01.원천데이터\\VS_1.언어적_4._A03_30대.zip\n",
      "압축 해제 완료: ./unzipped_영상\n"
     ]
    }
   ],
   "source": [
    "video_part_dir = r\"C:\\Users\\USER\\Desktop\\동아리\\O.P.C\\프로젝트\\원본_데이터_var\\112.공적말하기_실습_및_평가_데이터\\3.개방데이터\\1.데이터\\Validation\\01.원천데이터\"\n",
    "unzip_dir = \"./unzipped_영상\"\n",
    "\n",
    "part_files = sorted(glob(os.path.join(video_part_dir, \"*.zip.part*\")), key=lambda x: int(x.split(\"part\")[-1]))\n",
    "\n",
    "zip_filename = part_files[0].split(\".zip.part\")[0] + \".zip\"\n",
    "merged_zip_path = os.path.join(video_part_dir, zip_filename)\n",
    "\n",
    "with open(merged_zip_path, \"wb\") as outfile:\n",
    "    for part in part_files:\n",
    "        with open(part, \"rb\") as pf:\n",
    "            shutil.copyfileobj(pf, outfile)\n",
    "\n",
    "print(f\"병합 완료: {merged_zip_path}\")\n",
    "\n",
    "os.makedirs(unzip_dir, exist_ok=True)\n",
    "with zipfile.ZipFile(merged_zip_path, 'r') as zip_ref:\n",
    "    zip_ref.extractall(unzip_dir)\n",
    "\n",
    "print(f\"압축 해제 완료: {unzip_dir}\")"
   ]
  },
  {
   "cell_type": "code",
   "execution_count": 19,
   "id": "2ea782fb-d621-4949-9796-317b60971d2f",
   "metadata": {},
   "outputs": [
    {
     "name": "stdout",
     "output_type": "stream",
     "text": [
      "매칭된 발표 수: 10 / 10\n"
     ]
    },
    {
     "data": {
      "text/html": [
       "<div>\n",
       "<style scoped>\n",
       "    .dataframe tbody tr th:only-of-type {\n",
       "        vertical-align: middle;\n",
       "    }\n",
       "\n",
       "    .dataframe tbody tr th {\n",
       "        vertical-align: top;\n",
       "    }\n",
       "\n",
       "    .dataframe thead th {\n",
       "        text-align: right;\n",
       "    }\n",
       "</style>\n",
       "<table border=\"1\" class=\"dataframe\">\n",
       "  <thead>\n",
       "    <tr style=\"text-align: right;\">\n",
       "      <th></th>\n",
       "      <th>gender</th>\n",
       "      <th>presen_script</th>\n",
       "      <th>start_time</th>\n",
       "      <th>end_time</th>\n",
       "      <th>script_stt_txt</th>\n",
       "      <th>script_tag_txt</th>\n",
       "      <th>word_cnt</th>\n",
       "      <th>audible_word_cnt</th>\n",
       "      <th>sent_cnt</th>\n",
       "      <th>repeat_scr</th>\n",
       "      <th>filler_words_scr</th>\n",
       "      <th>pause_scr</th>\n",
       "      <th>wrong_scr</th>\n",
       "      <th>voc_quality_scr</th>\n",
       "      <th>vor_speed_sec_scr</th>\n",
       "      <th>eval_grade</th>\n",
       "      <th>filename</th>\n",
       "      <th>file_stem</th>\n",
       "      <th>video_exists</th>\n",
       "    </tr>\n",
       "  </thead>\n",
       "  <tbody>\n",
       "    <tr>\n",
       "      <th>0</th>\n",
       "      <td>여자</td>\n",
       "      <td>안녕하십니까? 여러분, 오늘은 e스포츠가 젊은이들에게 미치는 긍정적인 영향에 대해 ...</td>\n",
       "      <td>00:00</td>\n",
       "      <td>03:39</td>\n",
       "      <td>안녕하십니까 여러분. 오늘은 e스포츠가 젊은이들에게 미치는 긍정적인 영향에 대해서 ...</td>\n",
       "      <td>안녕하십니까 여러분. 오늘은 e스포츠가 젊은이들에게 미치는 긍정적인 영향에 대해서 ...</td>\n",
       "      <td>308</td>\n",
       "      <td>303</td>\n",
       "      <td>26</td>\n",
       "      <td>4.90</td>\n",
       "      <td>4.85</td>\n",
       "      <td>4.85</td>\n",
       "      <td>3.95</td>\n",
       "      <td>3.95</td>\n",
       "      <td>3.70</td>\n",
       "      <td>7.0</td>\n",
       "      <td>A03_S01_F_A_01_002_02_WA_MO_presentation.json</td>\n",
       "      <td>A03_S01_F_A_01_002_02_WA_MO</td>\n",
       "      <td>True</td>\n",
       "    </tr>\n",
       "    <tr>\n",
       "      <th>1</th>\n",
       "      <td>여자</td>\n",
       "      <td>안녕하세요, 여러분. 오늘은 저의 제주도 가족 여행에 대한 추억을 나누고자 합니다....</td>\n",
       "      <td>00:00</td>\n",
       "      <td>05:23</td>\n",
       "      <td>안녕하세요 여러분 오늘은 저의 제주도 가족 여행에 대한 추억을 나누고자 합니다. 이...</td>\n",
       "      <td>안녕하세요 여러분 오늘은 저의 제주도 가족 여행에 대한 추억을 나누고자 합니다. 이...</td>\n",
       "      <td>369</td>\n",
       "      <td>335</td>\n",
       "      <td>30</td>\n",
       "      <td>1.05</td>\n",
       "      <td>4.85</td>\n",
       "      <td>4.80</td>\n",
       "      <td>2.90</td>\n",
       "      <td>2.45</td>\n",
       "      <td>1.05</td>\n",
       "      <td>3.0</td>\n",
       "      <td>A03_S01_F_E_02_076_02_WA_MO_presentation.json</td>\n",
       "      <td>A03_S01_F_E_02_076_02_WA_MO</td>\n",
       "      <td>True</td>\n",
       "    </tr>\n",
       "    <tr>\n",
       "      <th>2</th>\n",
       "      <td>여자</td>\n",
       "      <td>안녕하십니까? 오늘은 제가 얼마전에 다녀온 남해 여행에 대한 추억을 나누고자 합니다...</td>\n",
       "      <td>00:00</td>\n",
       "      <td>04:12</td>\n",
       "      <td>안녕하십니까? 오늘은 제가 얼마 전에 다녀온 남해 여행에 대한 추억을 나누고자 합니...</td>\n",
       "      <td>안녕하십니까? 오늘은 제가 얼마 전에 다녀온 남해 여행에 대한 추억을 나누고자 합니...</td>\n",
       "      <td>351</td>\n",
       "      <td>334</td>\n",
       "      <td>30</td>\n",
       "      <td>4.00</td>\n",
       "      <td>4.80</td>\n",
       "      <td>4.85</td>\n",
       "      <td>2.95</td>\n",
       "      <td>3.35</td>\n",
       "      <td>1.05</td>\n",
       "      <td>4.0</td>\n",
       "      <td>A03_S01_F_E_05_086_02_WA_MO_presentation.json</td>\n",
       "      <td>A03_S01_F_E_05_086_02_WA_MO</td>\n",
       "      <td>True</td>\n",
       "    </tr>\n",
       "    <tr>\n",
       "      <th>3</th>\n",
       "      <td>여자</td>\n",
       "      <td>존경하는 여러분, 오늘은 인종차별이 이루어지면 안되는 이유에 대해 고찰하고자 합니다...</td>\n",
       "      <td>00:00</td>\n",
       "      <td>04:11</td>\n",
       "      <td>존경하는 여러분, 오늘은 인종차별이 이루어지면 안되는 이유에 대해 오 고찰하고자 합...</td>\n",
       "      <td>존경하는 여러분, 오늘은 인종차별이 이루어지면 안되는 이유에 대해  &lt;REP&gt;오 고...</td>\n",
       "      <td>355</td>\n",
       "      <td>336</td>\n",
       "      <td>27</td>\n",
       "      <td>4.90</td>\n",
       "      <td>4.90</td>\n",
       "      <td>4.80</td>\n",
       "      <td>3.95</td>\n",
       "      <td>3.30</td>\n",
       "      <td>1.20</td>\n",
       "      <td>5.0</td>\n",
       "      <td>A03_S02_F_B_05_033_02_WA_MO_presentation.json</td>\n",
       "      <td>A03_S02_F_B_05_033_02_WA_MO</td>\n",
       "      <td>True</td>\n",
       "    </tr>\n",
       "    <tr>\n",
       "      <th>4</th>\n",
       "      <td>남자</td>\n",
       "      <td>안녕하십니까, 오늘은 영화나 드라마 등 문화 콘텐츠에서 이루어지는 인종차별에 대한 ...</td>\n",
       "      <td>00:00</td>\n",
       "      <td>04:24</td>\n",
       "      <td>안녕하십니까 오늘은 영화나 드라마나, 영화 오늘은 영화나 드라마 등 문화 콘텐츠에서...</td>\n",
       "      <td>안녕하십니까  &lt;REP&gt;오늘은 영화나 드라마나, 영화 오늘은 영화나 드라마&lt;/REP...</td>\n",
       "      <td>390</td>\n",
       "      <td>385</td>\n",
       "      <td>24</td>\n",
       "      <td>1.35</td>\n",
       "      <td>4.90</td>\n",
       "      <td>4.85</td>\n",
       "      <td>3.90</td>\n",
       "      <td>3.20</td>\n",
       "      <td>2.90</td>\n",
       "      <td>4.0</td>\n",
       "      <td>A03_S02_M_B_06_034_02_WA_MO_presentation.json</td>\n",
       "      <td>A03_S02_M_B_06_034_02_WA_MO</td>\n",
       "      <td>True</td>\n",
       "    </tr>\n",
       "  </tbody>\n",
       "</table>\n",
       "</div>"
      ],
      "text/plain": [
       "  gender                                      presen_script start_time  \\\n",
       "0     여자  안녕하십니까? 여러분, 오늘은 e스포츠가 젊은이들에게 미치는 긍정적인 영향에 대해 ...      00:00   \n",
       "1     여자  안녕하세요, 여러분. 오늘은 저의 제주도 가족 여행에 대한 추억을 나누고자 합니다....      00:00   \n",
       "2     여자  안녕하십니까? 오늘은 제가 얼마전에 다녀온 남해 여행에 대한 추억을 나누고자 합니다...      00:00   \n",
       "3     여자  존경하는 여러분, 오늘은 인종차별이 이루어지면 안되는 이유에 대해 고찰하고자 합니다...      00:00   \n",
       "4     남자  안녕하십니까, 오늘은 영화나 드라마 등 문화 콘텐츠에서 이루어지는 인종차별에 대한 ...      00:00   \n",
       "\n",
       "  end_time                                     script_stt_txt  \\\n",
       "0    03:39  안녕하십니까 여러분. 오늘은 e스포츠가 젊은이들에게 미치는 긍정적인 영향에 대해서 ...   \n",
       "1    05:23  안녕하세요 여러분 오늘은 저의 제주도 가족 여행에 대한 추억을 나누고자 합니다. 이...   \n",
       "2    04:12  안녕하십니까? 오늘은 제가 얼마 전에 다녀온 남해 여행에 대한 추억을 나누고자 합니...   \n",
       "3    04:11  존경하는 여러분, 오늘은 인종차별이 이루어지면 안되는 이유에 대해 오 고찰하고자 합...   \n",
       "4    04:24  안녕하십니까 오늘은 영화나 드라마나, 영화 오늘은 영화나 드라마 등 문화 콘텐츠에서...   \n",
       "\n",
       "                                      script_tag_txt  word_cnt  \\\n",
       "0  안녕하십니까 여러분. 오늘은 e스포츠가 젊은이들에게 미치는 긍정적인 영향에 대해서 ...       308   \n",
       "1  안녕하세요 여러분 오늘은 저의 제주도 가족 여행에 대한 추억을 나누고자 합니다. 이...       369   \n",
       "2  안녕하십니까? 오늘은 제가 얼마 전에 다녀온 남해 여행에 대한 추억을 나누고자 합니...       351   \n",
       "3  존경하는 여러분, 오늘은 인종차별이 이루어지면 안되는 이유에 대해  <REP>오 고...       355   \n",
       "4  안녕하십니까  <REP>오늘은 영화나 드라마나, 영화 오늘은 영화나 드라마</REP...       390   \n",
       "\n",
       "   audible_word_cnt  sent_cnt  repeat_scr  filler_words_scr  pause_scr  \\\n",
       "0               303        26        4.90              4.85       4.85   \n",
       "1               335        30        1.05              4.85       4.80   \n",
       "2               334        30        4.00              4.80       4.85   \n",
       "3               336        27        4.90              4.90       4.80   \n",
       "4               385        24        1.35              4.90       4.85   \n",
       "\n",
       "   wrong_scr  voc_quality_scr  vor_speed_sec_scr  eval_grade  \\\n",
       "0       3.95             3.95               3.70         7.0   \n",
       "1       2.90             2.45               1.05         3.0   \n",
       "2       2.95             3.35               1.05         4.0   \n",
       "3       3.95             3.30               1.20         5.0   \n",
       "4       3.90             3.20               2.90         4.0   \n",
       "\n",
       "                                        filename                    file_stem  \\\n",
       "0  A03_S01_F_A_01_002_02_WA_MO_presentation.json  A03_S01_F_A_01_002_02_WA_MO   \n",
       "1  A03_S01_F_E_02_076_02_WA_MO_presentation.json  A03_S01_F_E_02_076_02_WA_MO   \n",
       "2  A03_S01_F_E_05_086_02_WA_MO_presentation.json  A03_S01_F_E_05_086_02_WA_MO   \n",
       "3  A03_S02_F_B_05_033_02_WA_MO_presentation.json  A03_S02_F_B_05_033_02_WA_MO   \n",
       "4  A03_S02_M_B_06_034_02_WA_MO_presentation.json  A03_S02_M_B_06_034_02_WA_MO   \n",
       "\n",
       "   video_exists  \n",
       "0          True  \n",
       "1          True  \n",
       "2          True  \n",
       "3          True  \n",
       "4          True  "
      ]
     },
     "execution_count": 19,
     "metadata": {},
     "output_type": "execute_result"
    }
   ],
   "source": [
    "# 라벨링 데이터 - 원본 데이터 매핑\n",
    "# 저장된 영상 파일 이름에 맞게 변환\n",
    "df_presentations[\"file_stem\"] = df_presentations[\"filename\"].apply(\n",
    "    lambda x: x.replace(\"_presentation.json\", \"\")\n",
    ")\n",
    "\n",
    "# 영상 파일 이름 추출\n",
    "video_dir = r\"C:\\Users\\USER\\Desktop\\동아리\\O.P.C\\프로젝트\\unzipped_영상_var\"\n",
    "video_files = {\n",
    "    os.path.splitext(f)[0]: f\n",
    "    for f in os.listdir(video_dir)\n",
    "    if f.lower().endswith(\".mp4\")\n",
    "}\n",
    "\n",
    "# 존재 여부 매핑\n",
    "df_presentations[\"video_exists\"] = df_presentations[\"file_stem\"].apply(\n",
    "    lambda stem: stem in video_files\n",
    ")\n",
    "\n",
    "# 매칭된 발표만 필터링\n",
    "df_matched = df_presentations[df_presentations[\"video_exists\"] == True].copy()\n",
    "\n",
    "print(f\"매칭된 발표 수: {len(df_matched)} / {len(df_presentations)}\")\n",
    "df_matched.head()"
   ]
  },
  {
   "cell_type": "code",
   "execution_count": 20,
   "id": "34c95e36-a675-4d90-8ada-d198d4c18f2d",
   "metadata": {},
   "outputs": [
    {
     "name": "stdout",
     "output_type": "stream",
     "text": [
      "Requirement already satisfied: opencv-python in c:\\users\\user\\anaconda3\\lib\\site-packages (4.11.0.86)\n",
      "Requirement already satisfied: numpy>=1.21.2 in c:\\users\\user\\anaconda3\\lib\\site-packages (from opencv-python) (1.26.4)\n"
     ]
    }
   ],
   "source": [
    "import sys\n",
    "!{sys.executable} -m pip install opencv-python"
   ]
  },
  {
   "cell_type": "code",
   "execution_count": 22,
   "id": "8301f903-239b-4b2e-b3e7-1cdba41694cb",
   "metadata": {},
   "outputs": [
    {
     "name": "stdout",
     "output_type": "stream",
     "text": [
      "10개 영상 점검 완료\n",
      "\n",
      "정상 - A03_S01_F_A_01_002_02_WA_MO.mp4\n",
      "정상 - A03_S01_F_E_02_076_02_WA_MO.mp4\n",
      "정상 - A03_S01_F_E_05_086_02_WA_MO.mp4\n",
      "정상 - A03_S02_F_B_05_033_02_WA_MO.mp4\n",
      "정상 - A03_S02_M_B_06_034_02_WA_MO.mp4\n",
      "정상 - A03_S02_M_D_01_057_02_WA_MO.mp4\n",
      "정상 - A03_S02_M_D_05_067_02_WA_MO.mp4\n",
      "정상 - A03_S02_M_D_05_068_02_WA_MO.mp4\n",
      "정상 - A03_S02_M_D_05_069_02_WA_MO.mp4\n",
      "정상 - A03_S02_M_D_06_071_02_WA_MO.mp4\n"
     ]
    }
   ],
   "source": [
    "# 영상 재생 여부 확인\n",
    "import cv2 # OpenCV 라이브러리 (영상 파일을 열고 프레임을 읽을 수 있음)\n",
    "\n",
    "video_dir = r\"C:\\Users\\USER\\Desktop\\동아리\\O.P.C\\프로젝트\\unzipped_영상_var\"\n",
    "video_paths = [os.path.join(video_dir, f) for f in os.listdir(video_dir) if f.endswith(\".mp4\")]\n",
    "\n",
    "results = []\n",
    "\n",
    "for path in video_paths:\n",
    "    filename = os.path.basename(path)\n",
    "    cap = cv2.VideoCapture(path)\n",
    "\n",
    "    if not cap.isOpened():\n",
    "        results.append((filename, \"열기 실패\"))\n",
    "        continue\n",
    "\n",
    "    ret, frame = cap.read()\n",
    "    if not ret:\n",
    "        results.append((filename, \"프레임 읽기 실패\"))\n",
    "    else:\n",
    "        results.append((filename, \"정상\"))\n",
    "\n",
    "    cap.release()\n",
    "\n",
    "print(f\"{len(results)}개 영상 점검 완료\\n\")\n",
    "for fname, status in results:\n",
    "    print(f\"{status} - {fname}\")"
   ]
  },
  {
   "cell_type": "code",
   "execution_count": 23,
   "id": "e72f568e-ad1d-49da-ac25-de6cbd11372c",
   "metadata": {},
   "outputs": [
    {
     "name": "stdout",
     "output_type": "stream",
     "text": [
      "Requirement already satisfied: moviepy in c:\\users\\user\\anaconda3\\lib\\site-packages (2.1.2)\n",
      "Requirement already satisfied: decorator<6.0,>=4.0.2 in c:\\users\\user\\anaconda3\\lib\\site-packages (from moviepy) (5.1.1)\n",
      "Requirement already satisfied: imageio<3.0,>=2.5 in c:\\users\\user\\anaconda3\\lib\\site-packages (from moviepy) (2.33.1)\n",
      "Requirement already satisfied: imageio_ffmpeg>=0.2.0 in c:\\users\\user\\anaconda3\\lib\\site-packages (from moviepy) (0.6.0)\n",
      "Requirement already satisfied: numpy>=1.25.0 in c:\\users\\user\\anaconda3\\lib\\site-packages (from moviepy) (1.26.4)\n",
      "Requirement already satisfied: proglog<=1.0.0 in c:\\users\\user\\anaconda3\\lib\\site-packages (from moviepy) (0.1.12)\n",
      "Requirement already satisfied: python-dotenv>=0.10 in c:\\users\\user\\anaconda3\\lib\\site-packages (from moviepy) (0.21.0)\n",
      "Requirement already satisfied: pillow<11.0,>=9.2.0 in c:\\users\\user\\anaconda3\\lib\\site-packages (from moviepy) (10.4.0)\n",
      "Requirement already satisfied: tqdm in c:\\users\\user\\anaconda3\\lib\\site-packages (from proglog<=1.0.0->moviepy) (4.66.5)\n",
      "Requirement already satisfied: colorama in c:\\users\\user\\anaconda3\\lib\\site-packages (from tqdm->proglog<=1.0.0->moviepy) (0.4.6)\n"
     ]
    }
   ],
   "source": [
    "!pip install moviepy"
   ]
  },
  {
   "cell_type": "code",
   "execution_count": 24,
   "id": "c46099b2-1770-4b48-ab1b-89292574c853",
   "metadata": {},
   "outputs": [],
   "source": [
    "from moviepy import VideoFileClip"
   ]
  },
  {
   "cell_type": "code",
   "execution_count": 25,
   "id": "9eaf826d-e77d-4c79-ba93-7aabc47c1ed9",
   "metadata": {},
   "outputs": [
    {
     "name": "stdout",
     "output_type": "stream",
     "text": [
      "{'video_found': True, 'audio_found': True, 'metadata': {'major_brand': 'isom', 'minor_version': '512', 'compatible_brands': 'isomiso2mp41', 'encoder': 'Lavf58.29.100'}, 'inputs': [{'streams': [{'input_number': 0, 'stream_number': 0, 'stream_type': 'video', 'language': None, 'default': True, 'size': [1920, 1080], 'bitrate': 2883, 'fps': 30.0, 'codec_name': 'mpeg4', 'profile': '(Simple Profile)', 'metadata': {'Metadata': '', 'handler_name': 'VideoHandler', 'vendor_id': '[0][0][0][0]'}}, {'input_number': 0, 'stream_number': 1, 'stream_type': 'audio', 'language': None, 'default': True, 'fps': 44100, 'bitrate': 128, 'metadata': {'Metadata': '', 'handler_name': 'SoundHandler', 'vendor_id': '[0][0][0][0]'}}], 'input_number': 0}], 'duration': 218.23, 'bitrate': 3018, 'start': 0.0, 'default_video_input_number': 0, 'default_video_stream_number': 0, 'video_codec_name': 'mpeg4', 'video_profile': '(Simple Profile)', 'video_size': [1920, 1080], 'video_bitrate': 2883, 'video_fps': 30.0, 'default_audio_input_number': 0, 'default_audio_stream_number': 1, 'audio_fps': 44100, 'audio_bitrate': 128, 'video_duration': 218.23, 'video_n_frames': 6546}\n",
      "C:\\Users\\USER\\anaconda3\\Lib\\site-packages\\imageio_ffmpeg\\binaries\\ffmpeg-win-x86_64-v7.1.exe -i C:\\Users\\USER\\Desktop\\동아리\\O.P.C\\프로젝트\\unzipped_영상_var\\A03_S01_F_A_01_002_02_WA_MO.mp4 -loglevel error -f image2pipe -vf scale=1920:1080 -sws_flags bicubic -pix_fmt rgb24 -vcodec rawvideo -\n",
      "MoviePy - Writing audio in ./wav\\A03_S01_F_A_01_002_02_WA_MO.wav\n"
     ]
    },
    {
     "name": "stderr",
     "output_type": "stream",
     "text": [
      "                                                                      \r"
     ]
    },
    {
     "name": "stdout",
     "output_type": "stream",
     "text": [
      "MoviePy - Done.\n",
      "변환 완료: A03_S01_F_A_01_002_02_WA_MO.wav\n",
      "{'video_found': True, 'audio_found': True, 'metadata': {'major_brand': 'isom', 'minor_version': '512', 'compatible_brands': 'isomiso2mp41', 'encoder': 'Lavf58.29.100'}, 'inputs': [{'streams': [{'input_number': 0, 'stream_number': 0, 'stream_type': 'video', 'language': None, 'default': True, 'size': [1920, 1080], 'bitrate': 2713, 'fps': 30.0, 'codec_name': 'mpeg4', 'profile': '(Simple Profile)', 'metadata': {'Metadata': '', 'handler_name': 'VideoHandler', 'vendor_id': '[0][0][0][0]'}}, {'input_number': 0, 'stream_number': 1, 'stream_type': 'audio', 'language': None, 'default': True, 'fps': 44100, 'bitrate': 128, 'metadata': {'Metadata': '', 'handler_name': 'SoundHandler', 'vendor_id': '[0][0][0][0]'}}], 'input_number': 0}], 'duration': 323.04, 'bitrate': 2848, 'start': 0.0, 'default_video_input_number': 0, 'default_video_stream_number': 0, 'video_codec_name': 'mpeg4', 'video_profile': '(Simple Profile)', 'video_size': [1920, 1080], 'video_bitrate': 2713, 'video_fps': 30.0, 'default_audio_input_number': 0, 'default_audio_stream_number': 1, 'audio_fps': 44100, 'audio_bitrate': 128, 'video_duration': 323.04, 'video_n_frames': 9691}\n",
      "C:\\Users\\USER\\anaconda3\\Lib\\site-packages\\imageio_ffmpeg\\binaries\\ffmpeg-win-x86_64-v7.1.exe -i C:\\Users\\USER\\Desktop\\동아리\\O.P.C\\프로젝트\\unzipped_영상_var\\A03_S01_F_E_02_076_02_WA_MO.mp4 -loglevel error -f image2pipe -vf scale=1920:1080 -sws_flags bicubic -pix_fmt rgb24 -vcodec rawvideo -\n",
      "MoviePy - Writing audio in ./wav\\A03_S01_F_E_02_076_02_WA_MO.wav\n"
     ]
    },
    {
     "name": "stderr",
     "output_type": "stream",
     "text": [
      "                                                                      \r"
     ]
    },
    {
     "name": "stdout",
     "output_type": "stream",
     "text": [
      "MoviePy - Done.\n",
      "변환 완료: A03_S01_F_E_02_076_02_WA_MO.wav\n",
      "{'video_found': True, 'audio_found': True, 'metadata': {'major_brand': 'isom', 'minor_version': '512', 'compatible_brands': 'isomiso2mp41', 'encoder': 'Lavf58.29.100'}, 'inputs': [{'streams': [{'input_number': 0, 'stream_number': 0, 'stream_type': 'video', 'language': None, 'default': True, 'size': [1920, 1080], 'bitrate': 2699, 'fps': 30.0, 'codec_name': 'mpeg4', 'profile': '(Simple Profile)', 'metadata': {'Metadata': '', 'handler_name': 'VideoHandler', 'vendor_id': '[0][0][0][0]'}}, {'input_number': 0, 'stream_number': 1, 'stream_type': 'audio', 'language': None, 'default': True, 'fps': 44100, 'bitrate': 128, 'metadata': {'Metadata': '', 'handler_name': 'SoundHandler', 'vendor_id': '[0][0][0][0]'}}], 'input_number': 0}], 'duration': 251.4, 'bitrate': 2835, 'start': 0.0, 'default_video_input_number': 0, 'default_video_stream_number': 0, 'video_codec_name': 'mpeg4', 'video_profile': '(Simple Profile)', 'video_size': [1920, 1080], 'video_bitrate': 2699, 'video_fps': 30.0, 'default_audio_input_number': 0, 'default_audio_stream_number': 1, 'audio_fps': 44100, 'audio_bitrate': 128, 'video_duration': 251.4, 'video_n_frames': 7542}\n",
      "C:\\Users\\USER\\anaconda3\\Lib\\site-packages\\imageio_ffmpeg\\binaries\\ffmpeg-win-x86_64-v7.1.exe -i C:\\Users\\USER\\Desktop\\동아리\\O.P.C\\프로젝트\\unzipped_영상_var\\A03_S01_F_E_05_086_02_WA_MO.mp4 -loglevel error -f image2pipe -vf scale=1920:1080 -sws_flags bicubic -pix_fmt rgb24 -vcodec rawvideo -\n",
      "MoviePy - Writing audio in ./wav\\A03_S01_F_E_05_086_02_WA_MO.wav\n"
     ]
    },
    {
     "name": "stderr",
     "output_type": "stream",
     "text": [
      "                                                                      \r"
     ]
    },
    {
     "name": "stdout",
     "output_type": "stream",
     "text": [
      "MoviePy - Done.\n",
      "변환 완료: A03_S01_F_E_05_086_02_WA_MO.wav\n",
      "{'video_found': True, 'audio_found': True, 'metadata': {'major_brand': 'isom', 'minor_version': '512', 'compatible_brands': 'isomiso2mp41', 'encoder': 'Lavf58.29.100'}, 'inputs': [{'streams': [{'input_number': 0, 'stream_number': 0, 'stream_type': 'video', 'language': None, 'default': True, 'size': [1920, 1080], 'bitrate': 10001, 'fps': 30.0, 'codec_name': 'mpeg4', 'profile': '(Simple Profile)', 'metadata': {'Metadata': '', 'handler_name': 'VideoHandler', 'vendor_id': '[0][0][0][0]'}}, {'input_number': 0, 'stream_number': 1, 'stream_type': 'audio', 'language': None, 'default': True, 'fps': 44100, 'bitrate': 129, 'metadata': {'Metadata': '', 'handler_name': 'SoundHandler', 'vendor_id': '[0][0][0][0]'}}], 'input_number': 0}], 'duration': 250.71, 'bitrate': 10137, 'start': 0.0, 'default_video_input_number': 0, 'default_video_stream_number': 0, 'video_codec_name': 'mpeg4', 'video_profile': '(Simple Profile)', 'video_size': [1920, 1080], 'video_bitrate': 10001, 'video_fps': 30.0, 'default_audio_input_number': 0, 'default_audio_stream_number': 1, 'audio_fps': 44100, 'audio_bitrate': 129, 'video_duration': 250.71, 'video_n_frames': 7521}\n",
      "C:\\Users\\USER\\anaconda3\\Lib\\site-packages\\imageio_ffmpeg\\binaries\\ffmpeg-win-x86_64-v7.1.exe -i C:\\Users\\USER\\Desktop\\동아리\\O.P.C\\프로젝트\\unzipped_영상_var\\A03_S02_F_B_05_033_02_WA_MO.mp4 -loglevel error -f image2pipe -vf scale=1920:1080 -sws_flags bicubic -pix_fmt rgb24 -vcodec rawvideo -\n",
      "MoviePy - Writing audio in ./wav\\A03_S02_F_B_05_033_02_WA_MO.wav\n"
     ]
    },
    {
     "name": "stderr",
     "output_type": "stream",
     "text": [
      "                                                                      \r"
     ]
    },
    {
     "name": "stdout",
     "output_type": "stream",
     "text": [
      "MoviePy - Done.\n",
      "변환 완료: A03_S02_F_B_05_033_02_WA_MO.wav\n",
      "{'video_found': True, 'audio_found': True, 'metadata': {'major_brand': 'isom', 'minor_version': '512', 'compatible_brands': 'isomiso2mp41', 'encoder': 'Lavf58.29.100'}, 'inputs': [{'streams': [{'input_number': 0, 'stream_number': 0, 'stream_type': 'video', 'language': None, 'default': True, 'size': [1920, 1080], 'bitrate': 3029, 'fps': 30.0, 'codec_name': 'mpeg4', 'profile': '(Simple Profile)', 'metadata': {'Metadata': '', 'handler_name': 'VideoHandler', 'vendor_id': '[0][0][0][0]'}}, {'input_number': 0, 'stream_number': 1, 'stream_type': 'audio', 'language': None, 'default': True, 'fps': 44100, 'bitrate': 128, 'metadata': {'Metadata': '', 'handler_name': 'SoundHandler', 'vendor_id': '[0][0][0][0]'}}], 'input_number': 0}], 'duration': 263.4, 'bitrate': 3164, 'start': 0.0, 'default_video_input_number': 0, 'default_video_stream_number': 0, 'video_codec_name': 'mpeg4', 'video_profile': '(Simple Profile)', 'video_size': [1920, 1080], 'video_bitrate': 3029, 'video_fps': 30.0, 'default_audio_input_number': 0, 'default_audio_stream_number': 1, 'audio_fps': 44100, 'audio_bitrate': 128, 'video_duration': 263.4, 'video_n_frames': 7901}\n",
      "C:\\Users\\USER\\anaconda3\\Lib\\site-packages\\imageio_ffmpeg\\binaries\\ffmpeg-win-x86_64-v7.1.exe -i C:\\Users\\USER\\Desktop\\동아리\\O.P.C\\프로젝트\\unzipped_영상_var\\A03_S02_M_B_06_034_02_WA_MO.mp4 -loglevel error -f image2pipe -vf scale=1920:1080 -sws_flags bicubic -pix_fmt rgb24 -vcodec rawvideo -\n",
      "MoviePy - Writing audio in ./wav\\A03_S02_M_B_06_034_02_WA_MO.wav\n"
     ]
    },
    {
     "name": "stderr",
     "output_type": "stream",
     "text": [
      "                                                                      \r"
     ]
    },
    {
     "name": "stdout",
     "output_type": "stream",
     "text": [
      "MoviePy - Done.\n",
      "변환 완료: A03_S02_M_B_06_034_02_WA_MO.wav\n",
      "{'video_found': True, 'audio_found': True, 'metadata': {'major_brand': 'isom', 'minor_version': '512', 'compatible_brands': 'isomiso2mp41', 'encoder': 'Lavf58.29.100'}, 'inputs': [{'streams': [{'input_number': 0, 'stream_number': 0, 'stream_type': 'video', 'language': None, 'default': True, 'size': [1920, 1080], 'bitrate': 3948, 'fps': 30.0, 'codec_name': 'mpeg4', 'profile': '(Simple Profile)', 'metadata': {'Metadata': '', 'handler_name': 'VideoHandler', 'vendor_id': '[0][0][0][0]'}}, {'input_number': 0, 'stream_number': 1, 'stream_type': 'audio', 'language': None, 'default': True, 'fps': 44100, 'bitrate': 128, 'metadata': {'Metadata': '', 'handler_name': 'SoundHandler', 'vendor_id': '[0][0][0][0]'}}], 'input_number': 0}], 'duration': 260.3, 'bitrate': 4084, 'start': 0.0, 'default_video_input_number': 0, 'default_video_stream_number': 0, 'video_codec_name': 'mpeg4', 'video_profile': '(Simple Profile)', 'video_size': [1920, 1080], 'video_bitrate': 3948, 'video_fps': 30.0, 'default_audio_input_number': 0, 'default_audio_stream_number': 1, 'audio_fps': 44100, 'audio_bitrate': 128, 'video_duration': 260.3, 'video_n_frames': 7809}\n",
      "C:\\Users\\USER\\anaconda3\\Lib\\site-packages\\imageio_ffmpeg\\binaries\\ffmpeg-win-x86_64-v7.1.exe -i C:\\Users\\USER\\Desktop\\동아리\\O.P.C\\프로젝트\\unzipped_영상_var\\A03_S02_M_D_01_057_02_WA_MO.mp4 -loglevel error -f image2pipe -vf scale=1920:1080 -sws_flags bicubic -pix_fmt rgb24 -vcodec rawvideo -\n",
      "MoviePy - Writing audio in ./wav\\A03_S02_M_D_01_057_02_WA_MO.wav\n"
     ]
    },
    {
     "name": "stderr",
     "output_type": "stream",
     "text": [
      "                                                                      \r"
     ]
    },
    {
     "name": "stdout",
     "output_type": "stream",
     "text": [
      "MoviePy - Done.\n",
      "변환 완료: A03_S02_M_D_01_057_02_WA_MO.wav\n",
      "{'video_found': True, 'audio_found': True, 'metadata': {'major_brand': 'isom', 'minor_version': '512', 'compatible_brands': 'isomiso2mp41', 'encoder': 'Lavf58.29.100'}, 'inputs': [{'streams': [{'input_number': 0, 'stream_number': 0, 'stream_type': 'video', 'language': None, 'default': True, 'size': [1920, 1080], 'bitrate': 2728, 'fps': 30.0, 'codec_name': 'mpeg4', 'profile': '(Simple Profile)', 'metadata': {'Metadata': '', 'handler_name': 'VideoHandler', 'vendor_id': '[0][0][0][0]'}}, {'input_number': 0, 'stream_number': 1, 'stream_type': 'audio', 'language': None, 'default': True, 'fps': 44100, 'bitrate': 126, 'metadata': {'Metadata': '', 'handler_name': 'SoundHandler', 'vendor_id': '[0][0][0][0]'}}], 'input_number': 0}], 'duration': 289.7, 'bitrate': 2861, 'start': 0.0, 'default_video_input_number': 0, 'default_video_stream_number': 0, 'video_codec_name': 'mpeg4', 'video_profile': '(Simple Profile)', 'video_size': [1920, 1080], 'video_bitrate': 2728, 'video_fps': 30.0, 'default_audio_input_number': 0, 'default_audio_stream_number': 1, 'audio_fps': 44100, 'audio_bitrate': 126, 'video_duration': 289.7, 'video_n_frames': 8691}\n",
      "C:\\Users\\USER\\anaconda3\\Lib\\site-packages\\imageio_ffmpeg\\binaries\\ffmpeg-win-x86_64-v7.1.exe -i C:\\Users\\USER\\Desktop\\동아리\\O.P.C\\프로젝트\\unzipped_영상_var\\A03_S02_M_D_05_067_02_WA_MO.mp4 -loglevel error -f image2pipe -vf scale=1920:1080 -sws_flags bicubic -pix_fmt rgb24 -vcodec rawvideo -\n",
      "MoviePy - Writing audio in ./wav\\A03_S02_M_D_05_067_02_WA_MO.wav\n"
     ]
    },
    {
     "name": "stderr",
     "output_type": "stream",
     "text": [
      "                                                                      \r"
     ]
    },
    {
     "name": "stdout",
     "output_type": "stream",
     "text": [
      "MoviePy - Done.\n",
      "변환 완료: A03_S02_M_D_05_067_02_WA_MO.wav\n",
      "{'video_found': True, 'audio_found': True, 'metadata': {'major_brand': 'isom', 'minor_version': '512', 'compatible_brands': 'isomiso2mp41', 'encoder': 'Lavf58.29.100'}, 'inputs': [{'streams': [{'input_number': 0, 'stream_number': 0, 'stream_type': 'video', 'language': None, 'default': True, 'size': [1920, 1080], 'bitrate': 4658, 'fps': 30.0, 'codec_name': 'mpeg4', 'profile': '(Simple Profile)', 'metadata': {'Metadata': '', 'handler_name': 'VideoHandler', 'vendor_id': '[0][0][0][0]'}}, {'input_number': 0, 'stream_number': 1, 'stream_type': 'audio', 'language': None, 'default': True, 'fps': 44100, 'bitrate': 125, 'metadata': {'Metadata': '', 'handler_name': 'SoundHandler', 'vendor_id': '[0][0][0][0]'}}], 'input_number': 0}], 'duration': 264.13, 'bitrate': 4791, 'start': 0.0, 'default_video_input_number': 0, 'default_video_stream_number': 0, 'video_codec_name': 'mpeg4', 'video_profile': '(Simple Profile)', 'video_size': [1920, 1080], 'video_bitrate': 4658, 'video_fps': 30.0, 'default_audio_input_number': 0, 'default_audio_stream_number': 1, 'audio_fps': 44100, 'audio_bitrate': 125, 'video_duration': 264.13, 'video_n_frames': 7923}\n",
      "C:\\Users\\USER\\anaconda3\\Lib\\site-packages\\imageio_ffmpeg\\binaries\\ffmpeg-win-x86_64-v7.1.exe -i C:\\Users\\USER\\Desktop\\동아리\\O.P.C\\프로젝트\\unzipped_영상_var\\A03_S02_M_D_05_068_02_WA_MO.mp4 -loglevel error -f image2pipe -vf scale=1920:1080 -sws_flags bicubic -pix_fmt rgb24 -vcodec rawvideo -\n",
      "MoviePy - Writing audio in ./wav\\A03_S02_M_D_05_068_02_WA_MO.wav\n"
     ]
    },
    {
     "name": "stderr",
     "output_type": "stream",
     "text": [
      "                                                                      \r"
     ]
    },
    {
     "name": "stdout",
     "output_type": "stream",
     "text": [
      "MoviePy - Done.\n",
      "변환 완료: A03_S02_M_D_05_068_02_WA_MO.wav\n",
      "{'video_found': True, 'audio_found': True, 'metadata': {'major_brand': 'isom', 'minor_version': '512', 'compatible_brands': 'isomiso2mp41', 'encoder': 'Lavf58.29.100'}, 'inputs': [{'streams': [{'input_number': 0, 'stream_number': 0, 'stream_type': 'video', 'language': None, 'default': True, 'size': [1920, 1080], 'bitrate': 3589, 'fps': 30.0, 'codec_name': 'mpeg4', 'profile': '(Simple Profile)', 'metadata': {'Metadata': '', 'handler_name': 'VideoHandler', 'vendor_id': '[0][0][0][0]'}}, {'input_number': 0, 'stream_number': 1, 'stream_type': 'audio', 'language': None, 'default': True, 'fps': 44100, 'bitrate': 128, 'metadata': {'Metadata': '', 'handler_name': 'SoundHandler', 'vendor_id': '[0][0][0][0]'}}], 'input_number': 0}], 'duration': 232.03, 'bitrate': 3724, 'start': 0.0, 'default_video_input_number': 0, 'default_video_stream_number': 0, 'video_codec_name': 'mpeg4', 'video_profile': '(Simple Profile)', 'video_size': [1920, 1080], 'video_bitrate': 3589, 'video_fps': 30.0, 'default_audio_input_number': 0, 'default_audio_stream_number': 1, 'audio_fps': 44100, 'audio_bitrate': 128, 'video_duration': 232.03, 'video_n_frames': 6960}\n",
      "C:\\Users\\USER\\anaconda3\\Lib\\site-packages\\imageio_ffmpeg\\binaries\\ffmpeg-win-x86_64-v7.1.exe -i C:\\Users\\USER\\Desktop\\동아리\\O.P.C\\프로젝트\\unzipped_영상_var\\A03_S02_M_D_05_069_02_WA_MO.mp4 -loglevel error -f image2pipe -vf scale=1920:1080 -sws_flags bicubic -pix_fmt rgb24 -vcodec rawvideo -\n",
      "MoviePy - Writing audio in ./wav\\A03_S02_M_D_05_069_02_WA_MO.wav\n"
     ]
    },
    {
     "name": "stderr",
     "output_type": "stream",
     "text": [
      "                                                                      \r"
     ]
    },
    {
     "name": "stdout",
     "output_type": "stream",
     "text": [
      "MoviePy - Done.\n",
      "변환 완료: A03_S02_M_D_05_069_02_WA_MO.wav\n",
      "{'video_found': True, 'audio_found': True, 'metadata': {'major_brand': 'isom', 'minor_version': '512', 'compatible_brands': 'isomiso2mp41', 'encoder': 'Lavf58.29.100'}, 'inputs': [{'streams': [{'input_number': 0, 'stream_number': 0, 'stream_type': 'video', 'language': None, 'default': True, 'size': [1920, 1080], 'bitrate': 2742, 'fps': 30.0, 'codec_name': 'mpeg4', 'profile': '(Simple Profile)', 'metadata': {'Metadata': '', 'handler_name': 'VideoHandler', 'vendor_id': '[0][0][0][0]'}}, {'input_number': 0, 'stream_number': 1, 'stream_type': 'audio', 'language': None, 'default': True, 'fps': 44100, 'bitrate': 128, 'metadata': {'Metadata': '', 'handler_name': 'SoundHandler', 'vendor_id': '[0][0][0][0]'}}], 'input_number': 0}], 'duration': 288.6, 'bitrate': 2877, 'start': 0.0, 'default_video_input_number': 0, 'default_video_stream_number': 0, 'video_codec_name': 'mpeg4', 'video_profile': '(Simple Profile)', 'video_size': [1920, 1080], 'video_bitrate': 2742, 'video_fps': 30.0, 'default_audio_input_number': 0, 'default_audio_stream_number': 1, 'audio_fps': 44100, 'audio_bitrate': 128, 'video_duration': 288.6, 'video_n_frames': 8658}\n",
      "C:\\Users\\USER\\anaconda3\\Lib\\site-packages\\imageio_ffmpeg\\binaries\\ffmpeg-win-x86_64-v7.1.exe -i C:\\Users\\USER\\Desktop\\동아리\\O.P.C\\프로젝트\\unzipped_영상_var\\A03_S02_M_D_06_071_02_WA_MO.mp4 -loglevel error -f image2pipe -vf scale=1920:1080 -sws_flags bicubic -pix_fmt rgb24 -vcodec rawvideo -\n",
      "MoviePy - Writing audio in ./wav\\A03_S02_M_D_06_071_02_WA_MO.wav\n"
     ]
    },
    {
     "name": "stderr",
     "output_type": "stream",
     "text": [
      "                                                                      "
     ]
    },
    {
     "name": "stdout",
     "output_type": "stream",
     "text": [
      "MoviePy - Done.\n",
      "변환 완료: A03_S02_M_D_06_071_02_WA_MO.wav\n"
     ]
    },
    {
     "name": "stderr",
     "output_type": "stream",
     "text": [
      "\r"
     ]
    }
   ],
   "source": [
    "# 비디오 - 오디오 변환\n",
    "video_dir = r\"C:\\Users\\USER\\Desktop\\동아리\\O.P.C\\프로젝트\\unzipped_영상_var\"\n",
    "output_dir = \"./wav\"\n",
    "os.makedirs(output_dir, exist_ok=True)\n",
    "\n",
    "for idx, row in df_matched.iterrows():\n",
    "    stem = row[\"file_stem\"]\n",
    "    mp4_path = os.path.join(video_dir, f\"{stem}.mp4\")\n",
    "    wav_path = os.path.join(output_dir, f\"{stem}.wav\")\n",
    "    \n",
    "    try:\n",
    "        video = VideoFileClip(mp4_path)\n",
    "        video.audio.write_audiofile(wav_path, codec='pcm_s16le')  # wav 포맷\n",
    "        print(f\"변환 완료: {stem}.wav\")\n",
    "    except Exception as e:\n",
    "        print(f\"변환 실패: {stem} - {e}\")"
   ]
  },
  {
   "cell_type": "code",
   "execution_count": null,
   "id": "c31a8808-dbc1-4e45-8e40-1915d8fa93cf",
   "metadata": {},
   "outputs": [],
   "source": []
  }
 ],
 "metadata": {
  "kernelspec": {
   "display_name": "Python [conda env:base] *",
   "language": "python",
   "name": "conda-base-py"
  },
  "language_info": {
   "codemirror_mode": {
    "name": "ipython",
    "version": 3
   },
   "file_extension": ".py",
   "mimetype": "text/x-python",
   "name": "python",
   "nbconvert_exporter": "python",
   "pygments_lexer": "ipython3",
   "version": "3.12.7"
  }
 },
 "nbformat": 4,
 "nbformat_minor": 5
}
